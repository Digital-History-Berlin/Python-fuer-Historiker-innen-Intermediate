{
 "cells": [
  {
   "attachments": {},
   "cell_type": "markdown",
   "metadata": {},
   "source": [
    "# Einführung in Pandas\n",
    "\n",
    "Für die folgenden Einführung nutzen wir einen Auszug aus den Daten, die wir im nächsten Abschnitt dann selbstständig sammeln und aufbereiten werden. Hier nutzen wir diese Daten, um in die grundlegenden Funktionen von pandas einzusteigen.\n",
    "\n",
    "## Import\n",
    "\n",
    "Wir haben die ``import``-Anweisung ergänzt um ``as pd``. Sie können alle Bibliotheken beim Importieren mit dem Schlüsselwort ``as`` umbenennen. Für *pandas* hat es sich etabliert, die Bibliothek als *pd* zu importieren. Das ist einfach eine Konvention geworden. Das Umbenennen von externen Bibliotheken beim Import ist besonders dann sinnvoll, wenn die Namen der Bibliotheken sehr lang sind. Beim Aufruf der jeweiligen Funktionen erspart einem das ein wenig Schreibarbeit.\n",
    "\n",
    "Haben wir pandas nun erfolgreich importiert, können wir auf alle Funktionalitäten und Datenstrukturen zugreifen. Das werden wir uns direkt mit unserem Datensatz genauer anschauen.\n",
    "\n",
    ":::{index} single: Bibliothek ; pandas\n",
    ":name: pandas_\n",
    ":::"
   ]
  },
  {
   "cell_type": "code",
   "execution_count": null,
   "metadata": {},
   "outputs": [],
   "source": [
    "import pandas as pd"
   ]
  },
  {
   "attachments": {},
   "cell_type": "markdown",
   "metadata": {},
   "source": [
    "Daten, die in einer CSV-Datei vorliegen, können auf die Weise einfach in einen Dataframe eingelesen werden. In der folgenden Zelle rufen wir mit ``pd.read_csv()`` ([zur Dokumentation](https://pandas.pydata.org/docs/reference/api/pandas.read_csv.html#pandas.read_csv)) die in Pandas enthaltene Funktion zum Einlesen einer CSV-Datei auf und wandeln unsere Daten zugleich in ein ``DataFrame``-Objekt um. {term}`Dataframes` und {term}`Series` sind die Datenstrukturen, mit denen am meisten gearbeitet wird. \n",
    "\n",
    "Pandas unterstützt den Import zahlreicher Dateiformate; alle entsprechenden Funktionen beginnen mit dem Präfix ``read_``. Es gibt weitere Möglichkeiten, Daten aus einer `list`, einem `dictionary` oder aus anderen Dateiformaten wie `json` oder `xml` einzulesen. Wenn Sie die Dokumentation zu dieser Funktion aufrufen, dann sehen Sie, dass wir eine ganze Reihe von Parametern optional spezifieren können. Der hier beim Einlesen übergebene {term}`Parameter` *parse_dates* wandelt diese Datenspalte in ein datetime-Objekt um - auf diese Weise können datumspezifische Operationen leicht durchgeführt werden.\n",
    "\n",
    "Notwendig ist die Angabe des Dateinamen bzw. -pfads. Optional ergänzen wir die Angabe zur Kodierung. Standardmäßig wird angenommen, dass unser {term}`Delimiter`, das Trennzeichen, ein Komma ist und dass die erste Zeile der CSV die Spaltenüberschriften repräsentiert.\n",
    "\n",
    ":::{index} single: pandas ; read_csv()\n",
    ":name: read_csv_\n",
    ":::"
   ]
  },
  {
   "cell_type": "code",
   "execution_count": null,
   "metadata": {},
   "outputs": [],
   "source": [
    "df = pd.read_csv('data/AvH-letters-subset.csv', encoding='utf8', parse_dates=['date'])"
   ]
  },
  {
   "attachments": {},
   "cell_type": "markdown",
   "metadata": {},
   "source": [
    "## Daten inspizieren\n",
    "\n",
    "Als nächstes lassen wir uns die ersten  fünf Zeilen unseres Datenkorpus anzeigen. Das reicht aus, um zu prüfen, ob die Daten korrekt importiert wurden. Das sollte man immer machen, wenn man einen neuen Datensatz in Pandas öffnet.\n",
    "\n",
    "Außerdem wenden wir das für ``DataFrame``-Objekte verfügbare Attribut ``shape`` ([zur Dokumentation](https://pandas.pydata.org/pandas-docs/stable/reference/api/pandas.DataFrame.shape.html)) auf unser Datenkorpus an. Diese Methode gibt ein Tupel zurück, das Aufschluss über die Ausmaße der Dimensionalität unseres Dataframes gibt. Das erste Element repräsentiert gewissermaßen die Zeilen und das zweite Element die Spalten. Beachten Sie hierbei den Unterschied zu Funktionen: Bei Attributen benötigen Sie keine runden Klammern, denn Attribute repräsentieren Eigenschaften eines Objektes, während Funktionen etwas mit dem Objekt machen und dafür ggf. weitere Parameter benötigen. Mit `df.head()` zeigen wir die ersten fünf Zeilen an.\n",
    "\n",
    ":::{index} single: pandas ; shape\n",
    ":name: shape_\n",
    ":::\n",
    "\n",
    ":::{index} single: pandas ; head()\n",
    ":name: head_\n",
    ":::"
   ]
  },
  {
   "cell_type": "code",
   "execution_count": null,
   "metadata": {},
   "outputs": [],
   "source": [
    "print(df.shape)\n",
    "print(f'Der Dataframe hat {df.shape[0]} Zeilen und {df.shape[1]} Spalten.')\n",
    "df.head()"
   ]
  },
  {
   "attachments": {},
   "cell_type": "markdown",
   "metadata": {},
   "source": [
    "Um schließlich noch einen Überblick über die Spalten (*columns*) zu erhalten, können wir das Attribut ``columns`` für unseren Dataframe verwenden. Werden die zurückgegebenen Werte einer Variablen zugewiesen, dann können Sie auch leicht mit dieser Information weiterarbeiten:\n",
    "\n",
    ":::{index} single: pandas ; columns\n",
    ":name: columns_\n",
    ":::"
   ]
  },
  {
   "cell_type": "code",
   "execution_count": null,
   "metadata": {},
   "outputs": [],
   "source": [
    "df.columns"
   ]
  },
  {
   "attachments": {},
   "cell_type": "markdown",
   "metadata": {},
   "source": [
    "Und sehr nützlich: Jede der einzelnen Spalten ist zugleich ein Attribut des DataFrame-Objekts. Das heißt, Sie können den Spaltennamen direkt an unsere Variable für das DataFrame-Objekt anhängen und erhalten die Inhalte der jeweiligen Spalte als ``Series``-Objekt zurück, um die Informationen auf eine beliebige Art und Weise weiterzuverarbeiten."
   ]
  },
  {
   "cell_type": "code",
   "execution_count": null,
   "metadata": {},
   "outputs": [],
   "source": [
    "df.loc[:, 'sender']"
   ]
  },
  {
   "attachments": {},
   "cell_type": "markdown",
   "metadata": {},
   "source": [
    "Wir können uns unsere Daten natürlich auch etwas genauer anzeigen lassen und konkretisieren, welche Bereiche wir in den Blick nehmen wollen.\n",
    "\n",
    "Mit der Funktion ``head()`` lassen wir uns die ersten *n* Zeilen anzeigen (aber nicht alle Spalten):"
   ]
  },
  {
   "cell_type": "code",
   "execution_count": null,
   "metadata": {},
   "outputs": [],
   "source": [
    "df.head(10)"
   ]
  },
  {
   "attachments": {},
   "cell_type": "markdown",
   "metadata": {},
   "source": [
    "Der Konterpart dazu ist die Funktion ``tail()``, mit der Sie die letzten *n* Zeilen des Datensatzes ausgeben können:\n",
    "\n",
    ":::{index} single: pandas ; tail()\n",
    ":name: tail_\n",
    ":::"
   ]
  },
  {
   "cell_type": "code",
   "execution_count": null,
   "metadata": {},
   "outputs": [],
   "source": [
    "df.tail(10)"
   ]
  },
  {
   "attachments": {},
   "cell_type": "markdown",
   "metadata": {},
   "source": [
    "Um einen kompletten Überblick über ein Datenkorpus zu bekommen und beispielsweise auch zu prüfen, wie pandas die in den einzelnen Spalten enthaltenen Datentypen interpretiert hat, rufen wir die Funktion ``info()`` auf.\n",
    "\n",
    "Grundsätzlich bestätigt uns die erste Zeile des Outputs zunächst einmal, dass es sich tatsächlich um ein DataFrame-Objekt handelt. Dieses DataFrame-Objekt besteht aus *n* Einträgen (= Zeilen) mit einer Index-Spanne von *n* zu *n* (hier 0 bis 49). Jede Zeile unseres Korpus lässt sich also über eine Indexposition ansteuern. Ferner erhalten wir eine Information darüber, wie viele Spalten die Tabelle enthält, hier 9. Viele der Spalten enthalten in jeder Zeile Werte. Einige der Spalten haben aber auch eine sehr viel größere Anzahl leerer Datenfelder. Die meisten unserer Spalten enthalten Daten vom Datentyp *string* (hier: *object*). Lediglich die Spalte ``date`` wird als Datetime (*datetime64*) interpretiert. In der vorletzten Zeile erhalten wir noch einmal eine Zusammenfassung der in unserem DataFrame enthaltenen Datentypen. Die letzte Zeile gibt Aufschluss über die benötigten Arbeitsspeicher-Ressourcen, die für das Speichern des DataFrames benötigt werden.\n",
    "\n",
    ":::{index} single: pandas ; info()\n",
    ":name: info_\n",
    ":::"
   ]
  },
  {
   "cell_type": "code",
   "execution_count": null,
   "metadata": {},
   "outputs": [],
   "source": [
    "df.info()"
   ]
  },
  {
   "attachments": {},
   "cell_type": "markdown",
   "metadata": {},
   "source": [
    "Wir können checken, wie viele Zellen in den jeweiligen Spalten keine Werte enthalten.\n",
    "\n",
    ":::{index} single: pandas ; isna().sum()\n",
    ":name: isna_sum_\n",
    ":::"
   ]
  },
  {
   "cell_type": "code",
   "execution_count": null,
   "metadata": {},
   "outputs": [],
   "source": [
    "df.isna().sum()"
   ]
  },
  {
   "attachments": {},
   "cell_type": "markdown",
   "metadata": {},
   "source": [
    "DataFrame-Objekte verfügen noch über eine ganze Reihe weiterer Attribute und Funktionen. Am besten überfliegen Sie einmal die [Dokumentation](https://pandas.pydata.org/pandas-docs/stable/reference/frame.html) und probieren das ein oder andere aus, um ein Gefühl für die Möglichkeiten zu bekommen. Die Dokumentation sollte man ohnehin immer schnell zur Hand haben, denn niemand merkt sich alle Befehle, auch die besten Programmierer:innen müssen manchmal noch grundlegende Aspekte wieder nachschlagen. Wichtig ist, dass Sie wissen, wo Sie fündig werden und eine ungefähre Idee davon haben, was eine Bibliothek kann. Sie müssen nicht alles auswendig lernen."
   ]
  },
  {
   "attachments": {},
   "cell_type": "markdown",
   "metadata": {},
   "source": [
    "### Auswählen von Spalten\n",
    "\n",
    "Eine einzelne Spalte eines Dataframes wird bei Pandas als *Series* bezeichnet. Auf Series kann man eigene spezifische Methoden anwenden. Es gibt verschiedene Schreibweisen, um eine Spalte auszuwählen.  Wir zeigen hier verschiedene Möglichkeiten, wie die Auswahl von Spalten erfolgen kann. Sicherlich werden Sie auf diese Varianten treffen, wenn Sie den Code anderer lesen. Wir werden in diesem Jupyter Book die beiden letzten Optionen mit `iloc` und `loc` nutzen. Dies ist die beste Option und expliziteste Schreibweise, um Komplikationen bei einer möglichen Doppelbenennung von Spaltennamen und Python-Keywords zu verhindern.\n",
    "```python\n",
    "df.loc[zeile, spalte]\n",
    "```\n",
    ":::{index} single: pandas ; loc()\n",
    ":name: loc_\n",
    ":::\n",
    "\n",
    ":::{index} single: pandas ; iloc()\n",
    ":name: iloc_\n",
    ":::"
   ]
  },
  {
   "cell_type": "code",
   "execution_count": null,
   "metadata": {},
   "outputs": [],
   "source": [
    "df['sender']"
   ]
  },
  {
   "cell_type": "code",
   "execution_count": null,
   "metadata": {},
   "outputs": [],
   "source": [
    "df.sender"
   ]
  },
  {
   "cell_type": "code",
   "execution_count": null,
   "metadata": {},
   "outputs": [],
   "source": [
    "df.iloc[:, 3]"
   ]
  },
  {
   "cell_type": "code",
   "execution_count": null,
   "metadata": {},
   "outputs": [],
   "source": [
    "df.loc[:, 'sender']"
   ]
  },
  {
   "attachments": {},
   "cell_type": "markdown",
   "metadata": {},
   "source": [
    "### einzelne Zellen auswählen"
   ]
  },
  {
   "cell_type": "code",
   "execution_count": null,
   "metadata": {},
   "outputs": [],
   "source": [
    "df.loc[0, 'sender']"
   ]
  },
  {
   "cell_type": "code",
   "execution_count": null,
   "metadata": {},
   "outputs": [],
   "source": [
    "df.iloc[0, 3]"
   ]
  },
  {
   "cell_type": "code",
   "execution_count": null,
   "metadata": {},
   "outputs": [],
   "source": [
    "# Ausgabe der ersten fünf Zeilen der Spalte sender\n",
    "df.loc[0:5, 'sender']"
   ]
  },
  {
   "cell_type": "code",
   "execution_count": null,
   "metadata": {},
   "outputs": [],
   "source": [
    "# Ausgabe der ersten Zeile\n",
    "df.loc[0, :]"
   ]
  },
  {
   "attachments": {},
   "cell_type": "markdown",
   "metadata": {},
   "source": [
    "### Kategorische Daten"
   ]
  },
  {
   "cell_type": "markdown",
   "metadata": {},
   "source": [
    "Wir können die Anzahl der mindestens einmal auftretenden Werte einer Spalte sowie diese Werte selbst ausgeben. Auch eine Übersicht über die Topwerte dieser kategorischen Datenspalte ist möglich.\n",
    "\n",
    ":::{index} single: pandas ; nunique()\n",
    ":name: nunique_\n",
    ":::\n",
    "\n",
    ":::{index} single: pandas ; unique()\n",
    ":name: unique_\n",
    ":::\n",
    "\n",
    ":::{index} single: pandas ; describe()\n",
    ":name: describe_\n",
    ":::"
   ]
  },
  {
   "cell_type": "code",
   "execution_count": null,
   "metadata": {},
   "outputs": [],
   "source": [
    "df.loc[: , 'sender'].nunique()"
   ]
  },
  {
   "cell_type": "code",
   "execution_count": null,
   "metadata": {},
   "outputs": [],
   "source": [
    "df.loc[: , 'sender'].unique()"
   ]
  },
  {
   "cell_type": "code",
   "execution_count": null,
   "metadata": {},
   "outputs": [],
   "source": [
    "df.loc[: , 'sender'].describe()"
   ]
  },
  {
   "cell_type": "markdown",
   "metadata": {},
   "source": [
    "- *unique:* Die Anzahl der einzigartigen Werte in der Spalte. (kann auf Redundanzen hinweisen!)\n",
    "- *top:* Der häufigste Wert in der Spalte. \n",
    "- *freq:* Die Häufigkeit (Anzahl der Vorkommen) des häufigsten Wertes."
   ]
  },
  {
   "attachments": {},
   "cell_type": "markdown",
   "metadata": {},
   "source": [
    "## Erstellen einer neuen Spalte\n",
    "\n",
    "Neue Spalten können dem Dataframe leicht hinzugefügt werden. Wir werden zwei Spalten erstellen, die im konkreten Fall nicht unbedingt Aussagekraft besitzen; das ist bei diesem Beispeil auch nicht gewollt. Ein Vorgehen sieht wie folgt aus:"
   ]
  },
  {
   "cell_type": "code",
   "execution_count": null,
   "metadata": {},
   "outputs": [],
   "source": [
    "# zusammensetzen von zwei Spalten\n",
    "df.loc[:, 'sender_to_receiver'] = df.loc[:, 'sender'] + ' => ' + df.loc[:, 'receiver']"
   ]
  },
  {
   "cell_type": "code",
   "execution_count": null,
   "metadata": {},
   "outputs": [],
   "source": [
    "# Wert für neue Spalte berechnen\n",
    "df.loc[:, 'length_sender_name'] = df.loc[:, 'sender'].apply(len)"
   ]
  },
  {
   "cell_type": "code",
   "execution_count": null,
   "metadata": {},
   "outputs": [],
   "source": [
    "print(df.info())\n",
    "df.head(5)\n"
   ]
  },
  {
   "attachments": {},
   "cell_type": "markdown",
   "metadata": {},
   "source": [
    "## Abfragen mit boolscher Maske\n",
    "\n",
    ":::{index} Boolesche Maske\n",
    ":name: boolesche_maske\n",
    ":::\n",
    "\n",
    ":::{index} single: pandas ; str.contains()\n",
    ":name: str_contains_\n",
    ":::\n",
    "\n",
    "Mit der Hilfe von Maskierung, d.h. mit der Angabe `True` bzw. `False` bei einer bestimmten Abfrage, kann der Dataframe auf Grundlage dieser Abfrage gefiltert werden. Die zwei Beispiele sollen die Funktionsweise veranschaulichen.\n",
    "\n",
    "Wie oft kommt das Adelsprädikat 'von' in den Namen der Briefempfänger vor?"
   ]
  },
  {
   "cell_type": "code",
   "execution_count": null,
   "metadata": {},
   "outputs": [],
   "source": [
    "query = df.loc[:, 'receiver'].str.contains('von').sum()\n",
    "print(query)"
   ]
  },
  {
   "cell_type": "code",
   "execution_count": null,
   "metadata": {},
   "outputs": [],
   "source": [
    "mask = df.loc[:, 'receiver'].str.contains('von')\n",
    "df_von = df.loc[mask, :]\n",
    "\n",
    "df_von.loc[:, 'receiver'].head()"
   ]
  },
  {
   "cell_type": "markdown",
   "metadata": {},
   "source": [
    "Wie oft ist 'Bayreuth' der Wert für den Ortsname in der Spalte `place`?"
   ]
  },
  {
   "cell_type": "code",
   "execution_count": null,
   "metadata": {},
   "outputs": [],
   "source": [
    "mask = df.loc[:, 'place'] == 'Bayreuth'\n",
    "df_place = df.loc[mask, :]\n",
    "\n",
    "print(df_place.shape[0])\n",
    "df_place.loc[:, 'place'].head(7)"
   ]
  }
 ],
 "metadata": {
  "kernelspec": {
   "display_name": "base",
   "language": "python",
   "name": "python3"
  },
  "language_info": {
   "codemirror_mode": {
    "name": "ipython",
    "version": 3
   },
   "file_extension": ".py",
   "mimetype": "text/x-python",
   "name": "python",
   "nbconvert_exporter": "python",
   "pygments_lexer": "ipython3",
   "version": "3.8.12"
  },
  "orig_nbformat": 4
 },
 "nbformat": 4,
 "nbformat_minor": 2
}
