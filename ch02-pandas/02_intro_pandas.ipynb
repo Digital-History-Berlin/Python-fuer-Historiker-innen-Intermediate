{
 "cells": [
  {
   "attachments": {},
   "cell_type": "markdown",
   "metadata": {},
   "source": [
    "# Einführung in Pandas\n",
    "\n",
    "Für die folgenden Einführung nutzen wir einen Auszug aus den Daten, die wir im nächsten Abschnitt dann selbstständig sammeln und aufbereiten werden. Hier nutzen wir diese Daten, um in die grundlegenden Funktionen von Pandas einzusteigen.\n",
    "\n",
    "\n",
    "## Import\n",
    "\n",
    "Wir haben die ``import``-Anweisung ergänzt um ``as pd``. Sie können alle Bibliotheken beim Importieren mit dem Schlüsselwort ``as`` umbenennen. Für *pandas* hat es sich etabliert, die Bibliothek als *pd* zu importieren. Das ist einfach eine Konvention geworden. Das Umbenennen von externen Bibliotheken beim Import ist besonders dann sinnvoll, wenn die Namen der Bibliotheken sehr lang sind. Beim Aufruf der jeweiligen Funktionen erspart einem das ein wenig Schreibarbeit.\n",
    "\n",
    "Haben wir Pandas nun erfolgreich importiert, können wir auf alle Funktionalitäten und Datenstrukturen zugreifen. Das werden wir uns direkt mit unserem Datensatz genauer anschauen."
   ]
  },
  {
   "cell_type": "code",
   "execution_count": 69,
   "metadata": {},
   "outputs": [],
   "source": [
    "import pandas as pd"
   ]
  },
  {
   "attachments": {},
   "cell_type": "markdown",
   "metadata": {},
   "source": [
    "In der folgenden Zelle rufen wir mit ``pd.read_csv()`` ([zur Dokumentation](https://pandas.pydata.org/docs/reference/api/pandas.read_csv.html#pandas.read_csv)) die in Pandas enthaltene Funktion zum Einlesen einer CSV-Datei auf und wandeln unsere Daten zugleich in ein ``DataFrame``-Objekt um. Pandas unterstützt den Import zahlreicher Dateiformate (z.B. Excel oder JSON); alle entsprechenden Funktionen beginnen mit dem Präfix ``read_``. Wenn Sie die Dokumentation zu dieser Funktion aufrufen, dann sehen Sie, dass wir eine ganze Reihe von Parametern optional spezifieren können. Notwendig ist die Angabe des Dateinamen bzw. -pfads. Optional ergänzen wir die Angabe zur Kodierung. Standardmäßig wird angenommen, dass unser Delimiter ein Komma ist und dass die erste Zeile der CSV die Spaltenüberschriften repräsentiert."
   ]
  },
  {
   "cell_type": "code",
   "execution_count": 70,
   "metadata": {},
   "outputs": [],
   "source": [
    "df = pd.read_csv('AvH-letters-subset.csv', parse_dates=['date'])"
   ]
  },
  {
   "attachments": {},
   "cell_type": "markdown",
   "metadata": {},
   "source": [
    "## Daten inspizieren\n",
    "\n",
    "Als nächstes lassen wir uns die Anzahl der Zeilen und Spalten des Dataframes ausgeben. Ferner werden die ersten und letzten fünf Zeilen unseres Datenkorpus angezeigt sowie ausschnittweise die ersten und letzten Spalten. Das reicht aus, um zu prüfen, ob die Daten korrekt importiert wurden. Das sollte man immer machen, wenn man einen neuen Datensatz in Pandas öffnet."
   ]
  },
  {
   "cell_type": "code",
   "execution_count": 71,
   "metadata": {},
   "outputs": [
    {
     "name": "stdout",
     "output_type": "stream",
     "text": [
      "(50, 9)\n",
      "Der Dataframe hat 50 Zeilen und 9 Spalten.\n"
     ]
    },
    {
     "data": {
      "text/html": [
       "<div>\n",
       "<style scoped>\n",
       "    .dataframe tbody tr th:only-of-type {\n",
       "        vertical-align: middle;\n",
       "    }\n",
       "\n",
       "    .dataframe tbody tr th {\n",
       "        vertical-align: top;\n",
       "    }\n",
       "\n",
       "    .dataframe thead th {\n",
       "        text-align: right;\n",
       "    }\n",
       "</style>\n",
       "<table border=\"1\" class=\"dataframe\">\n",
       "  <thead>\n",
       "    <tr style=\"text-align: right;\">\n",
       "      <th></th>\n",
       "      <th>reference</th>\n",
       "      <th>edition_id</th>\n",
       "      <th>sender_id</th>\n",
       "      <th>sender</th>\n",
       "      <th>receiver_id</th>\n",
       "      <th>receiver</th>\n",
       "      <th>date</th>\n",
       "      <th>place_id</th>\n",
       "      <th>place</th>\n",
       "    </tr>\n",
       "  </thead>\n",
       "  <tbody>\n",
       "    <tr>\n",
       "      <th>0</th>\n",
       "      <td>https://edition-humboldt.de/H0002655</td>\n",
       "      <td>#AVHR</td>\n",
       "      <td>http://d-nb.info/gnd/118554700</td>\n",
       "      <td>Alexander von Humboldt</td>\n",
       "      <td>http://d-nb.info/gnd/118805193</td>\n",
       "      <td>Samuel Thomas von Soemmerring</td>\n",
       "      <td>1793-12-05</td>\n",
       "      <td>http://sws.geonames.org/6556797</td>\n",
       "      <td>Berg</td>\n",
       "    </tr>\n",
       "    <tr>\n",
       "      <th>1</th>\n",
       "      <td>https://edition-humboldt.de/H0002730</td>\n",
       "      <td>#AVHR</td>\n",
       "      <td>http://d-nb.info/gnd/118554700</td>\n",
       "      <td>Alexander von Humboldt</td>\n",
       "      <td>http://d-nb.info/gnd/118805193</td>\n",
       "      <td>Samuel Thomas von Soemmerring</td>\n",
       "      <td>1794-02-06</td>\n",
       "      <td>http://sws.geonames.org/2951825</td>\n",
       "      <td>Bayreuth</td>\n",
       "    </tr>\n",
       "    <tr>\n",
       "      <th>2</th>\n",
       "      <td>https://edition-humboldt.de/H0002729</td>\n",
       "      <td>#AVHR</td>\n",
       "      <td>http://d-nb.info/gnd/118554700</td>\n",
       "      <td>Alexander von Humboldt</td>\n",
       "      <td>http://d-nb.info/gnd/118805193</td>\n",
       "      <td>Samuel Thomas von Soemmerring</td>\n",
       "      <td>1795-06-07</td>\n",
       "      <td>http://sws.geonames.org/2951825</td>\n",
       "      <td>Bayreuth</td>\n",
       "    </tr>\n",
       "    <tr>\n",
       "      <th>3</th>\n",
       "      <td>https://edition-humboldt.de/H0002657</td>\n",
       "      <td>#AVHR</td>\n",
       "      <td>http://d-nb.info/gnd/118554700</td>\n",
       "      <td>Alexander von Humboldt</td>\n",
       "      <td>http://d-nb.info/gnd/118805193</td>\n",
       "      <td>Samuel Thomas von Soemmerring</td>\n",
       "      <td>1795-06-29</td>\n",
       "      <td>http://sws.geonames.org/2919290</td>\n",
       "      <td>Goldkronach</td>\n",
       "    </tr>\n",
       "    <tr>\n",
       "      <th>4</th>\n",
       "      <td>https://edition-humboldt.de/H0001183</td>\n",
       "      <td>#AVHR</td>\n",
       "      <td>http://d-nb.info/gnd/118554700</td>\n",
       "      <td>Alexander von Humboldt</td>\n",
       "      <td>http://d-nb.info/gnd/117387436</td>\n",
       "      <td>Karl Ludwig Willdenow</td>\n",
       "      <td>1795-07-17</td>\n",
       "      <td>http://sws.geonames.org/2951825</td>\n",
       "      <td>Bayreuth</td>\n",
       "    </tr>\n",
       "  </tbody>\n",
       "</table>\n",
       "</div>"
      ],
      "text/plain": [
       "                              reference edition_id  \\\n",
       "0  https://edition-humboldt.de/H0002655      #AVHR   \n",
       "1  https://edition-humboldt.de/H0002730      #AVHR   \n",
       "2  https://edition-humboldt.de/H0002729      #AVHR   \n",
       "3  https://edition-humboldt.de/H0002657      #AVHR   \n",
       "4  https://edition-humboldt.de/H0001183      #AVHR   \n",
       "\n",
       "                        sender_id                  sender  \\\n",
       "0  http://d-nb.info/gnd/118554700  Alexander von Humboldt   \n",
       "1  http://d-nb.info/gnd/118554700  Alexander von Humboldt   \n",
       "2  http://d-nb.info/gnd/118554700  Alexander von Humboldt   \n",
       "3  http://d-nb.info/gnd/118554700  Alexander von Humboldt   \n",
       "4  http://d-nb.info/gnd/118554700  Alexander von Humboldt   \n",
       "\n",
       "                      receiver_id                       receiver       date  \\\n",
       "0  http://d-nb.info/gnd/118805193  Samuel Thomas von Soemmerring 1793-12-05   \n",
       "1  http://d-nb.info/gnd/118805193  Samuel Thomas von Soemmerring 1794-02-06   \n",
       "2  http://d-nb.info/gnd/118805193  Samuel Thomas von Soemmerring 1795-06-07   \n",
       "3  http://d-nb.info/gnd/118805193  Samuel Thomas von Soemmerring 1795-06-29   \n",
       "4  http://d-nb.info/gnd/117387436          Karl Ludwig Willdenow 1795-07-17   \n",
       "\n",
       "                          place_id        place  \n",
       "0  http://sws.geonames.org/6556797         Berg  \n",
       "1  http://sws.geonames.org/2951825     Bayreuth  \n",
       "2  http://sws.geonames.org/2951825     Bayreuth  \n",
       "3  http://sws.geonames.org/2919290  Goldkronach  \n",
       "4  http://sws.geonames.org/2951825     Bayreuth  "
      ]
     },
     "execution_count": 71,
     "metadata": {},
     "output_type": "execute_result"
    }
   ],
   "source": [
    "print(df.shape)\n",
    "print(f'Der Dataframe hat {df.shape[0]} Zeilen und {df.shape[1]} Spalten.')\n",
    "df.head()"
   ]
  },
  {
   "attachments": {},
   "cell_type": "markdown",
   "metadata": {},
   "source": [
    "Um schließlich noch einen Überblick über die *columns* zu erhalten, können wir das Attribut ``columns`` für unseren DataFrame verwenden. Werden die zurückgegebenen Werte einer Variablen zugewiesen, dann können Sie auch leicht mit dieser Information weiterarbeiten:"
   ]
  },
  {
   "cell_type": "code",
   "execution_count": 72,
   "metadata": {},
   "outputs": [
    {
     "data": {
      "text/plain": [
       "Index(['reference', 'edition_id', 'sender_id', 'sender', 'receiver_id',\n",
       "       'receiver', 'date', 'place_id', 'place'],\n",
       "      dtype='object')"
      ]
     },
     "execution_count": 72,
     "metadata": {},
     "output_type": "execute_result"
    }
   ],
   "source": [
    "df.columns"
   ]
  },
  {
   "attachments": {},
   "cell_type": "markdown",
   "metadata": {},
   "source": [
    "Und sehr nützlich: Jede der einzelnen Spalten ist zugleich ein Attribut des DataFrame-Objekts. Das heißt, Sie können den Spaltennamen direkt an unsere Variable für das DataFrame-Objekt anhängen und erhalten die Inhalte der jeweiligen Spalte als ``Series``-Objekt zurück, um die Informationen auf eine beliebige Art und Weise weiterzuverarbeiten."
   ]
  },
  {
   "cell_type": "code",
   "execution_count": 73,
   "metadata": {},
   "outputs": [
    {
     "data": {
      "text/plain": [
       "0            Alexander von Humboldt\n",
       "1            Alexander von Humboldt\n",
       "2            Alexander von Humboldt\n",
       "3            Alexander von Humboldt\n",
       "4            Alexander von Humboldt\n",
       "5            Alexander von Humboldt\n",
       "6            Alexander von Humboldt\n",
       "7            Alexander von Humboldt\n",
       "8            Alexander von Humboldt\n",
       "9            Alexander von Humboldt\n",
       "10           Alexander von Humboldt\n",
       "11           Alexander von Humboldt\n",
       "12           Alexander von Humboldt\n",
       "13           Alexander von Humboldt\n",
       "14           Alexander von Humboldt\n",
       "15           Alexander von Humboldt\n",
       "16                    Aimé Bonpland\n",
       "17           Alexander von Humboldt\n",
       "18           Alexander von Humboldt\n",
       "19           Alexander von Humboldt\n",
       "20            Aylmer Bourke Lambert\n",
       "21      George Arnott Walker-Arnott\n",
       "22      George Arnott Walker-Arnott\n",
       "23           Alexander von Humboldt\n",
       "24           Johann Moritz Rugendas\n",
       "25           Johann Moritz Rugendas\n",
       "26           Alexander von Humboldt\n",
       "27           Johann Moritz Rugendas\n",
       "28           Alexander von Humboldt\n",
       "29           Alexander von Humboldt\n",
       "30           Alexander von Humboldt\n",
       "31           Alexander von Humboldt\n",
       "32    Christian Gottfried Ehrenberg\n",
       "33           Alexander von Humboldt\n",
       "34           Alexander von Humboldt\n",
       "35           Alexander von Humboldt\n",
       "36           Alexander von Humboldt\n",
       "37           Johann Moritz Rugendas\n",
       "38           Alexander von Humboldt\n",
       "39           Alexander von Humboldt\n",
       "40           Alexander von Humboldt\n",
       "41           Alexander von Humboldt\n",
       "42           Alexander von Humboldt\n",
       "43           Alexander von Humboldt\n",
       "44           Alexander von Humboldt\n",
       "45           Alexander von Humboldt\n",
       "46           Alexander von Humboldt\n",
       "47           Alexander von Humboldt\n",
       "48           Alexander von Humboldt\n",
       "49           Alexander von Humboldt\n",
       "Name: sender, dtype: object"
      ]
     },
     "execution_count": 73,
     "metadata": {},
     "output_type": "execute_result"
    }
   ],
   "source": [
    "df.loc[:, 'sender']"
   ]
  },
  {
   "attachments": {},
   "cell_type": "markdown",
   "metadata": {},
   "source": [
    "Wir können uns unsere Daten natürlich auch etwas genauer anzeigen lassen und konkretisieren, welche Bereiche wir in den Blick nehmen wollen.\n",
    "\n",
    "Mit der Funktion ``head()`` lassen wir uns die ersten *n* Zeilen anzeigen (aber nicht alle Spalten):"
   ]
  },
  {
   "cell_type": "code",
   "execution_count": 74,
   "metadata": {},
   "outputs": [
    {
     "data": {
      "text/html": [
       "<div>\n",
       "<style scoped>\n",
       "    .dataframe tbody tr th:only-of-type {\n",
       "        vertical-align: middle;\n",
       "    }\n",
       "\n",
       "    .dataframe tbody tr th {\n",
       "        vertical-align: top;\n",
       "    }\n",
       "\n",
       "    .dataframe thead th {\n",
       "        text-align: right;\n",
       "    }\n",
       "</style>\n",
       "<table border=\"1\" class=\"dataframe\">\n",
       "  <thead>\n",
       "    <tr style=\"text-align: right;\">\n",
       "      <th></th>\n",
       "      <th>reference</th>\n",
       "      <th>edition_id</th>\n",
       "      <th>sender_id</th>\n",
       "      <th>sender</th>\n",
       "      <th>receiver_id</th>\n",
       "      <th>receiver</th>\n",
       "      <th>date</th>\n",
       "      <th>place_id</th>\n",
       "      <th>place</th>\n",
       "    </tr>\n",
       "  </thead>\n",
       "  <tbody>\n",
       "    <tr>\n",
       "      <th>0</th>\n",
       "      <td>https://edition-humboldt.de/H0002655</td>\n",
       "      <td>#AVHR</td>\n",
       "      <td>http://d-nb.info/gnd/118554700</td>\n",
       "      <td>Alexander von Humboldt</td>\n",
       "      <td>http://d-nb.info/gnd/118805193</td>\n",
       "      <td>Samuel Thomas von Soemmerring</td>\n",
       "      <td>1793-12-05</td>\n",
       "      <td>http://sws.geonames.org/6556797</td>\n",
       "      <td>Berg</td>\n",
       "    </tr>\n",
       "    <tr>\n",
       "      <th>1</th>\n",
       "      <td>https://edition-humboldt.de/H0002730</td>\n",
       "      <td>#AVHR</td>\n",
       "      <td>http://d-nb.info/gnd/118554700</td>\n",
       "      <td>Alexander von Humboldt</td>\n",
       "      <td>http://d-nb.info/gnd/118805193</td>\n",
       "      <td>Samuel Thomas von Soemmerring</td>\n",
       "      <td>1794-02-06</td>\n",
       "      <td>http://sws.geonames.org/2951825</td>\n",
       "      <td>Bayreuth</td>\n",
       "    </tr>\n",
       "    <tr>\n",
       "      <th>2</th>\n",
       "      <td>https://edition-humboldt.de/H0002729</td>\n",
       "      <td>#AVHR</td>\n",
       "      <td>http://d-nb.info/gnd/118554700</td>\n",
       "      <td>Alexander von Humboldt</td>\n",
       "      <td>http://d-nb.info/gnd/118805193</td>\n",
       "      <td>Samuel Thomas von Soemmerring</td>\n",
       "      <td>1795-06-07</td>\n",
       "      <td>http://sws.geonames.org/2951825</td>\n",
       "      <td>Bayreuth</td>\n",
       "    </tr>\n",
       "    <tr>\n",
       "      <th>3</th>\n",
       "      <td>https://edition-humboldt.de/H0002657</td>\n",
       "      <td>#AVHR</td>\n",
       "      <td>http://d-nb.info/gnd/118554700</td>\n",
       "      <td>Alexander von Humboldt</td>\n",
       "      <td>http://d-nb.info/gnd/118805193</td>\n",
       "      <td>Samuel Thomas von Soemmerring</td>\n",
       "      <td>1795-06-29</td>\n",
       "      <td>http://sws.geonames.org/2919290</td>\n",
       "      <td>Goldkronach</td>\n",
       "    </tr>\n",
       "    <tr>\n",
       "      <th>4</th>\n",
       "      <td>https://edition-humboldt.de/H0001183</td>\n",
       "      <td>#AVHR</td>\n",
       "      <td>http://d-nb.info/gnd/118554700</td>\n",
       "      <td>Alexander von Humboldt</td>\n",
       "      <td>http://d-nb.info/gnd/117387436</td>\n",
       "      <td>Karl Ludwig Willdenow</td>\n",
       "      <td>1795-07-17</td>\n",
       "      <td>http://sws.geonames.org/2951825</td>\n",
       "      <td>Bayreuth</td>\n",
       "    </tr>\n",
       "    <tr>\n",
       "      <th>5</th>\n",
       "      <td>https://edition-humboldt.de/H0002658</td>\n",
       "      <td>#AVHR</td>\n",
       "      <td>http://d-nb.info/gnd/118554700</td>\n",
       "      <td>Alexander von Humboldt</td>\n",
       "      <td>http://d-nb.info/gnd/118805193</td>\n",
       "      <td>Samuel Thomas von Soemmerring</td>\n",
       "      <td>1796-02-07</td>\n",
       "      <td>http://sws.geonames.org/2951825</td>\n",
       "      <td>Bayreuth</td>\n",
       "    </tr>\n",
       "    <tr>\n",
       "      <th>6</th>\n",
       "      <td>https://edition-humboldt.de/H0002727</td>\n",
       "      <td>#AVHR</td>\n",
       "      <td>http://d-nb.info/gnd/118554700</td>\n",
       "      <td>Alexander von Humboldt</td>\n",
       "      <td>http://d-nb.info/gnd/118805193</td>\n",
       "      <td>Samuel Thomas von Soemmerring</td>\n",
       "      <td>1796-04-09</td>\n",
       "      <td>NaN</td>\n",
       "      <td>NaN</td>\n",
       "    </tr>\n",
       "    <tr>\n",
       "      <th>7</th>\n",
       "      <td>https://edition-humboldt.de/H0001182</td>\n",
       "      <td>#AVHR</td>\n",
       "      <td>http://d-nb.info/gnd/118554700</td>\n",
       "      <td>Alexander von Humboldt</td>\n",
       "      <td>http://d-nb.info/gnd/118805193</td>\n",
       "      <td>Samuel Thomas von Soemmerring</td>\n",
       "      <td>1796-05-01</td>\n",
       "      <td>http://sws.geonames.org/2951825</td>\n",
       "      <td>Bayreuth</td>\n",
       "    </tr>\n",
       "    <tr>\n",
       "      <th>8</th>\n",
       "      <td>https://edition-humboldt.de/H0008511</td>\n",
       "      <td>#AVHR</td>\n",
       "      <td>http://d-nb.info/gnd/118554700</td>\n",
       "      <td>Alexander von Humboldt</td>\n",
       "      <td>http://d-nb.info/gnd/118805193</td>\n",
       "      <td>Samuel Thomas von Soemmerring</td>\n",
       "      <td>1796-05-08</td>\n",
       "      <td>http://sws.geonames.org/2951825</td>\n",
       "      <td>Bayreuth</td>\n",
       "    </tr>\n",
       "    <tr>\n",
       "      <th>9</th>\n",
       "      <td>https://edition-humboldt.de/H0001199</td>\n",
       "      <td>#AVHR</td>\n",
       "      <td>http://d-nb.info/gnd/118554700</td>\n",
       "      <td>Alexander von Humboldt</td>\n",
       "      <td>http://d-nb.info/gnd/117387436</td>\n",
       "      <td>Karl Ludwig Willdenow</td>\n",
       "      <td>1796-12-20</td>\n",
       "      <td>http://sws.geonames.org/2951825</td>\n",
       "      <td>Bayreuth</td>\n",
       "    </tr>\n",
       "  </tbody>\n",
       "</table>\n",
       "</div>"
      ],
      "text/plain": [
       "                              reference edition_id  \\\n",
       "0  https://edition-humboldt.de/H0002655      #AVHR   \n",
       "1  https://edition-humboldt.de/H0002730      #AVHR   \n",
       "2  https://edition-humboldt.de/H0002729      #AVHR   \n",
       "3  https://edition-humboldt.de/H0002657      #AVHR   \n",
       "4  https://edition-humboldt.de/H0001183      #AVHR   \n",
       "5  https://edition-humboldt.de/H0002658      #AVHR   \n",
       "6  https://edition-humboldt.de/H0002727      #AVHR   \n",
       "7  https://edition-humboldt.de/H0001182      #AVHR   \n",
       "8  https://edition-humboldt.de/H0008511      #AVHR   \n",
       "9  https://edition-humboldt.de/H0001199      #AVHR   \n",
       "\n",
       "                        sender_id                  sender  \\\n",
       "0  http://d-nb.info/gnd/118554700  Alexander von Humboldt   \n",
       "1  http://d-nb.info/gnd/118554700  Alexander von Humboldt   \n",
       "2  http://d-nb.info/gnd/118554700  Alexander von Humboldt   \n",
       "3  http://d-nb.info/gnd/118554700  Alexander von Humboldt   \n",
       "4  http://d-nb.info/gnd/118554700  Alexander von Humboldt   \n",
       "5  http://d-nb.info/gnd/118554700  Alexander von Humboldt   \n",
       "6  http://d-nb.info/gnd/118554700  Alexander von Humboldt   \n",
       "7  http://d-nb.info/gnd/118554700  Alexander von Humboldt   \n",
       "8  http://d-nb.info/gnd/118554700  Alexander von Humboldt   \n",
       "9  http://d-nb.info/gnd/118554700  Alexander von Humboldt   \n",
       "\n",
       "                      receiver_id                       receiver       date  \\\n",
       "0  http://d-nb.info/gnd/118805193  Samuel Thomas von Soemmerring 1793-12-05   \n",
       "1  http://d-nb.info/gnd/118805193  Samuel Thomas von Soemmerring 1794-02-06   \n",
       "2  http://d-nb.info/gnd/118805193  Samuel Thomas von Soemmerring 1795-06-07   \n",
       "3  http://d-nb.info/gnd/118805193  Samuel Thomas von Soemmerring 1795-06-29   \n",
       "4  http://d-nb.info/gnd/117387436          Karl Ludwig Willdenow 1795-07-17   \n",
       "5  http://d-nb.info/gnd/118805193  Samuel Thomas von Soemmerring 1796-02-07   \n",
       "6  http://d-nb.info/gnd/118805193  Samuel Thomas von Soemmerring 1796-04-09   \n",
       "7  http://d-nb.info/gnd/118805193  Samuel Thomas von Soemmerring 1796-05-01   \n",
       "8  http://d-nb.info/gnd/118805193  Samuel Thomas von Soemmerring 1796-05-08   \n",
       "9  http://d-nb.info/gnd/117387436          Karl Ludwig Willdenow 1796-12-20   \n",
       "\n",
       "                          place_id        place  \n",
       "0  http://sws.geonames.org/6556797         Berg  \n",
       "1  http://sws.geonames.org/2951825     Bayreuth  \n",
       "2  http://sws.geonames.org/2951825     Bayreuth  \n",
       "3  http://sws.geonames.org/2919290  Goldkronach  \n",
       "4  http://sws.geonames.org/2951825     Bayreuth  \n",
       "5  http://sws.geonames.org/2951825     Bayreuth  \n",
       "6                              NaN          NaN  \n",
       "7  http://sws.geonames.org/2951825     Bayreuth  \n",
       "8  http://sws.geonames.org/2951825     Bayreuth  \n",
       "9  http://sws.geonames.org/2951825     Bayreuth  "
      ]
     },
     "execution_count": 74,
     "metadata": {},
     "output_type": "execute_result"
    }
   ],
   "source": [
    "df.head(10)"
   ]
  },
  {
   "attachments": {},
   "cell_type": "markdown",
   "metadata": {},
   "source": [
    "Der Konterpart dazu ist die Funktion ``tail()``, mit der Sie die letzten *n* Zeilen des Datensatzes ausgeben können:"
   ]
  },
  {
   "cell_type": "code",
   "execution_count": 75,
   "metadata": {},
   "outputs": [
    {
     "data": {
      "text/html": [
       "<div>\n",
       "<style scoped>\n",
       "    .dataframe tbody tr th:only-of-type {\n",
       "        vertical-align: middle;\n",
       "    }\n",
       "\n",
       "    .dataframe tbody tr th {\n",
       "        vertical-align: top;\n",
       "    }\n",
       "\n",
       "    .dataframe thead th {\n",
       "        text-align: right;\n",
       "    }\n",
       "</style>\n",
       "<table border=\"1\" class=\"dataframe\">\n",
       "  <thead>\n",
       "    <tr style=\"text-align: right;\">\n",
       "      <th></th>\n",
       "      <th>reference</th>\n",
       "      <th>edition_id</th>\n",
       "      <th>sender_id</th>\n",
       "      <th>sender</th>\n",
       "      <th>receiver_id</th>\n",
       "      <th>receiver</th>\n",
       "      <th>date</th>\n",
       "      <th>place_id</th>\n",
       "      <th>place</th>\n",
       "    </tr>\n",
       "  </thead>\n",
       "  <tbody>\n",
       "    <tr>\n",
       "      <th>40</th>\n",
       "      <td>https://edition-humboldt.de/H0002242</td>\n",
       "      <td>#AVHR</td>\n",
       "      <td>http://d-nb.info/gnd/118554700</td>\n",
       "      <td>Alexander von Humboldt</td>\n",
       "      <td>http://d-nb.info/gnd/116962437</td>\n",
       "      <td>Franz Julius Ferdinand Meyen</td>\n",
       "      <td>1829-03-11</td>\n",
       "      <td>http://sws.geonames.org/2950159</td>\n",
       "      <td>NaN</td>\n",
       "    </tr>\n",
       "    <tr>\n",
       "      <th>41</th>\n",
       "      <td>https://edition-humboldt.de/H0019579</td>\n",
       "      <td>#AVHR</td>\n",
       "      <td>http://d-nb.info/gnd/118554700</td>\n",
       "      <td>Alexander von Humboldt</td>\n",
       "      <td>http://d-nb.info/gnd/118750321</td>\n",
       "      <td>Johann Moritz Rugendas</td>\n",
       "      <td>1829-03-23</td>\n",
       "      <td>http://sws.geonames.org/2950159</td>\n",
       "      <td>NaN</td>\n",
       "    </tr>\n",
       "    <tr>\n",
       "      <th>42</th>\n",
       "      <td>https://edition-humboldt.de/H0016743</td>\n",
       "      <td>#AVHR</td>\n",
       "      <td>http://d-nb.info/gnd/118554700</td>\n",
       "      <td>Alexander von Humboldt</td>\n",
       "      <td>http://d-nb.info/gnd/118529250</td>\n",
       "      <td>Christian Gottfried Ehrenberg</td>\n",
       "      <td>1829-03-25</td>\n",
       "      <td>http://sws.geonames.org/2950159</td>\n",
       "      <td>NaN</td>\n",
       "    </tr>\n",
       "    <tr>\n",
       "      <th>43</th>\n",
       "      <td>https://edition-humboldt.de/H0019580</td>\n",
       "      <td>#AVHR</td>\n",
       "      <td>http://d-nb.info/gnd/118554700</td>\n",
       "      <td>Alexander von Humboldt</td>\n",
       "      <td>http://d-nb.info/gnd/118750321</td>\n",
       "      <td>Johann Moritz Rugendas</td>\n",
       "      <td>1829-04-03</td>\n",
       "      <td>http://sws.geonames.org/2950159</td>\n",
       "      <td>NaN</td>\n",
       "    </tr>\n",
       "    <tr>\n",
       "      <th>44</th>\n",
       "      <td>https://edition-humboldt.de/H0016739</td>\n",
       "      <td>#AVHR</td>\n",
       "      <td>http://d-nb.info/gnd/118554700</td>\n",
       "      <td>Alexander von Humboldt</td>\n",
       "      <td>http://d-nb.info/gnd/118529250</td>\n",
       "      <td>Christian Gottfried Ehrenberg</td>\n",
       "      <td>1829-04-12</td>\n",
       "      <td>http://sws.geonames.org/2950159</td>\n",
       "      <td>NaN</td>\n",
       "    </tr>\n",
       "    <tr>\n",
       "      <th>45</th>\n",
       "      <td>https://edition-humboldt.de/H0019138</td>\n",
       "      <td>#AVHR</td>\n",
       "      <td>http://d-nb.info/gnd/118554700</td>\n",
       "      <td>Alexander von Humboldt</td>\n",
       "      <td>http://d-nb.info/gnd/1283497972</td>\n",
       "      <td>Adolphe Graf von Polier</td>\n",
       "      <td>1829-04-18</td>\n",
       "      <td>http://sws.geonames.org/535730</td>\n",
       "      <td>Lesnoi</td>\n",
       "    </tr>\n",
       "    <tr>\n",
       "      <th>46</th>\n",
       "      <td>https://edition-humboldt.de/H0019136</td>\n",
       "      <td>#AVHR</td>\n",
       "      <td>http://d-nb.info/gnd/118554700</td>\n",
       "      <td>Alexander von Humboldt</td>\n",
       "      <td>http://d-nb.info/gnd/1283497972</td>\n",
       "      <td>Adolphe Graf von Polier</td>\n",
       "      <td>1829-09-14</td>\n",
       "      <td>http://sws.geonames.org/1498894</td>\n",
       "      <td>Miass (Stadt)</td>\n",
       "    </tr>\n",
       "    <tr>\n",
       "      <th>47</th>\n",
       "      <td>https://edition-humboldt.de/H0019134</td>\n",
       "      <td>#AVHR</td>\n",
       "      <td>http://d-nb.info/gnd/118554700</td>\n",
       "      <td>Alexander von Humboldt</td>\n",
       "      <td>http://d-nb.info/gnd/1283497972</td>\n",
       "      <td>Adolphe Graf von Polier</td>\n",
       "      <td>1829-11-27</td>\n",
       "      <td>http://sws.geonames.org/524901</td>\n",
       "      <td>Moskau</td>\n",
       "    </tr>\n",
       "    <tr>\n",
       "      <th>48</th>\n",
       "      <td>https://edition-humboldt.de/H0016749</td>\n",
       "      <td>#AVHR</td>\n",
       "      <td>http://d-nb.info/gnd/118554700</td>\n",
       "      <td>Alexander von Humboldt</td>\n",
       "      <td>http://d-nb.info/gnd/118529250</td>\n",
       "      <td>Christian Gottfried Ehrenberg</td>\n",
       "      <td>1830-02-08</td>\n",
       "      <td>http://sws.geonames.org/2950159</td>\n",
       "      <td>NaN</td>\n",
       "    </tr>\n",
       "    <tr>\n",
       "      <th>49</th>\n",
       "      <td>https://edition-humboldt.de/H0019137</td>\n",
       "      <td>#AVHR</td>\n",
       "      <td>http://d-nb.info/gnd/118554700</td>\n",
       "      <td>Alexander von Humboldt</td>\n",
       "      <td>http://d-nb.info/gnd/1283497972</td>\n",
       "      <td>Adolphe Graf von Polier</td>\n",
       "      <td>1830-02-26</td>\n",
       "      <td>http://sws.geonames.org/2950159</td>\n",
       "      <td>NaN</td>\n",
       "    </tr>\n",
       "  </tbody>\n",
       "</table>\n",
       "</div>"
      ],
      "text/plain": [
       "                               reference edition_id  \\\n",
       "40  https://edition-humboldt.de/H0002242      #AVHR   \n",
       "41  https://edition-humboldt.de/H0019579      #AVHR   \n",
       "42  https://edition-humboldt.de/H0016743      #AVHR   \n",
       "43  https://edition-humboldt.de/H0019580      #AVHR   \n",
       "44  https://edition-humboldt.de/H0016739      #AVHR   \n",
       "45  https://edition-humboldt.de/H0019138      #AVHR   \n",
       "46  https://edition-humboldt.de/H0019136      #AVHR   \n",
       "47  https://edition-humboldt.de/H0019134      #AVHR   \n",
       "48  https://edition-humboldt.de/H0016749      #AVHR   \n",
       "49  https://edition-humboldt.de/H0019137      #AVHR   \n",
       "\n",
       "                         sender_id                  sender  \\\n",
       "40  http://d-nb.info/gnd/118554700  Alexander von Humboldt   \n",
       "41  http://d-nb.info/gnd/118554700  Alexander von Humboldt   \n",
       "42  http://d-nb.info/gnd/118554700  Alexander von Humboldt   \n",
       "43  http://d-nb.info/gnd/118554700  Alexander von Humboldt   \n",
       "44  http://d-nb.info/gnd/118554700  Alexander von Humboldt   \n",
       "45  http://d-nb.info/gnd/118554700  Alexander von Humboldt   \n",
       "46  http://d-nb.info/gnd/118554700  Alexander von Humboldt   \n",
       "47  http://d-nb.info/gnd/118554700  Alexander von Humboldt   \n",
       "48  http://d-nb.info/gnd/118554700  Alexander von Humboldt   \n",
       "49  http://d-nb.info/gnd/118554700  Alexander von Humboldt   \n",
       "\n",
       "                        receiver_id                       receiver       date  \\\n",
       "40   http://d-nb.info/gnd/116962437   Franz Julius Ferdinand Meyen 1829-03-11   \n",
       "41   http://d-nb.info/gnd/118750321         Johann Moritz Rugendas 1829-03-23   \n",
       "42   http://d-nb.info/gnd/118529250  Christian Gottfried Ehrenberg 1829-03-25   \n",
       "43   http://d-nb.info/gnd/118750321         Johann Moritz Rugendas 1829-04-03   \n",
       "44   http://d-nb.info/gnd/118529250  Christian Gottfried Ehrenberg 1829-04-12   \n",
       "45  http://d-nb.info/gnd/1283497972        Adolphe Graf von Polier 1829-04-18   \n",
       "46  http://d-nb.info/gnd/1283497972        Adolphe Graf von Polier 1829-09-14   \n",
       "47  http://d-nb.info/gnd/1283497972        Adolphe Graf von Polier 1829-11-27   \n",
       "48   http://d-nb.info/gnd/118529250  Christian Gottfried Ehrenberg 1830-02-08   \n",
       "49  http://d-nb.info/gnd/1283497972        Adolphe Graf von Polier 1830-02-26   \n",
       "\n",
       "                           place_id          place  \n",
       "40  http://sws.geonames.org/2950159            NaN  \n",
       "41  http://sws.geonames.org/2950159            NaN  \n",
       "42  http://sws.geonames.org/2950159            NaN  \n",
       "43  http://sws.geonames.org/2950159            NaN  \n",
       "44  http://sws.geonames.org/2950159            NaN  \n",
       "45   http://sws.geonames.org/535730         Lesnoi  \n",
       "46  http://sws.geonames.org/1498894  Miass (Stadt)  \n",
       "47   http://sws.geonames.org/524901         Moskau  \n",
       "48  http://sws.geonames.org/2950159            NaN  \n",
       "49  http://sws.geonames.org/2950159            NaN  "
      ]
     },
     "execution_count": 75,
     "metadata": {},
     "output_type": "execute_result"
    }
   ],
   "source": [
    "df.tail(10)"
   ]
  },
  {
   "attachments": {},
   "cell_type": "markdown",
   "metadata": {},
   "source": [
    "Um einen kompletten Überblick über unser Datenkorpus zu bekommen und beispielsweise auch zu prüfen, wie Pandas die in den einzelnen Spalten enthaltenen Datentypen interpretiert hat, rufen wir die Funktion ``info()`` auf:"
   ]
  },
  {
   "cell_type": "code",
   "execution_count": 76,
   "metadata": {},
   "outputs": [
    {
     "name": "stdout",
     "output_type": "stream",
     "text": [
      "<class 'pandas.core.frame.DataFrame'>\n",
      "RangeIndex: 50 entries, 0 to 49\n",
      "Data columns (total 9 columns):\n",
      " #   Column       Non-Null Count  Dtype         \n",
      "---  ------       --------------  -----         \n",
      " 0   reference    50 non-null     object        \n",
      " 1   edition_id   50 non-null     object        \n",
      " 2   sender_id    50 non-null     object        \n",
      " 3   sender       50 non-null     object        \n",
      " 4   receiver_id  50 non-null     object        \n",
      " 5   receiver     50 non-null     object        \n",
      " 6   date         50 non-null     datetime64[ns]\n",
      " 7   place_id     48 non-null     object        \n",
      " 8   place        21 non-null     object        \n",
      "dtypes: datetime64[ns](1), object(8)\n",
      "memory usage: 3.6+ KB\n"
     ]
    }
   ],
   "source": [
    "df.info()"
   ]
  },
  {
   "attachments": {},
   "cell_type": "markdown",
   "metadata": {},
   "source": [
    "Wir können checken, wie viele Zellen in den jeweiligen Spalten keine Werte enthalten."
   ]
  },
  {
   "cell_type": "code",
   "execution_count": 77,
   "metadata": {},
   "outputs": [
    {
     "data": {
      "text/plain": [
       "reference       0\n",
       "edition_id      0\n",
       "sender_id       0\n",
       "sender          0\n",
       "receiver_id     0\n",
       "receiver        0\n",
       "date            0\n",
       "place_id        2\n",
       "place          29\n",
       "dtype: int64"
      ]
     },
     "execution_count": 77,
     "metadata": {},
     "output_type": "execute_result"
    }
   ],
   "source": [
    "df.isna().sum()"
   ]
  },
  {
   "attachments": {},
   "cell_type": "markdown",
   "metadata": {},
   "source": [
    "DataFrame-Objekte verfügen noch über eine ganze Reihe weiterer Attribute und Funktionen. Am besten überfliegen Sie einmal die [Dokumentation](https://pandas.pydata.org/pandas-docs/stable/reference/frame.html) und probieren das ein oder andere aus, um ein Gefühl für die Möglichkeiten zu bekommen. Die Dokumentation sollte man ohnehin immer schnell zur Hand haben, denn niemand merkt sich alle Befehle, auch die besten Programmierer\\*innen müssen manchmal noch grundlegende Aspekte wieder nachschlagen. Wichtig ist, dass Sie wissen, wo Sie fündig werden und eine ungefähre Idee davon haben, was eine Bibliothek kann. Sie müssen nicht alles auswendig lernen."
   ]
  },
  {
   "attachments": {},
   "cell_type": "markdown",
   "metadata": {},
   "source": [
    "### Auswählen von Spalten\n",
    "\n",
    "Wir zeigen hier verschiedene Möglichkeiten, wie die Auswahl von Spalten erfolgen kann. Sicherlich werden Sie auf diese Varianten treffen, wenn Sie den Code anderer lesen. Wir werden in diesem Jupyter Book die beiden letzten Optionen mit `iloc` und `loc` nutzen, da hier die Angaben am explizitesten sind. \n",
    "```python\n",
    "df.loc[zeile, spalte]\n",
    "```\n"
   ]
  },
  {
   "cell_type": "code",
   "execution_count": 78,
   "metadata": {},
   "outputs": [
    {
     "data": {
      "text/plain": [
       "0            Alexander von Humboldt\n",
       "1            Alexander von Humboldt\n",
       "2            Alexander von Humboldt\n",
       "3            Alexander von Humboldt\n",
       "4            Alexander von Humboldt\n",
       "5            Alexander von Humboldt\n",
       "6            Alexander von Humboldt\n",
       "7            Alexander von Humboldt\n",
       "8            Alexander von Humboldt\n",
       "9            Alexander von Humboldt\n",
       "10           Alexander von Humboldt\n",
       "11           Alexander von Humboldt\n",
       "12           Alexander von Humboldt\n",
       "13           Alexander von Humboldt\n",
       "14           Alexander von Humboldt\n",
       "15           Alexander von Humboldt\n",
       "16                    Aimé Bonpland\n",
       "17           Alexander von Humboldt\n",
       "18           Alexander von Humboldt\n",
       "19           Alexander von Humboldt\n",
       "20            Aylmer Bourke Lambert\n",
       "21      George Arnott Walker-Arnott\n",
       "22      George Arnott Walker-Arnott\n",
       "23           Alexander von Humboldt\n",
       "24           Johann Moritz Rugendas\n",
       "25           Johann Moritz Rugendas\n",
       "26           Alexander von Humboldt\n",
       "27           Johann Moritz Rugendas\n",
       "28           Alexander von Humboldt\n",
       "29           Alexander von Humboldt\n",
       "30           Alexander von Humboldt\n",
       "31           Alexander von Humboldt\n",
       "32    Christian Gottfried Ehrenberg\n",
       "33           Alexander von Humboldt\n",
       "34           Alexander von Humboldt\n",
       "35           Alexander von Humboldt\n",
       "36           Alexander von Humboldt\n",
       "37           Johann Moritz Rugendas\n",
       "38           Alexander von Humboldt\n",
       "39           Alexander von Humboldt\n",
       "40           Alexander von Humboldt\n",
       "41           Alexander von Humboldt\n",
       "42           Alexander von Humboldt\n",
       "43           Alexander von Humboldt\n",
       "44           Alexander von Humboldt\n",
       "45           Alexander von Humboldt\n",
       "46           Alexander von Humboldt\n",
       "47           Alexander von Humboldt\n",
       "48           Alexander von Humboldt\n",
       "49           Alexander von Humboldt\n",
       "Name: sender, dtype: object"
      ]
     },
     "execution_count": 78,
     "metadata": {},
     "output_type": "execute_result"
    }
   ],
   "source": [
    "df['sender']"
   ]
  },
  {
   "cell_type": "code",
   "execution_count": 79,
   "metadata": {},
   "outputs": [
    {
     "data": {
      "text/plain": [
       "0            Alexander von Humboldt\n",
       "1            Alexander von Humboldt\n",
       "2            Alexander von Humboldt\n",
       "3            Alexander von Humboldt\n",
       "4            Alexander von Humboldt\n",
       "5            Alexander von Humboldt\n",
       "6            Alexander von Humboldt\n",
       "7            Alexander von Humboldt\n",
       "8            Alexander von Humboldt\n",
       "9            Alexander von Humboldt\n",
       "10           Alexander von Humboldt\n",
       "11           Alexander von Humboldt\n",
       "12           Alexander von Humboldt\n",
       "13           Alexander von Humboldt\n",
       "14           Alexander von Humboldt\n",
       "15           Alexander von Humboldt\n",
       "16                    Aimé Bonpland\n",
       "17           Alexander von Humboldt\n",
       "18           Alexander von Humboldt\n",
       "19           Alexander von Humboldt\n",
       "20            Aylmer Bourke Lambert\n",
       "21      George Arnott Walker-Arnott\n",
       "22      George Arnott Walker-Arnott\n",
       "23           Alexander von Humboldt\n",
       "24           Johann Moritz Rugendas\n",
       "25           Johann Moritz Rugendas\n",
       "26           Alexander von Humboldt\n",
       "27           Johann Moritz Rugendas\n",
       "28           Alexander von Humboldt\n",
       "29           Alexander von Humboldt\n",
       "30           Alexander von Humboldt\n",
       "31           Alexander von Humboldt\n",
       "32    Christian Gottfried Ehrenberg\n",
       "33           Alexander von Humboldt\n",
       "34           Alexander von Humboldt\n",
       "35           Alexander von Humboldt\n",
       "36           Alexander von Humboldt\n",
       "37           Johann Moritz Rugendas\n",
       "38           Alexander von Humboldt\n",
       "39           Alexander von Humboldt\n",
       "40           Alexander von Humboldt\n",
       "41           Alexander von Humboldt\n",
       "42           Alexander von Humboldt\n",
       "43           Alexander von Humboldt\n",
       "44           Alexander von Humboldt\n",
       "45           Alexander von Humboldt\n",
       "46           Alexander von Humboldt\n",
       "47           Alexander von Humboldt\n",
       "48           Alexander von Humboldt\n",
       "49           Alexander von Humboldt\n",
       "Name: sender, dtype: object"
      ]
     },
     "execution_count": 79,
     "metadata": {},
     "output_type": "execute_result"
    }
   ],
   "source": [
    "df.sender"
   ]
  },
  {
   "cell_type": "code",
   "execution_count": 80,
   "metadata": {},
   "outputs": [
    {
     "data": {
      "text/plain": [
       "0            Alexander von Humboldt\n",
       "1            Alexander von Humboldt\n",
       "2            Alexander von Humboldt\n",
       "3            Alexander von Humboldt\n",
       "4            Alexander von Humboldt\n",
       "5            Alexander von Humboldt\n",
       "6            Alexander von Humboldt\n",
       "7            Alexander von Humboldt\n",
       "8            Alexander von Humboldt\n",
       "9            Alexander von Humboldt\n",
       "10           Alexander von Humboldt\n",
       "11           Alexander von Humboldt\n",
       "12           Alexander von Humboldt\n",
       "13           Alexander von Humboldt\n",
       "14           Alexander von Humboldt\n",
       "15           Alexander von Humboldt\n",
       "16                    Aimé Bonpland\n",
       "17           Alexander von Humboldt\n",
       "18           Alexander von Humboldt\n",
       "19           Alexander von Humboldt\n",
       "20            Aylmer Bourke Lambert\n",
       "21      George Arnott Walker-Arnott\n",
       "22      George Arnott Walker-Arnott\n",
       "23           Alexander von Humboldt\n",
       "24           Johann Moritz Rugendas\n",
       "25           Johann Moritz Rugendas\n",
       "26           Alexander von Humboldt\n",
       "27           Johann Moritz Rugendas\n",
       "28           Alexander von Humboldt\n",
       "29           Alexander von Humboldt\n",
       "30           Alexander von Humboldt\n",
       "31           Alexander von Humboldt\n",
       "32    Christian Gottfried Ehrenberg\n",
       "33           Alexander von Humboldt\n",
       "34           Alexander von Humboldt\n",
       "35           Alexander von Humboldt\n",
       "36           Alexander von Humboldt\n",
       "37           Johann Moritz Rugendas\n",
       "38           Alexander von Humboldt\n",
       "39           Alexander von Humboldt\n",
       "40           Alexander von Humboldt\n",
       "41           Alexander von Humboldt\n",
       "42           Alexander von Humboldt\n",
       "43           Alexander von Humboldt\n",
       "44           Alexander von Humboldt\n",
       "45           Alexander von Humboldt\n",
       "46           Alexander von Humboldt\n",
       "47           Alexander von Humboldt\n",
       "48           Alexander von Humboldt\n",
       "49           Alexander von Humboldt\n",
       "Name: sender, dtype: object"
      ]
     },
     "execution_count": 80,
     "metadata": {},
     "output_type": "execute_result"
    }
   ],
   "source": [
    "df.iloc[:, 3]"
   ]
  },
  {
   "cell_type": "code",
   "execution_count": 81,
   "metadata": {},
   "outputs": [
    {
     "data": {
      "text/plain": [
       "0            Alexander von Humboldt\n",
       "1            Alexander von Humboldt\n",
       "2            Alexander von Humboldt\n",
       "3            Alexander von Humboldt\n",
       "4            Alexander von Humboldt\n",
       "5            Alexander von Humboldt\n",
       "6            Alexander von Humboldt\n",
       "7            Alexander von Humboldt\n",
       "8            Alexander von Humboldt\n",
       "9            Alexander von Humboldt\n",
       "10           Alexander von Humboldt\n",
       "11           Alexander von Humboldt\n",
       "12           Alexander von Humboldt\n",
       "13           Alexander von Humboldt\n",
       "14           Alexander von Humboldt\n",
       "15           Alexander von Humboldt\n",
       "16                    Aimé Bonpland\n",
       "17           Alexander von Humboldt\n",
       "18           Alexander von Humboldt\n",
       "19           Alexander von Humboldt\n",
       "20            Aylmer Bourke Lambert\n",
       "21      George Arnott Walker-Arnott\n",
       "22      George Arnott Walker-Arnott\n",
       "23           Alexander von Humboldt\n",
       "24           Johann Moritz Rugendas\n",
       "25           Johann Moritz Rugendas\n",
       "26           Alexander von Humboldt\n",
       "27           Johann Moritz Rugendas\n",
       "28           Alexander von Humboldt\n",
       "29           Alexander von Humboldt\n",
       "30           Alexander von Humboldt\n",
       "31           Alexander von Humboldt\n",
       "32    Christian Gottfried Ehrenberg\n",
       "33           Alexander von Humboldt\n",
       "34           Alexander von Humboldt\n",
       "35           Alexander von Humboldt\n",
       "36           Alexander von Humboldt\n",
       "37           Johann Moritz Rugendas\n",
       "38           Alexander von Humboldt\n",
       "39           Alexander von Humboldt\n",
       "40           Alexander von Humboldt\n",
       "41           Alexander von Humboldt\n",
       "42           Alexander von Humboldt\n",
       "43           Alexander von Humboldt\n",
       "44           Alexander von Humboldt\n",
       "45           Alexander von Humboldt\n",
       "46           Alexander von Humboldt\n",
       "47           Alexander von Humboldt\n",
       "48           Alexander von Humboldt\n",
       "49           Alexander von Humboldt\n",
       "Name: sender, dtype: object"
      ]
     },
     "execution_count": 81,
     "metadata": {},
     "output_type": "execute_result"
    }
   ],
   "source": [
    "df.loc[:, 'sender']"
   ]
  },
  {
   "attachments": {},
   "cell_type": "markdown",
   "metadata": {},
   "source": [
    "### einzelne Zellen auswählen"
   ]
  },
  {
   "cell_type": "code",
   "execution_count": 82,
   "metadata": {},
   "outputs": [
    {
     "data": {
      "text/plain": [
       "'Alexander von Humboldt'"
      ]
     },
     "execution_count": 82,
     "metadata": {},
     "output_type": "execute_result"
    }
   ],
   "source": [
    "df.loc[0, 'sender']"
   ]
  },
  {
   "cell_type": "code",
   "execution_count": 83,
   "metadata": {},
   "outputs": [
    {
     "data": {
      "text/plain": [
       "'Alexander von Humboldt'"
      ]
     },
     "execution_count": 83,
     "metadata": {},
     "output_type": "execute_result"
    }
   ],
   "source": [
    "df.iloc[0, 3]"
   ]
  },
  {
   "cell_type": "code",
   "execution_count": 84,
   "metadata": {},
   "outputs": [
    {
     "data": {
      "text/plain": [
       "0    Alexander von Humboldt\n",
       "1    Alexander von Humboldt\n",
       "2    Alexander von Humboldt\n",
       "3    Alexander von Humboldt\n",
       "4    Alexander von Humboldt\n",
       "5    Alexander von Humboldt\n",
       "Name: sender, dtype: object"
      ]
     },
     "execution_count": 84,
     "metadata": {},
     "output_type": "execute_result"
    }
   ],
   "source": [
    "# Ausgabe der ersten fünf Zeil der Spalte sender\n",
    "df.loc[0:5, 'sender']"
   ]
  },
  {
   "cell_type": "code",
   "execution_count": 85,
   "metadata": {},
   "outputs": [
    {
     "data": {
      "text/plain": [
       "reference      https://edition-humboldt.de/H0002655\n",
       "edition_id                                    #AVHR\n",
       "sender_id            http://d-nb.info/gnd/118554700\n",
       "sender                       Alexander von Humboldt\n",
       "receiver_id          http://d-nb.info/gnd/118805193\n",
       "receiver              Samuel Thomas von Soemmerring\n",
       "date                            1793-12-05 00:00:00\n",
       "place_id            http://sws.geonames.org/6556797\n",
       "place                                          Berg\n",
       "Name: 0, dtype: object"
      ]
     },
     "execution_count": 85,
     "metadata": {},
     "output_type": "execute_result"
    }
   ],
   "source": [
    "# Ausgabe der ersten Zeile\n",
    "df.loc[0, :]"
   ]
  },
  {
   "attachments": {},
   "cell_type": "markdown",
   "metadata": {},
   "source": [
    "### Kategorische Daten"
   ]
  },
  {
   "cell_type": "markdown",
   "metadata": {},
   "source": [
    "Wir können die Anzahl der mindestens einmal autretenden Werte einer Spalte sowie diese Werte selbst ausgeben. Auch eine Übersicht über die Topwerte dieser kategorischen Datenspalte ist möglich."
   ]
  },
  {
   "cell_type": "code",
   "execution_count": 86,
   "metadata": {},
   "outputs": [
    {
     "data": {
      "text/plain": [
       "6"
      ]
     },
     "execution_count": 86,
     "metadata": {},
     "output_type": "execute_result"
    }
   ],
   "source": [
    "df.loc[: , 'sender'].nunique()"
   ]
  },
  {
   "cell_type": "code",
   "execution_count": 87,
   "metadata": {},
   "outputs": [
    {
     "data": {
      "text/plain": [
       "array(['Alexander von Humboldt', 'Aimé Bonpland', 'Aylmer Bourke Lambert',\n",
       "       'George Arnott Walker-Arnott', 'Johann Moritz Rugendas',\n",
       "       'Christian Gottfried Ehrenberg'], dtype=object)"
      ]
     },
     "execution_count": 87,
     "metadata": {},
     "output_type": "execute_result"
    }
   ],
   "source": [
    "df.loc[: , 'sender'].unique()"
   ]
  },
  {
   "cell_type": "code",
   "execution_count": 88,
   "metadata": {},
   "outputs": [
    {
     "data": {
      "text/plain": [
       "count                         50\n",
       "unique                         6\n",
       "top       Alexander von Humboldt\n",
       "freq                          41\n",
       "Name: sender, dtype: object"
      ]
     },
     "execution_count": 88,
     "metadata": {},
     "output_type": "execute_result"
    }
   ],
   "source": [
    "df.loc[: , 'sender'].describe()"
   ]
  },
  {
   "cell_type": "code",
   "execution_count": 89,
   "metadata": {},
   "outputs": [
    {
     "data": {
      "text/plain": [
       "Index(['reference', 'edition_id', 'sender_id', 'sender', 'receiver_id',\n",
       "       'receiver', 'date', 'place_id', 'place'],\n",
       "      dtype='object')"
      ]
     },
     "execution_count": 89,
     "metadata": {},
     "output_type": "execute_result"
    }
   ],
   "source": [
    "df.columns"
   ]
  },
  {
   "attachments": {},
   "cell_type": "markdown",
   "metadata": {},
   "source": [
    "## Erstellen einer neuen Spalte\n",
    "\n",
    "Neue Spalten können dem Dataframe leicht hinzugefügt werden. Wir werden zwei fiktive Spalten erstellen, dies funktioniert wie folgt:"
   ]
  },
  {
   "cell_type": "code",
   "execution_count": 90,
   "metadata": {},
   "outputs": [],
   "source": [
    "# zusammensetzen von zwei Spalten\n",
    "df.loc[:, 'sender_to_receiver'] = df.loc[:, 'sender'] + ' => ' + df.loc[:, 'receiver']"
   ]
  },
  {
   "cell_type": "code",
   "execution_count": 91,
   "metadata": {},
   "outputs": [],
   "source": [
    "# Wert für neue Spalte berechnen\n",
    "df.loc[:, 'length_sender_name'] = df.loc[:, 'sender'].apply(len)"
   ]
  },
  {
   "cell_type": "code",
   "execution_count": 92,
   "metadata": {},
   "outputs": [
    {
     "name": "stdout",
     "output_type": "stream",
     "text": [
      "<class 'pandas.core.frame.DataFrame'>\n",
      "RangeIndex: 50 entries, 0 to 49\n",
      "Data columns (total 11 columns):\n",
      " #   Column              Non-Null Count  Dtype         \n",
      "---  ------              --------------  -----         \n",
      " 0   reference           50 non-null     object        \n",
      " 1   edition_id          50 non-null     object        \n",
      " 2   sender_id           50 non-null     object        \n",
      " 3   sender              50 non-null     object        \n",
      " 4   receiver_id         50 non-null     object        \n",
      " 5   receiver            50 non-null     object        \n",
      " 6   date                50 non-null     datetime64[ns]\n",
      " 7   place_id            48 non-null     object        \n",
      " 8   place               21 non-null     object        \n",
      " 9   sender_to_receiver  50 non-null     object        \n",
      " 10  length_sender_name  50 non-null     int64         \n",
      "dtypes: datetime64[ns](1), int64(1), object(9)\n",
      "memory usage: 4.4+ KB\n",
      "None\n"
     ]
    },
    {
     "data": {
      "text/html": [
       "<div>\n",
       "<style scoped>\n",
       "    .dataframe tbody tr th:only-of-type {\n",
       "        vertical-align: middle;\n",
       "    }\n",
       "\n",
       "    .dataframe tbody tr th {\n",
       "        vertical-align: top;\n",
       "    }\n",
       "\n",
       "    .dataframe thead th {\n",
       "        text-align: right;\n",
       "    }\n",
       "</style>\n",
       "<table border=\"1\" class=\"dataframe\">\n",
       "  <thead>\n",
       "    <tr style=\"text-align: right;\">\n",
       "      <th></th>\n",
       "      <th>reference</th>\n",
       "      <th>edition_id</th>\n",
       "      <th>sender_id</th>\n",
       "      <th>sender</th>\n",
       "      <th>receiver_id</th>\n",
       "      <th>receiver</th>\n",
       "      <th>date</th>\n",
       "      <th>place_id</th>\n",
       "      <th>place</th>\n",
       "      <th>sender_to_receiver</th>\n",
       "      <th>length_sender_name</th>\n",
       "    </tr>\n",
       "  </thead>\n",
       "  <tbody>\n",
       "    <tr>\n",
       "      <th>0</th>\n",
       "      <td>https://edition-humboldt.de/H0002655</td>\n",
       "      <td>#AVHR</td>\n",
       "      <td>http://d-nb.info/gnd/118554700</td>\n",
       "      <td>Alexander von Humboldt</td>\n",
       "      <td>http://d-nb.info/gnd/118805193</td>\n",
       "      <td>Samuel Thomas von Soemmerring</td>\n",
       "      <td>1793-12-05</td>\n",
       "      <td>http://sws.geonames.org/6556797</td>\n",
       "      <td>Berg</td>\n",
       "      <td>Alexander von Humboldt =&gt; Samuel Thomas von So...</td>\n",
       "      <td>22</td>\n",
       "    </tr>\n",
       "    <tr>\n",
       "      <th>1</th>\n",
       "      <td>https://edition-humboldt.de/H0002730</td>\n",
       "      <td>#AVHR</td>\n",
       "      <td>http://d-nb.info/gnd/118554700</td>\n",
       "      <td>Alexander von Humboldt</td>\n",
       "      <td>http://d-nb.info/gnd/118805193</td>\n",
       "      <td>Samuel Thomas von Soemmerring</td>\n",
       "      <td>1794-02-06</td>\n",
       "      <td>http://sws.geonames.org/2951825</td>\n",
       "      <td>Bayreuth</td>\n",
       "      <td>Alexander von Humboldt =&gt; Samuel Thomas von So...</td>\n",
       "      <td>22</td>\n",
       "    </tr>\n",
       "    <tr>\n",
       "      <th>2</th>\n",
       "      <td>https://edition-humboldt.de/H0002729</td>\n",
       "      <td>#AVHR</td>\n",
       "      <td>http://d-nb.info/gnd/118554700</td>\n",
       "      <td>Alexander von Humboldt</td>\n",
       "      <td>http://d-nb.info/gnd/118805193</td>\n",
       "      <td>Samuel Thomas von Soemmerring</td>\n",
       "      <td>1795-06-07</td>\n",
       "      <td>http://sws.geonames.org/2951825</td>\n",
       "      <td>Bayreuth</td>\n",
       "      <td>Alexander von Humboldt =&gt; Samuel Thomas von So...</td>\n",
       "      <td>22</td>\n",
       "    </tr>\n",
       "    <tr>\n",
       "      <th>3</th>\n",
       "      <td>https://edition-humboldt.de/H0002657</td>\n",
       "      <td>#AVHR</td>\n",
       "      <td>http://d-nb.info/gnd/118554700</td>\n",
       "      <td>Alexander von Humboldt</td>\n",
       "      <td>http://d-nb.info/gnd/118805193</td>\n",
       "      <td>Samuel Thomas von Soemmerring</td>\n",
       "      <td>1795-06-29</td>\n",
       "      <td>http://sws.geonames.org/2919290</td>\n",
       "      <td>Goldkronach</td>\n",
       "      <td>Alexander von Humboldt =&gt; Samuel Thomas von So...</td>\n",
       "      <td>22</td>\n",
       "    </tr>\n",
       "    <tr>\n",
       "      <th>4</th>\n",
       "      <td>https://edition-humboldt.de/H0001183</td>\n",
       "      <td>#AVHR</td>\n",
       "      <td>http://d-nb.info/gnd/118554700</td>\n",
       "      <td>Alexander von Humboldt</td>\n",
       "      <td>http://d-nb.info/gnd/117387436</td>\n",
       "      <td>Karl Ludwig Willdenow</td>\n",
       "      <td>1795-07-17</td>\n",
       "      <td>http://sws.geonames.org/2951825</td>\n",
       "      <td>Bayreuth</td>\n",
       "      <td>Alexander von Humboldt =&gt; Karl Ludwig Willdenow</td>\n",
       "      <td>22</td>\n",
       "    </tr>\n",
       "  </tbody>\n",
       "</table>\n",
       "</div>"
      ],
      "text/plain": [
       "                              reference edition_id  \\\n",
       "0  https://edition-humboldt.de/H0002655      #AVHR   \n",
       "1  https://edition-humboldt.de/H0002730      #AVHR   \n",
       "2  https://edition-humboldt.de/H0002729      #AVHR   \n",
       "3  https://edition-humboldt.de/H0002657      #AVHR   \n",
       "4  https://edition-humboldt.de/H0001183      #AVHR   \n",
       "\n",
       "                        sender_id                  sender  \\\n",
       "0  http://d-nb.info/gnd/118554700  Alexander von Humboldt   \n",
       "1  http://d-nb.info/gnd/118554700  Alexander von Humboldt   \n",
       "2  http://d-nb.info/gnd/118554700  Alexander von Humboldt   \n",
       "3  http://d-nb.info/gnd/118554700  Alexander von Humboldt   \n",
       "4  http://d-nb.info/gnd/118554700  Alexander von Humboldt   \n",
       "\n",
       "                      receiver_id                       receiver       date  \\\n",
       "0  http://d-nb.info/gnd/118805193  Samuel Thomas von Soemmerring 1793-12-05   \n",
       "1  http://d-nb.info/gnd/118805193  Samuel Thomas von Soemmerring 1794-02-06   \n",
       "2  http://d-nb.info/gnd/118805193  Samuel Thomas von Soemmerring 1795-06-07   \n",
       "3  http://d-nb.info/gnd/118805193  Samuel Thomas von Soemmerring 1795-06-29   \n",
       "4  http://d-nb.info/gnd/117387436          Karl Ludwig Willdenow 1795-07-17   \n",
       "\n",
       "                          place_id        place  \\\n",
       "0  http://sws.geonames.org/6556797         Berg   \n",
       "1  http://sws.geonames.org/2951825     Bayreuth   \n",
       "2  http://sws.geonames.org/2951825     Bayreuth   \n",
       "3  http://sws.geonames.org/2919290  Goldkronach   \n",
       "4  http://sws.geonames.org/2951825     Bayreuth   \n",
       "\n",
       "                                  sender_to_receiver  length_sender_name  \n",
       "0  Alexander von Humboldt => Samuel Thomas von So...                  22  \n",
       "1  Alexander von Humboldt => Samuel Thomas von So...                  22  \n",
       "2  Alexander von Humboldt => Samuel Thomas von So...                  22  \n",
       "3  Alexander von Humboldt => Samuel Thomas von So...                  22  \n",
       "4    Alexander von Humboldt => Karl Ludwig Willdenow                  22  "
      ]
     },
     "execution_count": 92,
     "metadata": {},
     "output_type": "execute_result"
    }
   ],
   "source": [
    "print(df.info())\n",
    "df.head(5)\n"
   ]
  },
  {
   "attachments": {},
   "cell_type": "markdown",
   "metadata": {},
   "source": [
    "## Abfragen mit boolscher Maske\n",
    "\n",
    "Mit der Hilfe von Maskierung, d.h. mit der Angabe `True` bzw. `False` bei einer bestimmten Abfrage, kann der Dataframe auf Grundlage dieser Abfrage gefiltert werden. Die zwei Beispiele sollen die Funktionsweise veranschaulichen.\n",
    "\n",
    "Wie oft kommt das Adelsprädikat 'von' in den Namen der Briefempfänger vor?"
   ]
  },
  {
   "cell_type": "code",
   "execution_count": 93,
   "metadata": {},
   "outputs": [
    {
     "name": "stdout",
     "output_type": "stream",
     "text": [
      "21\n"
     ]
    }
   ],
   "source": [
    "query = df.loc[:, 'receiver'].str.contains('von').sum()\n",
    "print(query)"
   ]
  },
  {
   "cell_type": "code",
   "execution_count": 94,
   "metadata": {},
   "outputs": [
    {
     "data": {
      "text/plain": [
       "0    Samuel Thomas von Soemmerring\n",
       "1    Samuel Thomas von Soemmerring\n",
       "2    Samuel Thomas von Soemmerring\n",
       "3    Samuel Thomas von Soemmerring\n",
       "5    Samuel Thomas von Soemmerring\n",
       "Name: receiver, dtype: object"
      ]
     },
     "execution_count": 94,
     "metadata": {},
     "output_type": "execute_result"
    }
   ],
   "source": [
    "mask = df.loc[:, 'receiver'].str.contains('von')\n",
    "df_von = df.loc[mask, :]\n",
    "\n",
    "df_von.loc[:, 'receiver'].head()"
   ]
  },
  {
   "cell_type": "markdown",
   "metadata": {},
   "source": [
    "Wie oft ist der Wert für den Ortsname 'Bayreuth'?"
   ]
  },
  {
   "cell_type": "code",
   "execution_count": 95,
   "metadata": {},
   "outputs": [
    {
     "name": "stdout",
     "output_type": "stream",
     "text": [
      "7\n"
     ]
    },
    {
     "data": {
      "text/plain": [
       "1    Bayreuth\n",
       "2    Bayreuth\n",
       "4    Bayreuth\n",
       "5    Bayreuth\n",
       "7    Bayreuth\n",
       "8    Bayreuth\n",
       "9    Bayreuth\n",
       "Name: place, dtype: object"
      ]
     },
     "execution_count": 95,
     "metadata": {},
     "output_type": "execute_result"
    }
   ],
   "source": [
    "mask = df.loc[:, 'place'] == 'Bayreuth'\n",
    "df_place = df.loc[mask, :]\n",
    "\n",
    "print(df_place.shape[0])\n",
    "df_place.loc[:, 'place'].head(7)"
   ]
  },
  {
   "cell_type": "code",
   "execution_count": 96,
   "metadata": {},
   "outputs": [
    {
     "data": {
      "text/plain": [
       "21"
      ]
     },
     "execution_count": 96,
     "metadata": {},
     "output_type": "execute_result"
    }
   ],
   "source": [
    "query = df.loc[:, 'receiver'].str.contains('von').sum()\n",
    "query"
   ]
  }
 ],
 "metadata": {
  "kernelspec": {
   "display_name": "base",
   "language": "python",
   "name": "python3"
  },
  "language_info": {
   "codemirror_mode": {
    "name": "ipython",
    "version": 3
   },
   "file_extension": ".py",
   "mimetype": "text/x-python",
   "name": "python",
   "nbconvert_exporter": "python",
   "pygments_lexer": "ipython3",
   "version": "3.9.7"
  },
  "orig_nbformat": 4
 },
 "nbformat": 4,
 "nbformat_minor": 2
}
