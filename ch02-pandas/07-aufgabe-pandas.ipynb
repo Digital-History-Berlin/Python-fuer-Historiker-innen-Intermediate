{
 "cells": [
  {
   "cell_type": "markdown",
   "metadata": {},
   "source": [
    "# 📝 Übung zum Data Mining mit Pandas\n",
    "\n",
    "**Zum [Lösungsnotebook](pandas-loesung)**\n",
    "\n",
    "Für die folgenden Aufgaben nutzen wir einen neuen Datensatz. Es handelt sich hier um Reden der Bundesregierung.\n",
    "Die Textdaten f sind dem Projekt German Political Speeches Corpus entnommen. Adrien Barbaresi. (2019). German Political Speeches Corpus (Version v4.2019) [Data set]. Zenodo. https://doi.org/10.5281/zenodo.3611246. \n",
    "\n",
    "Barbaresi, Adrien (2018). \"A corpus of German political speeches from the 21st century\", Proceedings of the Eleventh International Conference on Language Resources and Evaluation (LREC 2018), European Language Resources Association (ELRA), pp. 792–797. http://purl.org/corpus/german-speeches (BibTeX entry)"
   ]
  },
  {
   "cell_type": "markdown",
   "metadata": {},
   "source": [
    "## Aufgabe: Pandas Basics\n",
    "Wir gehen noch mal ein paar grundlegende Befehle durch.\n",
    "\n",
    "1. Importieren Sie die Bibliothek Pandas entsprechend der gängigen Konventionen."
   ]
  },
  {
   "cell_type": "code",
   "execution_count": null,
   "metadata": {},
   "outputs": [],
   "source": []
  },
  {
   "cell_type": "markdown",
   "metadata": {},
   "source": [
    "2. Lesen Sie die Datei `speeches-bundesregierung_bearbeitet.json` im Ordner `data`, der relativ zum übergeordneten Ordner liegt, als Dataframe ein."
   ]
  },
  {
   "cell_type": "code",
   "execution_count": null,
   "metadata": {},
   "outputs": [],
   "source": [
    "# Daten einlesen\n"
   ]
  },
  {
   "cell_type": "markdown",
   "metadata": {},
   "source": [
    "3. Lassen Sie sich die ersten und letzten Zeilen des Dataframes anzeigen"
   ]
  },
  {
   "cell_type": "code",
   "execution_count": null,
   "metadata": {},
   "outputs": [],
   "source": []
  },
  {
   "cell_type": "code",
   "execution_count": null,
   "metadata": {},
   "outputs": [],
   "source": []
  },
  {
   "cell_type": "markdown",
   "metadata": {},
   "source": [
    "4. Lassen Sie sich die statistische Beschreibung aller (!) verfügbaren Spalten ausgeben."
   ]
  },
  {
   "cell_type": "code",
   "execution_count": null,
   "metadata": {},
   "outputs": [],
   "source": []
  },
  {
   "cell_type": "markdown",
   "metadata": {},
   "source": [
    "5. Greifen Sie auf die Zeilen 35 bis 212 in den Spalten \"person\" und \"title\" zu."
   ]
  },
  {
   "cell_type": "code",
   "execution_count": null,
   "metadata": {},
   "outputs": [],
   "source": []
  },
  {
   "cell_type": "markdown",
   "metadata": {},
   "source": [
    "## Aufgabe: Eigene Datenabfrage gestalten\n",
    "\n",
    "Überlegen Sie sich für das Korpus der Reden von Angehörigen der Bundesregierung eine eigene inhaltlich-thematische Datenabfrage, die von booleschen Masken Gebrauch macht. Ihre Abfrage sollte aus mehreren Bestandteilen bestehen (\"Schlagwortsuche\", Begrenzung nach Redner:in oder Jahr). Gerne können Sie verschiedene logische/boolesche Operatoren miteinander verknüpfen (`&`, `|`, `==`, usw.)."
   ]
  },
  {
   "cell_type": "code",
   "execution_count": null,
   "metadata": {},
   "outputs": [],
   "source": [
    "# Beispielabfrage zur Orientierung\n",
    "mask = (df.loc[:, \"text\"].str.contains(\"Ukraine\")) \\\n",
    "      & (df.loc[:, \"text\"].str.contains(\"Russland\")) \\\n",
    "      & (df.loc[:, \"person\"] == \"Angela Merkel\")        \n",
    "\n",
    "df_uk_ru = df.loc[mask,:]\n",
    "df_uk_ru.shape"
   ]
  },
  {
   "cell_type": "code",
   "execution_count": null,
   "metadata": {},
   "outputs": [],
   "source": [
    "df_uk_ru"
   ]
  },
  {
   "cell_type": "code",
   "execution_count": null,
   "metadata": {},
   "outputs": [],
   "source": []
  },
  {
   "cell_type": "code",
   "execution_count": null,
   "metadata": {},
   "outputs": [],
   "source": []
  },
  {
   "cell_type": "markdown",
   "metadata": {},
   "source": [
    "## Aufgabe: Anzahl der Token pro Rede ermitteln und speichern\n",
    "\n",
    "Wir wollen die Anzahl der Token, also die Länge der einzelnen Reden ermitteln und die Informationen wieder im Dataframe als neue Spalte speichern.\n",
    "\n",
    "- Lesen Sie dazu die Texte aus der Spalte `text` aus und speichern Sie sie in einer Liste. \n",
    "- Sorgen Sie nun dafür, dass die einzelnen Texte in Wortlisten zerlegt werden und bestimmen Sie die Länge der einzelnen Wortlisten. \n",
    "- Die Länge der Texte soll als neue Spalte `ntokens` zum Dataframe hinzugefügt werden.\n"
   ]
  },
  {
   "cell_type": "code",
   "execution_count": null,
   "metadata": {},
   "outputs": [],
   "source": []
  },
  {
   "cell_type": "markdown",
   "metadata": {},
   "source": [
    "## Aufgabe: Datenabfragen gestalten\n",
    "\n",
    "Erkunden Sie das Korpus von Reden von Angehörigen der Bundesregierung, um ein tieferes Verständnis verschiedener thematischer Schwerpunkte und die Nutzung spezifischer Begrifflichkeiten über die Zeit zu gewinnen. \n",
    "\n",
    "1. Extrahieren Sie alle Reden, die im Jahr 2001 gehalten wurden.\n",
    "2. Ermitteln Sie die Anzahl der Reden, die das Wort \"Europa\" enthalten.\n",
    "3. Identifizieren Sie Reden, die den Begriff \"digital\" und \"Digitalisierung\" enthalten. \n",
    "4. Suchen Sie nach Reden, die zwischen 2000 und 2010 gehalten wurden, die sich auf Umweltthemen beziehen. In Frage kommen hierfür Begriffe wie \"Umwelt\", \"Klima\", \"Nachhaltigkeit\" oder ähnliches. Formulieren Sie eine Abfrage, die mehrere dieser Begriffe berücksichtigt. Achten Sie ggf. darauf, wie die Bedingungen mit runden Klammern gruppiert werden müssen.\n",
    "\n",
    "Hinweise:\n",
    "- Für diese Aufgabe benötigen Sie die logischen Operatoren für *UND* (`&`) und *ODER* (`|`) - letzteres ist je nach Tastatur auf einer anderen Taste. Wichtig: In Python hat der logische Operator `&` eine höhere Priorität als `|`. Bei Abfragen, die beide Operatoren verwenden, muss also darauf geachtet werden, wie die Abfragebestandteile mit runden Klammern gruppiert werden.\n",
    "- Die Funktion `contains()` arbeitet standardmäßig case-sensitiv. Wenn Sie eine case-insensitive Suche durchführen möchten, können Sie den Parameter `case=False` ergänzen.\n"
   ]
  },
  {
   "cell_type": "code",
   "execution_count": null,
   "metadata": {},
   "outputs": [],
   "source": [
    "# Erste Aufgabe\n"
   ]
  },
  {
   "cell_type": "code",
   "execution_count": null,
   "metadata": {},
   "outputs": [],
   "source": [
    "# Zweite Aufgabe\n"
   ]
  },
  {
   "cell_type": "code",
   "execution_count": null,
   "metadata": {},
   "outputs": [],
   "source": [
    "# Dritte Aufgabe\n"
   ]
  },
  {
   "cell_type": "code",
   "execution_count": null,
   "metadata": {},
   "outputs": [],
   "source": [
    "# Vierte Aufgabe\n",
    "\n"
   ]
  }
 ],
 "metadata": {
  "kernelspec": {
   "display_name": "mininghistoriansweb",
   "language": "python",
   "name": "python3"
  },
  "language_info": {
   "codemirror_mode": {
    "name": "ipython",
    "version": 3
   },
   "file_extension": ".py",
   "mimetype": "text/x-python",
   "name": "python",
   "nbconvert_exporter": "python",
   "pygments_lexer": "ipython3",
   "version": "3.9.18"
  }
 },
 "nbformat": 4,
 "nbformat_minor": 2
}
