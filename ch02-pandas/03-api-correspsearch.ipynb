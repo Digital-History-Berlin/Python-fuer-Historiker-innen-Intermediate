{
 "cells": [
  {
   "cell_type": "markdown",
   "metadata": {},
   "source": [
    "# Data Gathering und Data Wrangling mit Daten der CorrespSearch-API\n",
    "\n",
    ":::{index} correspSearch\n",
    ":name: correspsearch_\n",
    ":::\n",
    "\n",
    "Wenn wir mit Daten arbeiten, ist es eine immer wiederkehrende Aufgabe, diese Daten zunächst zu sammeln und sie für ein Format bzw. für ein Datenmodell aufzubereiten, wie es zur Weiterverarbeitung erforderlich ist. Im Folgenden führen wir diese Schritte exemplarisch durch. Dazu nutzen wir für das {term}`Data Gathering` die {term}`API` des Projekts [correspSearch](https://correspsearch.net/). CorrespSearch bietet zahlreiche {term}`Metadaten` zu einer Fülle an Briefkorrespondenzen. Wir werden uns auf die Briefkorrespondenz einer Person beschränken und werden die Metadaten zu den [Briefen von Alexander von Humboldt](https://correspsearch.net/de/suche.html?s=http://d-nb.info/gnd/118554700) mit Hilfe der API abrufen. Allerdings werden wir für diesen Zweck hier im Juypter Book nicht alle ca. 7.000 bei correspSearch verzeichneten Briefe nutzen, sondern lediglich diejenigen, die im Volltext der [edition humboldt digital](https://edition-humboldt.de/) verfügbar sind - diese Volltexte werden wir im nächsten Kapitel dann auswerten. Wie das Vorgehen ist, um an die Metadaten dieser Briefe heranzukommen, werden wir im Folgenden exemplarisch durchgehen."
   ]
  },
  {
   "cell_type": "markdown",
   "metadata": {},
   "source": [
    "## Install und Import\n",
    "\n",
    "Für das hier gewählte Vorgehen können wir ein kleines Python-Paket sehr gut nutzen, dass uns bei der Arbeit mit {term}`JSON`-Objekten hilft. Zunächst installieren wir das Paket [`flatten-json`](https://pypi.org/project/flatten-json/) mit Hilfe von {term}`PIP`. Um den Befehl in einer Zelle des Jupyter Notebooks auszuführen, muss dem Befehl pip einfach ein '!' vorangestellt werden. Danach können wir dieses Paket mit den anderen erforderlichen Paketen importieren.\n",
    "\n",
    "Wer nochmal einen Refresher zu JSON benötigt, erfährt dazu alles grundlegende im Jupyter Book 'Python Basics' im Kapitel [Dateien verarbeiten](https://digital-history-berlin.github.io/Python-fuer-Historiker-innen/ch04-dateien-verarbeiten/03-json.html).\n",
    "\n",
    ":::{index} single: Bibliothek ; flatten-json\n",
    ":name: flatten_json_\n",
    ":::\n",
    "\n",
    ":::{index} single: Bibliothek ; os\n",
    ":name: os_\n",
    ":::"
   ]
  },
  {
   "cell_type": "code",
   "execution_count": 2,
   "metadata": {},
   "outputs": [
    {
     "name": "stdout",
     "output_type": "stream",
     "text": [
      "Requirement already satisfied: flatten-json in c:\\users\\nitra\\anaconda3\\envs\\base_2_expand\\lib\\site-packages (0.1.14)\n",
      "Requirement already satisfied: six in c:\\users\\nitra\\anaconda3\\envs\\base_2_expand\\lib\\site-packages (from flatten-json) (1.16.0)\n"
     ]
    }
   ],
   "source": [
    "!pip install flatten-json"
   ]
  },
  {
   "cell_type": "code",
   "execution_count": 3,
   "metadata": {},
   "outputs": [],
   "source": [
    "import os\n",
    "import json\n",
    "import time\n",
    "import requests\n",
    "\n",
    "import pandas as pd\n",
    "\n",
    "from flatten_json import flatten"
   ]
  },
  {
   "cell_type": "markdown",
   "metadata": {},
   "source": [
    "## API von correspSearch\n",
    "\n",
    "Die Dokumentation zur [correspSearch API v2](https://correspsearch.net/de/api.html) bietet alle wichtigen Informationen, um die Metadaten der in corresSearch vorhandenen Briefeditionen automatisiert abzufragen. Die Abfrage erfolgt mittels URL-Parameter: Mit Hilfe der {term}`Parameter` kann nach Personen/Institutionen, Orten, nach Zeiträumen, Berufen der Personen, nach den Editionen sowie nach Verfügbarkeit gefiltert werden. In der Dokumentation finden sich neben den Erläuterung zu diesen Parametern auch die nötigen Informationen über die unterschiedlichen Rückgabeformate. Für das im Folgenden vorgestellte Vorgehen haben wir uns für das Format {term}`TEI-JSON` entschieden. Weitere Erläuterungen zum Vorgehen bei einer API-Anfragen können im Kapitel \"[Einführung in Weg APIs](intro-api)\" dieses Jupyter Books nachgelesen werden.\n",
    "\n",
    "Bevor wir uns die Zusammensetzung der API-Anfrage zuwenden, schauen wir uns die Daten, die wir zurückerhalten, etwas genauer an. Im `teiHeader` sind allgemeine Metadaten zum Projekt enthalten. Für uns ist das `notesStmt` interessant, denn hier können wir herausfinden, wie viele Treffer unsere Anfrage ergeben hat. In `sourceDesc` finden sich die Informationen zu den Editionen / Publikationen aus denen die Metadaten zu den Briefen entnommen sind. Wir interessieren uns aber vor allem für die Infos in `correspDesc`, den Beschreibungen der angefragten Briefe, die in unter `profileDesc` stehen. Grundsätzlich sind eine Erkundung der Datenmodellierung sowie gute Kenntnisse der Daten von Vorteil und stets sehr hilfreich."
   ]
  },
  {
   "cell_type": "markdown",
   "metadata": {},
   "source": [
    "```json\n",
    "{\n",
    "    \"teiHeader\": {\n",
    "        \"fileDesc\": {\n",
    "            \"titleStmt\": {\n",
    "                \"title\": \"correspSearch API 2.0 (BETA)\",\n",
    "                \"editor\": [\n",
    "                    {\n",
    "                        \"#text\": \"correspsearch@bbaw.de\",\n",
    "                        \"email\": \"no-email-provided@correspsearch.net\"\n",
    "                    }\n",
    "                ]\n",
    "            },\n",
    "            \"publicationStmt\": {\n",
    "                \"publisher\": [\n",
    "                    {\n",
    "                        \"ref\": {\n",
    "                            \"target\": \"https://www.bbaw.de/\",\n",
    "                            \"#text\": \"Berlin-Brandenburg Academy of Sciences and Humanities\"\n",
    "                        }\n",
    "                    }\n",
    "                ],\n",
    "                \"availibility\": {\n",
    "                    \"licence\": [\n",
    "                        {\n",
    "                            \"target\": \"https://creativecommons.org/licenses/by/4.0/\",\n",
    "                            \"#text\": \"CC-BY 4.0\"\n",
    "                        }\n",
    "                    ]\n",
    "                },\n",
    "                \"idno\": \"https://correspsearch.net/api/v2.0/tei-json.xql?s=http://d-nb.info/gnd/118554700&amp;e=AVHR&amp;x=1\",\n",
    "                \"date\": {\n",
    "                    \"when\": \"2024-02-28T12:19:20.428+01:00\"\n",
    "                }\n",
    "            },\n",
    "            \"notesStmt\": {\n",
    "                \"note\": \"1-100 of 523 hits\",\n",
    "                \"relatedItem\": {\n",
    "                    \"type\": \"next\",\n",
    "                    \"target\": \"https://correspsearch.net/api/v2.0/tei-json.xql?s=http://d-nb.info/gnd/118554700&amp;e=AVHR&amp;x=2\"\n",
    "                }\n",
    "            },\n",
    "            \"sourceDesc\": {\n",
    "                \"bibl\": [\n",
    "                    {\n",
    "                        \"xml:id\": \"AVHR\",\n",
    "                        \"type\": \"online\",\n",
    "                        \"#text\": \"edition humboldt digital, hg. v. Ottmar Ette. Berlin-Brandenburgische Akademie der Wissenschaften, Berlin 2017–2023.\",\n",
    "                        \"ref\": {\n",
    "                            \"target\": \"https://edition-humboldt.de\",\n",
    "                            \"#text\": \"https://edition-humboldt.de\"\n",
    "                        }\n",
    "                    }\n",
    "                ]\n",
    "            }\n",
    "        },\n",
    "```"
   ]
  },
  {
   "cell_type": "markdown",
   "metadata": {},
   "source": [
    "```json\n",
    "        \"profileDesc\": {\n",
    "            \"correspDesc\": [\n",
    "                {\n",
    "                    \"ref\": \"https://edition-humboldt.de/H0002656\",\n",
    "                    \"source\": \"#AVHR\",\n",
    "                    \"correspAction\": [\n",
    "                        {\n",
    "                            \"type\": \"sent\",\n",
    "                            \"persName\": [\n",
    "                                {\n",
    "                                    \"ref\": \"http://d-nb.info/gnd/118554700\",\n",
    "                                    \"#text\": \"Alexander von Humboldt\"\n",
    "                                }\n",
    "                            ],\n",
    "                            \"placeName\": [\n",
    "                                {\n",
    "                                    \"ref\": \"http://sws.geonames.org/2911298\",\n",
    "                                    \"#text\": \"Hamburg\"\n",
    "                                }\n",
    "                            ],\n",
    "                            \"date\": [\n",
    "                                {\n",
    "                                    \"from\": \"1791-01-28\",\n",
    "                                    \"to\": \"1791-02-20\"\n",
    "                                }\n",
    "                            ]\n",
    "                        },\n",
    "                        {\n",
    "                            \"type\": \"received\",\n",
    "                            \"persName\": [\n",
    "                                {\n",
    "                                    \"ref\": \"http://d-nb.info/gnd/118805193\",\n",
    "                                    \"#text\": \"Samuel Thomas von Soemmerring\"\n",
    "                                }\n",
    "                            ]\n",
    "                        }\n",
    "                    ]\n",
    "                }\n",
    "```"
   ]
  },
  {
   "cell_type": "markdown",
   "metadata": {},
   "source": [
    "## Konstruktion der API-Anfrage\n",
    "\n",
    "Nachdem wir uns gerade die Metadaten zum ersten Brief angesehen haben, betrachten wir nun die Konstruktion der API-Anfrage genauer. \n",
    "\n",
    "* Zunächst setzen wir die Variable `api_base_url` auf das Rückgabeformat `TEI-JSON`.\n",
    "\n",
    "* Dann nutzen wir für die Variable `person` die GND-ID für Alexander von Humboldt.\n",
    "\n",
    "* Da wir direkt bei der Anfrage einen ersten Filter einsetzen möchten, mit dem wir nur die Briefe aus der [edition humboldt digital](https://edition-humboldt.de/) zurückerhalten, wählen wir für den Parameter `e=` das Kürzel für diese Edition aus und weisen diese der Variable `edition` zu."
   ]
  },
  {
   "cell_type": "code",
   "execution_count": 4,
   "metadata": {},
   "outputs": [],
   "source": [
    "# TEI-JSON\n",
    "api_base_url = 'https://correspsearch.net/api/v2.0/tei-json.xql?'\n",
    "\n",
    "# GND-ID für Alexander von Humboldt\n",
    "person = 'http://d-nb.info/gnd/118554700'\n",
    "\n",
    "# Paramter für Edition / Publikation\n",
    "edition = 'AVHR'"
   ]
  },
  {
   "cell_type": "markdown",
   "metadata": {},
   "source": [
    "Schließlich setzen wir die einzelnen Bausteine zur API-Anfrage zusammen. Angaben zur Filterung werden jeweils mit dem `&` angefügt. Mit `print` können wir den Anfrage-String ausgeben."
   ]
  },
  {
   "cell_type": "code",
   "execution_count": 5,
   "metadata": {},
   "outputs": [
    {
     "name": "stdout",
     "output_type": "stream",
     "text": [
      "https://correspsearch.net/api/v2.0/tei-json.xql?s=http://d-nb.info/gnd/118554700&e=AVHR\n"
     ]
    }
   ],
   "source": [
    "api_query = f'{api_base_url}s={person}&e={edition}'\n",
    "print(api_query)"
   ]
  },
  {
   "cell_type": "markdown",
   "metadata": {},
   "source": [
    "## Vorbereiten der API-Anfrage\n",
    "\n",
    "Als nächsten nutzen wir das Python-Modul `requests`, um die Anfrage einmalig zu stellen. Wir können dann nachsehen, wieviele Treffer die Anfrage ergeben hat, um für die Konstruktion der eigentlichen Anfrage eine wichtige Information zu erhalten. Denn: Pro Anfrage werden jeweils die Informationen für 100 Treffer zurückgegeben, wir müssen also eine Schleife nutzen -- und hierfür benötigen wir die Anzahl, wie oft diese Schleife durchlaufen werden soll. Dazu greifen wir über `['teiHeader']['fileDesc']['notesStmt']['note']` auf den String zu, der die Angaben zu den *hits* enthält. Den String splitten wir auf, nutzen das vorletzte Elemente der durch den `split`-Befehl entstehenden Liste, wandeln dieses in ein integer um und teilen diese Zahl mit der *floor division* durch 100 auf die abgerundete Ganzzahl, um dann noch 1 hinzu zu addieren.\n",
    "\n",
    "Diesen so berechnten Wert nutzen wir wiederum für den URL-Parameter `x=`, der für die Paginierung steht. Auf diese Weise erhalten wir die Treffer in Blöcken zu jeweils 100 records."
   ]
  },
  {
   "cell_type": "code",
   "execution_count": 6,
   "metadata": {},
   "outputs": [],
   "source": [
    "response = requests.get(api_query)"
   ]
  },
  {
   "cell_type": "code",
   "execution_count": 7,
   "metadata": {},
   "outputs": [
    {
     "data": {
      "text/plain": [
       "'1-100 of 523 hits'"
      ]
     },
     "execution_count": 7,
     "metadata": {},
     "output_type": "execute_result"
    }
   ],
   "source": [
    "response.json()['teiHeader']['fileDesc']['notesStmt']['note']"
   ]
  },
  {
   "cell_type": "code",
   "execution_count": 8,
   "metadata": {},
   "outputs": [
    {
     "name": "stdout",
     "output_type": "stream",
     "text": [
      "6\n"
     ]
    }
   ],
   "source": [
    "record_pages = int(response.json()['teiHeader']['fileDesc']['notesStmt']['note'].split()[-2]) // 100 + 1\n",
    "print(record_pages)"
   ]
  },
  {
   "cell_type": "markdown",
   "metadata": {},
   "source": [
    "Mit der nächsten Code-Zelle legen wir einen `data`-Ordner an, um dort die JSON-Dateien zu speichern."
   ]
  },
  {
   "cell_type": "code",
   "execution_count": 9,
   "metadata": {},
   "outputs": [
    {
     "name": "stdout",
     "output_type": "stream",
     "text": [
      "Ordner existiert bereits.\n"
     ]
    }
   ],
   "source": [
    "path = 'data'\n",
    "\n",
    "try:\n",
    "    os.mkdir(path)\n",
    "except:\n",
    "    print('Ordner existiert bereits.')"
   ]
  },
  {
   "cell_type": "markdown",
   "metadata": {},
   "source": [
    "## Durchführung der API-Anfrage\n",
    "\n",
    "Nun können wir die API-Anfrage starten. Dazu durchlaufen wir die Schleife entsprechend der Anzahl der Treffer in hunderter Blöcken. Nach jedem Durchlauf wird der Paginierungs-Parameter `x=` um eins erhöht. Wir geben dann die Angabe über den Fortgang des Durchlaufs mit dem `print`-Befehl aus. Danach konstruieren wir einen Dateinamen; dazu nutzen wir wiederum die Laufvariable der Schleife. Die erhaltenen Daten speichern wir im JSON-Format ab. Zuletzt warten wir 5 Sekunden, um die API mit den Anfragen nicht zu stark zu belasten."
   ]
  },
  {
   "cell_type": "code",
   "execution_count": 10,
   "metadata": {},
   "outputs": [
    {
     "name": "stdout",
     "output_type": "stream",
     "text": [
      "1-100 of 523 hits\n",
      "101-200 of 523 hits\n",
      "201-300 of 523 hits\n",
      "301-400 of 523 hits\n",
      "401-500 of 523 hits\n",
      "501-523 of 523 hits\n"
     ]
    }
   ],
   "source": [
    "for page_nr in range(1, record_pages + 1):\n",
    "\n",
    "    response = requests.get(f'{api_query}&x={page_nr}')\n",
    "\n",
    "    print(response.json()['teiHeader']['fileDesc']['notesStmt']['note'])\n",
    "\n",
    "    with open(f'data/{str(page_nr).zfill(4)}_AvH_{edition}.json', 'w', encoding='utf-8') as f:\n",
    "        json.dump(response.json(), f, ensure_ascii=False, indent=4)\n",
    "\n",
    "    time.sleep(5)"
   ]
  },
  {
   "cell_type": "markdown",
   "metadata": {},
   "source": [
    "Schauen wir uns den Inhalt des `data`-Ordners kurz an, ob alles passt."
   ]
  },
  {
   "cell_type": "code",
   "execution_count": 11,
   "metadata": {},
   "outputs": [
    {
     "name": "stdout",
     "output_type": "stream",
     "text": [
      "6\n",
      "['0001_AvH_AVHR.json', '0002_AvH_AVHR.json', '0003_AvH_AVHR.json', '0004_AvH_AVHR.json', '0005_AvH_AVHR.json', '0006_AvH_AVHR.json']\n"
     ]
    }
   ],
   "source": [
    "files = os.listdir('data')\n",
    "print(len(files))\n",
    "print(sorted(files))"
   ]
  },
  {
   "cell_type": "markdown",
   "metadata": {},
   "source": [
    "## Von JSON zum Pandas Dataframe\n",
    "\n",
    "Das nächste Ziel ist es, die Daten aus den JSON-Dateien in einen pandas Dataframe zu bringen. Die in der Variable `files` enthaltenen und sortierten Dateien durchlaufen wir mit einer for-Schleife: Wir öffnen die Datei, lesen die JSON ein und nutzen nun die Methode `flatten` aus dem Paket `flatten-json`, um mit Hilfe einer List Comprehension die verschachtelte Stuktur der Dictionaries 'einzuebnen'. Mit `extend()` fügen wir die jeweiligen Listen einer neu erstellten Liste hinzu. Diese Liste, die alle JSON-Objekte enthält, können wir nun in einen Dataframe überführen. Wir nutzen `flatten` allerdings lediglich für die Dictionaries, die in `correspDesc` enthalten sind. Daher setzen wir die Indexierung über `['teiHeader']['profileDesc']['correspDesc']` in den JSON-Objekten auf diesen für uns relevanten Abschnitt der Datei."
   ]
  },
  {
   "cell_type": "code",
   "execution_count": 12,
   "metadata": {},
   "outputs": [],
   "source": [
    "all_json_obj_flattened = []\n",
    "\n",
    "for file in sorted(files):\n",
    "\n",
    "    if file.endswith('.json'):\n",
    "\n",
    "        with open(f'data/{file}', 'r', encoding='utf8') as f:\n",
    "\n",
    "            json_obj = json.load(f)\n",
    "\n",
    "            dic_flattened = [ flatten(dic) for dic in json_obj['teiHeader']['profileDesc']['correspDesc'] ]\n",
    "\n",
    "            all_json_obj_flattened.extend(dic_flattened)"
   ]
  },
  {
   "cell_type": "code",
   "execution_count": 13,
   "metadata": {},
   "outputs": [
    {
     "data": {
      "text/html": [
       "<div>\n",
       "<style scoped>\n",
       "    .dataframe tbody tr th:only-of-type {\n",
       "        vertical-align: middle;\n",
       "    }\n",
       "\n",
       "    .dataframe tbody tr th {\n",
       "        vertical-align: top;\n",
       "    }\n",
       "\n",
       "    .dataframe thead th {\n",
       "        text-align: right;\n",
       "    }\n",
       "</style>\n",
       "<table border=\"1\" class=\"dataframe\">\n",
       "  <thead>\n",
       "    <tr style=\"text-align: right;\">\n",
       "      <th></th>\n",
       "      <th>ref</th>\n",
       "      <th>source</th>\n",
       "      <th>correspAction_0_type</th>\n",
       "      <th>correspAction_0_persName_0_ref</th>\n",
       "      <th>correspAction_0_persName_0_#text</th>\n",
       "      <th>correspAction_0_placeName_0_ref</th>\n",
       "      <th>correspAction_0_placeName_0_#text</th>\n",
       "      <th>correspAction_0_date_0_from</th>\n",
       "      <th>correspAction_0_date_0_to</th>\n",
       "      <th>correspAction_1_type</th>\n",
       "      <th>...</th>\n",
       "      <th>correspAction_0_placeName_1_#text</th>\n",
       "      <th>correspAction_0_date_0_#text</th>\n",
       "      <th>correspAction_0_persName_1_ref</th>\n",
       "      <th>correspAction_0_persName_1_#text</th>\n",
       "      <th>correspAction_1_persName_1_ref</th>\n",
       "      <th>correspAction_1_persName_1_#text</th>\n",
       "      <th>correspAction_0_date_1_notBefore</th>\n",
       "      <th>correspAction_0_date_1_notAfter</th>\n",
       "      <th>correspAction_0_date_1_#text</th>\n",
       "      <th>correspAction_1_date_0_when</th>\n",
       "    </tr>\n",
       "  </thead>\n",
       "  <tbody>\n",
       "    <tr>\n",
       "      <th>0</th>\n",
       "      <td>https://edition-humboldt.de/H0002656</td>\n",
       "      <td>#AVHR</td>\n",
       "      <td>sent</td>\n",
       "      <td>http://d-nb.info/gnd/118554700</td>\n",
       "      <td>Alexander von Humboldt</td>\n",
       "      <td>http://sws.geonames.org/2911298</td>\n",
       "      <td>Hamburg</td>\n",
       "      <td>1791-01-28</td>\n",
       "      <td>1791-02-20</td>\n",
       "      <td>received</td>\n",
       "      <td>...</td>\n",
       "      <td>NaN</td>\n",
       "      <td>NaN</td>\n",
       "      <td>NaN</td>\n",
       "      <td>NaN</td>\n",
       "      <td>NaN</td>\n",
       "      <td>NaN</td>\n",
       "      <td>NaN</td>\n",
       "      <td>NaN</td>\n",
       "      <td>NaN</td>\n",
       "      <td>NaN</td>\n",
       "    </tr>\n",
       "    <tr>\n",
       "      <th>1</th>\n",
       "      <td>https://edition-humboldt.de/H0002655</td>\n",
       "      <td>#AVHR</td>\n",
       "      <td>sent</td>\n",
       "      <td>http://d-nb.info/gnd/118554700</td>\n",
       "      <td>Alexander von Humboldt</td>\n",
       "      <td>http://sws.geonames.org/6556797</td>\n",
       "      <td>Berg</td>\n",
       "      <td>NaN</td>\n",
       "      <td>NaN</td>\n",
       "      <td>received</td>\n",
       "      <td>...</td>\n",
       "      <td>NaN</td>\n",
       "      <td>NaN</td>\n",
       "      <td>NaN</td>\n",
       "      <td>NaN</td>\n",
       "      <td>NaN</td>\n",
       "      <td>NaN</td>\n",
       "      <td>NaN</td>\n",
       "      <td>NaN</td>\n",
       "      <td>NaN</td>\n",
       "      <td>NaN</td>\n",
       "    </tr>\n",
       "    <tr>\n",
       "      <th>2</th>\n",
       "      <td>https://edition-humboldt.de/H0002730</td>\n",
       "      <td>#AVHR</td>\n",
       "      <td>sent</td>\n",
       "      <td>http://d-nb.info/gnd/118554700</td>\n",
       "      <td>Alexander von Humboldt</td>\n",
       "      <td>http://sws.geonames.org/2951825</td>\n",
       "      <td>Bayreuth</td>\n",
       "      <td>NaN</td>\n",
       "      <td>NaN</td>\n",
       "      <td>received</td>\n",
       "      <td>...</td>\n",
       "      <td>NaN</td>\n",
       "      <td>NaN</td>\n",
       "      <td>NaN</td>\n",
       "      <td>NaN</td>\n",
       "      <td>NaN</td>\n",
       "      <td>NaN</td>\n",
       "      <td>NaN</td>\n",
       "      <td>NaN</td>\n",
       "      <td>NaN</td>\n",
       "      <td>NaN</td>\n",
       "    </tr>\n",
       "    <tr>\n",
       "      <th>3</th>\n",
       "      <td>https://edition-humboldt.de/H0006052</td>\n",
       "      <td>#AVHR</td>\n",
       "      <td>sent</td>\n",
       "      <td>http://d-nb.info/gnd/118554700</td>\n",
       "      <td>Alexander von Humboldt</td>\n",
       "      <td>NaN</td>\n",
       "      <td>NaN</td>\n",
       "      <td>1795-01-01</td>\n",
       "      <td>1795-12-31</td>\n",
       "      <td>received</td>\n",
       "      <td>...</td>\n",
       "      <td>NaN</td>\n",
       "      <td>NaN</td>\n",
       "      <td>NaN</td>\n",
       "      <td>NaN</td>\n",
       "      <td>NaN</td>\n",
       "      <td>NaN</td>\n",
       "      <td>NaN</td>\n",
       "      <td>NaN</td>\n",
       "      <td>NaN</td>\n",
       "      <td>NaN</td>\n",
       "    </tr>\n",
       "    <tr>\n",
       "      <th>4</th>\n",
       "      <td>https://edition-humboldt.de/H0002729</td>\n",
       "      <td>#AVHR</td>\n",
       "      <td>sent</td>\n",
       "      <td>http://d-nb.info/gnd/118554700</td>\n",
       "      <td>Alexander von Humboldt</td>\n",
       "      <td>http://sws.geonames.org/2951825</td>\n",
       "      <td>Bayreuth</td>\n",
       "      <td>NaN</td>\n",
       "      <td>NaN</td>\n",
       "      <td>received</td>\n",
       "      <td>...</td>\n",
       "      <td>NaN</td>\n",
       "      <td>NaN</td>\n",
       "      <td>NaN</td>\n",
       "      <td>NaN</td>\n",
       "      <td>NaN</td>\n",
       "      <td>NaN</td>\n",
       "      <td>NaN</td>\n",
       "      <td>NaN</td>\n",
       "      <td>NaN</td>\n",
       "      <td>NaN</td>\n",
       "    </tr>\n",
       "  </tbody>\n",
       "</table>\n",
       "<p>5 rows × 28 columns</p>\n",
       "</div>"
      ],
      "text/plain": [
       "                                    ref source correspAction_0_type  \\\n",
       "0  https://edition-humboldt.de/H0002656  #AVHR                 sent   \n",
       "1  https://edition-humboldt.de/H0002655  #AVHR                 sent   \n",
       "2  https://edition-humboldt.de/H0002730  #AVHR                 sent   \n",
       "3  https://edition-humboldt.de/H0006052  #AVHR                 sent   \n",
       "4  https://edition-humboldt.de/H0002729  #AVHR                 sent   \n",
       "\n",
       "   correspAction_0_persName_0_ref correspAction_0_persName_0_#text  \\\n",
       "0  http://d-nb.info/gnd/118554700           Alexander von Humboldt   \n",
       "1  http://d-nb.info/gnd/118554700           Alexander von Humboldt   \n",
       "2  http://d-nb.info/gnd/118554700           Alexander von Humboldt   \n",
       "3  http://d-nb.info/gnd/118554700           Alexander von Humboldt   \n",
       "4  http://d-nb.info/gnd/118554700           Alexander von Humboldt   \n",
       "\n",
       "   correspAction_0_placeName_0_ref correspAction_0_placeName_0_#text  \\\n",
       "0  http://sws.geonames.org/2911298                           Hamburg   \n",
       "1  http://sws.geonames.org/6556797                              Berg   \n",
       "2  http://sws.geonames.org/2951825                          Bayreuth   \n",
       "3                              NaN                               NaN   \n",
       "4  http://sws.geonames.org/2951825                          Bayreuth   \n",
       "\n",
       "  correspAction_0_date_0_from correspAction_0_date_0_to correspAction_1_type  \\\n",
       "0                  1791-01-28                1791-02-20             received   \n",
       "1                         NaN                       NaN             received   \n",
       "2                         NaN                       NaN             received   \n",
       "3                  1795-01-01                1795-12-31             received   \n",
       "4                         NaN                       NaN             received   \n",
       "\n",
       "   ... correspAction_0_placeName_1_#text correspAction_0_date_0_#text  \\\n",
       "0  ...                               NaN                          NaN   \n",
       "1  ...                               NaN                          NaN   \n",
       "2  ...                               NaN                          NaN   \n",
       "3  ...                               NaN                          NaN   \n",
       "4  ...                               NaN                          NaN   \n",
       "\n",
       "  correspAction_0_persName_1_ref correspAction_0_persName_1_#text  \\\n",
       "0                            NaN                              NaN   \n",
       "1                            NaN                              NaN   \n",
       "2                            NaN                              NaN   \n",
       "3                            NaN                              NaN   \n",
       "4                            NaN                              NaN   \n",
       "\n",
       "  correspAction_1_persName_1_ref correspAction_1_persName_1_#text  \\\n",
       "0                            NaN                              NaN   \n",
       "1                            NaN                              NaN   \n",
       "2                            NaN                              NaN   \n",
       "3                            NaN                              NaN   \n",
       "4                            NaN                              NaN   \n",
       "\n",
       "  correspAction_0_date_1_notBefore correspAction_0_date_1_notAfter  \\\n",
       "0                              NaN                             NaN   \n",
       "1                              NaN                             NaN   \n",
       "2                              NaN                             NaN   \n",
       "3                              NaN                             NaN   \n",
       "4                              NaN                             NaN   \n",
       "\n",
       "  correspAction_0_date_1_#text correspAction_1_date_0_when  \n",
       "0                          NaN                         NaN  \n",
       "1                          NaN                         NaN  \n",
       "2                          NaN                         NaN  \n",
       "3                          NaN                         NaN  \n",
       "4                          NaN                         NaN  \n",
       "\n",
       "[5 rows x 28 columns]"
      ]
     },
     "execution_count": 13,
     "metadata": {},
     "output_type": "execute_result"
    }
   ],
   "source": [
    "df = pd.DataFrame(all_json_obj_flattened)\n",
    "df.head()"
   ]
  },
  {
   "cell_type": "markdown",
   "metadata": {},
   "source": [
    "## Aufbereiten des Dataframes\n",
    "\n",
    "Wir erhalten nun einen Dataframe mit 523 Zeilen und 28 Spalten. Mit `df.isna().sum()` können wir anzeigen, wie viele der Werte leer geblieben, also {term}`NANs` (not a number) sind. In den nächsten Schritten wollen wir diesen Dataframe weiter aufbereiten, denn wir wollen für die Zwecke dieses JupyterBooks einen etwas kleineren Datensatz nutzen. Um den Umfang zu reduzieren, werden wir nur die Datensätze der Briefe nutzen, deren Datierung genau angegeben ist. Diese Info finden wir in der Spalte `correspAction_0_date_0_when`, in der auch noch 227 Werte fehlen. "
   ]
  },
  {
   "cell_type": "code",
   "execution_count": 14,
   "metadata": {},
   "outputs": [
    {
     "name": "stdout",
     "output_type": "stream",
     "text": [
      "(523, 28)\n"
     ]
    },
    {
     "data": {
      "text/plain": [
       "ref                                    0\n",
       "source                                 0\n",
       "correspAction_0_type                   0\n",
       "correspAction_0_persName_0_ref         0\n",
       "correspAction_0_persName_0_#text       0\n",
       "correspAction_0_placeName_0_ref       17\n",
       "correspAction_0_placeName_0_#text    420\n",
       "correspAction_0_date_0_from          503\n",
       "correspAction_0_date_0_to            503\n",
       "correspAction_1_type                   0\n",
       "correspAction_1_persName_0_ref         0\n",
       "correspAction_1_persName_0_#text       0\n",
       "correspAction_0_date_0_when          227\n",
       "correspAction_1_placeName_0_ref      441\n",
       "correspAction_1_placeName_0_#text    519\n",
       "correspAction_0_date_0_notBefore     321\n",
       "correspAction_0_date_0_notAfter      319\n",
       "correspAction_0_placeName_1_ref      522\n",
       "correspAction_0_placeName_1_#text    522\n",
       "correspAction_0_date_0_#text         231\n",
       "correspAction_0_persName_1_ref       516\n",
       "correspAction_0_persName_1_#text     516\n",
       "correspAction_1_persName_1_ref       516\n",
       "correspAction_1_persName_1_#text     516\n",
       "correspAction_0_date_1_notBefore     522\n",
       "correspAction_0_date_1_notAfter      522\n",
       "correspAction_0_date_1_#text         522\n",
       "correspAction_1_date_0_when          521\n",
       "dtype: int64"
      ]
     },
     "execution_count": 14,
     "metadata": {},
     "output_type": "execute_result"
    }
   ],
   "source": [
    "print(df.shape)\n",
    "df.isna().sum()"
   ]
  },
  {
   "cell_type": "markdown",
   "metadata": {},
   "source": [
    "Im Folgenden werden wir mit `dropna()` verschiedene Spalten und Zeilen löschen, in denen keine Werte enthalten sind. Wir nutzen das Argument `subset=`, um Spalten gezielt auszuwählen und wir verwenden auch das Argument `inplace=True`, um die Änderungen direkt an dem Dataframe zu vollziehen.\n",
    "\n",
    ":::{index} single: pandas ; dropna()\n",
    ":name: dropna_\n",
    ":::"
   ]
  },
  {
   "cell_type": "code",
   "execution_count": 15,
   "metadata": {},
   "outputs": [
    {
     "name": "stdout",
     "output_type": "stream",
     "text": [
      "(296, 28)\n"
     ]
    }
   ],
   "source": [
    "df.dropna(subset=['correspAction_0_date_0_when'], inplace=True)\n",
    "print(df.shape)"
   ]
  },
  {
   "cell_type": "markdown",
   "metadata": {},
   "source": [
    "In der folgenden Zelle erstellen wir einen Dataframe, der die Informationen zu Ortsangaben zwischenspeichert. In der Zelle darauf können wir nun alle Spalten, die leere Werte enthalten, löschen. Wir erhalten nun einen Dataframe mit 296 Zeilen und nur noch 9 Spalten."
   ]
  },
  {
   "cell_type": "code",
   "execution_count": 16,
   "metadata": {},
   "outputs": [
    {
     "data": {
      "text/plain": [
       "(296, 2)"
      ]
     },
     "execution_count": 16,
     "metadata": {},
     "output_type": "execute_result"
    }
   ],
   "source": [
    "df_place = df.loc[:, ['correspAction_0_placeName_0_ref', 'correspAction_0_placeName_0_#text']]\n",
    "df_place.shape"
   ]
  },
  {
   "cell_type": "code",
   "execution_count": 17,
   "metadata": {},
   "outputs": [
    {
     "name": "stdout",
     "output_type": "stream",
     "text": [
      "(296, 9)\n"
     ]
    }
   ],
   "source": [
    "df.dropna(axis=1, inplace=True)\n",
    "print(df.shape)"
   ]
  },
  {
   "cell_type": "markdown",
   "metadata": {},
   "source": [
    "Ferner löschen wir noch Spalten, die die Info `sent` bzw. `receive` enthalten. Durch eine spätere Umbenennung der Spalten können wir diese Infos über Sender und Empfänger jedoch in einer anderen Spalten mit unterbringen. Nun haben wir nur noch 7 Spalten und alle 296 Zeilen enthalten einen Wert in den einzelnen Zellen."
   ]
  },
  {
   "cell_type": "code",
   "execution_count": 18,
   "metadata": {},
   "outputs": [
    {
     "name": "stdout",
     "output_type": "stream",
     "text": [
      "(296, 7)\n",
      "ref                                 0\n",
      "source                              0\n",
      "correspAction_0_persName_0_ref      0\n",
      "correspAction_0_persName_0_#text    0\n",
      "correspAction_1_persName_0_ref      0\n",
      "correspAction_1_persName_0_#text    0\n",
      "correspAction_0_date_0_when         0\n",
      "dtype: int64\n"
     ]
    }
   ],
   "source": [
    "df.drop(['correspAction_0_type', 'correspAction_1_type'], axis=1, inplace=True)\n",
    "print(df.shape)\n",
    "print(df.isna().sum())"
   ]
  },
  {
   "cell_type": "markdown",
   "metadata": {},
   "source": [
    "Im nächsten Schritt fügen wir die zwischengespeicherten Infos zu den Ortsangaben dem Dataframe mit `join()` wieder hinzu: Das Ergebnis ist ein Dataframe mit 296 Zeillen und 9 Spalten.\n",
    "\n",
    ":::{index} single: pandas ; join()\n",
    ":name: join_\n",
    ":::"
   ]
  },
  {
   "cell_type": "code",
   "execution_count": 19,
   "metadata": {},
   "outputs": [
    {
     "name": "stdout",
     "output_type": "stream",
     "text": [
      "(296, 9)\n"
     ]
    },
    {
     "data": {
      "text/html": [
       "<div>\n",
       "<style scoped>\n",
       "    .dataframe tbody tr th:only-of-type {\n",
       "        vertical-align: middle;\n",
       "    }\n",
       "\n",
       "    .dataframe tbody tr th {\n",
       "        vertical-align: top;\n",
       "    }\n",
       "\n",
       "    .dataframe thead th {\n",
       "        text-align: right;\n",
       "    }\n",
       "</style>\n",
       "<table border=\"1\" class=\"dataframe\">\n",
       "  <thead>\n",
       "    <tr style=\"text-align: right;\">\n",
       "      <th></th>\n",
       "      <th>ref</th>\n",
       "      <th>source</th>\n",
       "      <th>correspAction_0_persName_0_ref</th>\n",
       "      <th>correspAction_0_persName_0_#text</th>\n",
       "      <th>correspAction_1_persName_0_ref</th>\n",
       "      <th>correspAction_1_persName_0_#text</th>\n",
       "      <th>correspAction_0_date_0_when</th>\n",
       "      <th>correspAction_0_placeName_0_ref</th>\n",
       "      <th>correspAction_0_placeName_0_#text</th>\n",
       "    </tr>\n",
       "  </thead>\n",
       "  <tbody>\n",
       "    <tr>\n",
       "      <th>1</th>\n",
       "      <td>https://edition-humboldt.de/H0002655</td>\n",
       "      <td>#AVHR</td>\n",
       "      <td>http://d-nb.info/gnd/118554700</td>\n",
       "      <td>Alexander von Humboldt</td>\n",
       "      <td>http://d-nb.info/gnd/118805193</td>\n",
       "      <td>Samuel Thomas von Soemmerring</td>\n",
       "      <td>1793-12-05</td>\n",
       "      <td>http://sws.geonames.org/6556797</td>\n",
       "      <td>Berg</td>\n",
       "    </tr>\n",
       "    <tr>\n",
       "      <th>2</th>\n",
       "      <td>https://edition-humboldt.de/H0002730</td>\n",
       "      <td>#AVHR</td>\n",
       "      <td>http://d-nb.info/gnd/118554700</td>\n",
       "      <td>Alexander von Humboldt</td>\n",
       "      <td>http://d-nb.info/gnd/118805193</td>\n",
       "      <td>Samuel Thomas von Soemmerring</td>\n",
       "      <td>1794-02-06</td>\n",
       "      <td>http://sws.geonames.org/2951825</td>\n",
       "      <td>Bayreuth</td>\n",
       "    </tr>\n",
       "    <tr>\n",
       "      <th>4</th>\n",
       "      <td>https://edition-humboldt.de/H0002729</td>\n",
       "      <td>#AVHR</td>\n",
       "      <td>http://d-nb.info/gnd/118554700</td>\n",
       "      <td>Alexander von Humboldt</td>\n",
       "      <td>http://d-nb.info/gnd/118805193</td>\n",
       "      <td>Samuel Thomas von Soemmerring</td>\n",
       "      <td>1795-06-07</td>\n",
       "      <td>http://sws.geonames.org/2951825</td>\n",
       "      <td>Bayreuth</td>\n",
       "    </tr>\n",
       "    <tr>\n",
       "      <th>5</th>\n",
       "      <td>https://edition-humboldt.de/H0002657</td>\n",
       "      <td>#AVHR</td>\n",
       "      <td>http://d-nb.info/gnd/118554700</td>\n",
       "      <td>Alexander von Humboldt</td>\n",
       "      <td>http://d-nb.info/gnd/118805193</td>\n",
       "      <td>Samuel Thomas von Soemmerring</td>\n",
       "      <td>1795-06-29</td>\n",
       "      <td>http://sws.geonames.org/2919290</td>\n",
       "      <td>Goldkronach</td>\n",
       "    </tr>\n",
       "    <tr>\n",
       "      <th>6</th>\n",
       "      <td>https://edition-humboldt.de/H0001183</td>\n",
       "      <td>#AVHR</td>\n",
       "      <td>http://d-nb.info/gnd/118554700</td>\n",
       "      <td>Alexander von Humboldt</td>\n",
       "      <td>http://d-nb.info/gnd/117387436</td>\n",
       "      <td>Karl Ludwig Willdenow</td>\n",
       "      <td>1795-07-17</td>\n",
       "      <td>http://sws.geonames.org/2951825</td>\n",
       "      <td>Bayreuth</td>\n",
       "    </tr>\n",
       "  </tbody>\n",
       "</table>\n",
       "</div>"
      ],
      "text/plain": [
       "                                    ref source  \\\n",
       "1  https://edition-humboldt.de/H0002655  #AVHR   \n",
       "2  https://edition-humboldt.de/H0002730  #AVHR   \n",
       "4  https://edition-humboldt.de/H0002729  #AVHR   \n",
       "5  https://edition-humboldt.de/H0002657  #AVHR   \n",
       "6  https://edition-humboldt.de/H0001183  #AVHR   \n",
       "\n",
       "   correspAction_0_persName_0_ref correspAction_0_persName_0_#text  \\\n",
       "1  http://d-nb.info/gnd/118554700           Alexander von Humboldt   \n",
       "2  http://d-nb.info/gnd/118554700           Alexander von Humboldt   \n",
       "4  http://d-nb.info/gnd/118554700           Alexander von Humboldt   \n",
       "5  http://d-nb.info/gnd/118554700           Alexander von Humboldt   \n",
       "6  http://d-nb.info/gnd/118554700           Alexander von Humboldt   \n",
       "\n",
       "   correspAction_1_persName_0_ref correspAction_1_persName_0_#text  \\\n",
       "1  http://d-nb.info/gnd/118805193    Samuel Thomas von Soemmerring   \n",
       "2  http://d-nb.info/gnd/118805193    Samuel Thomas von Soemmerring   \n",
       "4  http://d-nb.info/gnd/118805193    Samuel Thomas von Soemmerring   \n",
       "5  http://d-nb.info/gnd/118805193    Samuel Thomas von Soemmerring   \n",
       "6  http://d-nb.info/gnd/117387436            Karl Ludwig Willdenow   \n",
       "\n",
       "  correspAction_0_date_0_when  correspAction_0_placeName_0_ref  \\\n",
       "1                  1793-12-05  http://sws.geonames.org/6556797   \n",
       "2                  1794-02-06  http://sws.geonames.org/2951825   \n",
       "4                  1795-06-07  http://sws.geonames.org/2951825   \n",
       "5                  1795-06-29  http://sws.geonames.org/2919290   \n",
       "6                  1795-07-17  http://sws.geonames.org/2951825   \n",
       "\n",
       "  correspAction_0_placeName_0_#text  \n",
       "1                              Berg  \n",
       "2                          Bayreuth  \n",
       "4                          Bayreuth  \n",
       "5                       Goldkronach  \n",
       "6                          Bayreuth  "
      ]
     },
     "execution_count": 19,
     "metadata": {},
     "output_type": "execute_result"
    }
   ],
   "source": [
    "df = df.join(df_place)\n",
    "print(df.shape)\n",
    "df.head()"
   ]
  },
  {
   "cell_type": "markdown",
   "metadata": {},
   "source": [
    "In den letzten Schritten benennen wir die Spaltennamen um und reseten den Index der Zeilen, sodass wir eine saubere Durchnummerierung der Zeilen von 0 bis 295 erhalten. Zum Schluss speichern wir den Dataframe als csv-Datei ab.\n",
    "\n",
    ":::{index} single: pandas ; reset_index()\n",
    ":name: reset_index_\n",
    ":::"
   ]
  },
  {
   "cell_type": "code",
   "execution_count": 20,
   "metadata": {},
   "outputs": [
    {
     "data": {
      "text/html": [
       "<div>\n",
       "<style scoped>\n",
       "    .dataframe tbody tr th:only-of-type {\n",
       "        vertical-align: middle;\n",
       "    }\n",
       "\n",
       "    .dataframe tbody tr th {\n",
       "        vertical-align: top;\n",
       "    }\n",
       "\n",
       "    .dataframe thead th {\n",
       "        text-align: right;\n",
       "    }\n",
       "</style>\n",
       "<table border=\"1\" class=\"dataframe\">\n",
       "  <thead>\n",
       "    <tr style=\"text-align: right;\">\n",
       "      <th></th>\n",
       "      <th>reference</th>\n",
       "      <th>edition_id</th>\n",
       "      <th>sender_id</th>\n",
       "      <th>sender</th>\n",
       "      <th>receiver_id</th>\n",
       "      <th>receiver</th>\n",
       "      <th>date</th>\n",
       "      <th>place_id</th>\n",
       "      <th>place</th>\n",
       "    </tr>\n",
       "  </thead>\n",
       "  <tbody>\n",
       "    <tr>\n",
       "      <th>0</th>\n",
       "      <td>https://edition-humboldt.de/H0002655</td>\n",
       "      <td>#AVHR</td>\n",
       "      <td>http://d-nb.info/gnd/118554700</td>\n",
       "      <td>Alexander von Humboldt</td>\n",
       "      <td>http://d-nb.info/gnd/118805193</td>\n",
       "      <td>Samuel Thomas von Soemmerring</td>\n",
       "      <td>1793-12-05</td>\n",
       "      <td>http://sws.geonames.org/6556797</td>\n",
       "      <td>Berg</td>\n",
       "    </tr>\n",
       "    <tr>\n",
       "      <th>1</th>\n",
       "      <td>https://edition-humboldt.de/H0002730</td>\n",
       "      <td>#AVHR</td>\n",
       "      <td>http://d-nb.info/gnd/118554700</td>\n",
       "      <td>Alexander von Humboldt</td>\n",
       "      <td>http://d-nb.info/gnd/118805193</td>\n",
       "      <td>Samuel Thomas von Soemmerring</td>\n",
       "      <td>1794-02-06</td>\n",
       "      <td>http://sws.geonames.org/2951825</td>\n",
       "      <td>Bayreuth</td>\n",
       "    </tr>\n",
       "    <tr>\n",
       "      <th>2</th>\n",
       "      <td>https://edition-humboldt.de/H0002729</td>\n",
       "      <td>#AVHR</td>\n",
       "      <td>http://d-nb.info/gnd/118554700</td>\n",
       "      <td>Alexander von Humboldt</td>\n",
       "      <td>http://d-nb.info/gnd/118805193</td>\n",
       "      <td>Samuel Thomas von Soemmerring</td>\n",
       "      <td>1795-06-07</td>\n",
       "      <td>http://sws.geonames.org/2951825</td>\n",
       "      <td>Bayreuth</td>\n",
       "    </tr>\n",
       "    <tr>\n",
       "      <th>3</th>\n",
       "      <td>https://edition-humboldt.de/H0002657</td>\n",
       "      <td>#AVHR</td>\n",
       "      <td>http://d-nb.info/gnd/118554700</td>\n",
       "      <td>Alexander von Humboldt</td>\n",
       "      <td>http://d-nb.info/gnd/118805193</td>\n",
       "      <td>Samuel Thomas von Soemmerring</td>\n",
       "      <td>1795-06-29</td>\n",
       "      <td>http://sws.geonames.org/2919290</td>\n",
       "      <td>Goldkronach</td>\n",
       "    </tr>\n",
       "    <tr>\n",
       "      <th>4</th>\n",
       "      <td>https://edition-humboldt.de/H0001183</td>\n",
       "      <td>#AVHR</td>\n",
       "      <td>http://d-nb.info/gnd/118554700</td>\n",
       "      <td>Alexander von Humboldt</td>\n",
       "      <td>http://d-nb.info/gnd/117387436</td>\n",
       "      <td>Karl Ludwig Willdenow</td>\n",
       "      <td>1795-07-17</td>\n",
       "      <td>http://sws.geonames.org/2951825</td>\n",
       "      <td>Bayreuth</td>\n",
       "    </tr>\n",
       "  </tbody>\n",
       "</table>\n",
       "</div>"
      ],
      "text/plain": [
       "                              reference edition_id  \\\n",
       "0  https://edition-humboldt.de/H0002655      #AVHR   \n",
       "1  https://edition-humboldt.de/H0002730      #AVHR   \n",
       "2  https://edition-humboldt.de/H0002729      #AVHR   \n",
       "3  https://edition-humboldt.de/H0002657      #AVHR   \n",
       "4  https://edition-humboldt.de/H0001183      #AVHR   \n",
       "\n",
       "                        sender_id                  sender  \\\n",
       "0  http://d-nb.info/gnd/118554700  Alexander von Humboldt   \n",
       "1  http://d-nb.info/gnd/118554700  Alexander von Humboldt   \n",
       "2  http://d-nb.info/gnd/118554700  Alexander von Humboldt   \n",
       "3  http://d-nb.info/gnd/118554700  Alexander von Humboldt   \n",
       "4  http://d-nb.info/gnd/118554700  Alexander von Humboldt   \n",
       "\n",
       "                      receiver_id                       receiver        date  \\\n",
       "0  http://d-nb.info/gnd/118805193  Samuel Thomas von Soemmerring  1793-12-05   \n",
       "1  http://d-nb.info/gnd/118805193  Samuel Thomas von Soemmerring  1794-02-06   \n",
       "2  http://d-nb.info/gnd/118805193  Samuel Thomas von Soemmerring  1795-06-07   \n",
       "3  http://d-nb.info/gnd/118805193  Samuel Thomas von Soemmerring  1795-06-29   \n",
       "4  http://d-nb.info/gnd/117387436          Karl Ludwig Willdenow  1795-07-17   \n",
       "\n",
       "                          place_id        place  \n",
       "0  http://sws.geonames.org/6556797         Berg  \n",
       "1  http://sws.geonames.org/2951825     Bayreuth  \n",
       "2  http://sws.geonames.org/2951825     Bayreuth  \n",
       "3  http://sws.geonames.org/2919290  Goldkronach  \n",
       "4  http://sws.geonames.org/2951825     Bayreuth  "
      ]
     },
     "execution_count": 20,
     "metadata": {},
     "output_type": "execute_result"
    }
   ],
   "source": [
    "# rename columns\n",
    "df.columns = ['reference', 'edition_id', 'sender_id', 'sender', 'receiver_id', 'receiver', 'date', 'place_id', 'place' ]\n",
    "\n",
    "# reset index\n",
    "df.reset_index(drop=True, inplace=True)\n",
    "\n",
    "df.head()"
   ]
  },
  {
   "cell_type": "markdown",
   "metadata": {},
   "source": [
    "Zum Schluss speichern wir den Dataframe als CSV-Datei ab.\n",
    "\n",
    ":::{index} single: pandas ; to_csv()\n",
    ":name: to_csv_\n",
    ":::"
   ]
  },
  {
   "cell_type": "code",
   "execution_count": 23,
   "metadata": {},
   "outputs": [],
   "source": [
    "# save\n",
    "df.to_csv('240228-AvH-letters-with-date.csv', index=False)"
   ]
  }
 ],
 "metadata": {
  "kernelspec": {
   "display_name": "base_2_expand",
   "language": "python",
   "name": "python3"
  },
  "language_info": {
   "codemirror_mode": {
    "name": "ipython",
    "version": 3
   },
   "file_extension": ".py",
   "mimetype": "text/x-python",
   "name": "python",
   "nbconvert_exporter": "python",
   "pygments_lexer": "ipython3",
   "version": "3.9.7"
  }
 },
 "nbformat": 4,
 "nbformat_minor": 2
}
