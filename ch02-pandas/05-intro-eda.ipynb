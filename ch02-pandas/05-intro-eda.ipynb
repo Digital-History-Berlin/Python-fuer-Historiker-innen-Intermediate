{
 "cells": [
  {
   "cell_type": "markdown",
   "metadata": {},
   "source": [
    "# Explorative Datenanalyse\n",
    "\n",
    "*Know your data!* Wichtig bei der Arbeit mit Daten ist es, diese gut zu kennen. Pandas ist dabei äußerst hilfreich, um mit wenig Code erste Einsichten in seine Daten zu bekommen. Daher werden im folgenden Abschnitt einige Herangehensweisen vorgestellt, wie mit pandas Daten erkundet werden können. "
   ]
  },
  {
   "cell_type": "code",
   "execution_count": 1,
   "metadata": {},
   "outputs": [],
   "source": [
    "import pandas as pd"
   ]
  },
  {
   "cell_type": "markdown",
   "metadata": {},
   "source": [
    "Am Anfang steht das Einlesen der Daten - und die Umwandlung der Datentypen in das richtige Format. Wir lesen diesmal die JSON-Datei ein und wandeln die dort enthaltene unix-Zeit in ein Datetime-Objekt um."
   ]
  },
  {
   "cell_type": "code",
   "execution_count": 2,
   "metadata": {},
   "outputs": [],
   "source": [
    "df = pd.read_json('240301-AvH-letters-with-tokens.json')\n",
    "df.loc[:, 'date'] = pd.to_datetime(df.loc[:, 'date'], unit='ms')"
   ]
  },
  {
   "cell_type": "code",
   "execution_count": 3,
   "metadata": {},
   "outputs": [
    {
     "name": "stdout",
     "output_type": "stream",
     "text": [
      "(296, 12)\n"
     ]
    },
    {
     "data": {
      "text/html": [
       "<div>\n",
       "<style scoped>\n",
       "    .dataframe tbody tr th:only-of-type {\n",
       "        vertical-align: middle;\n",
       "    }\n",
       "\n",
       "    .dataframe tbody tr th {\n",
       "        vertical-align: top;\n",
       "    }\n",
       "\n",
       "    .dataframe thead th {\n",
       "        text-align: right;\n",
       "    }\n",
       "</style>\n",
       "<table border=\"1\" class=\"dataframe\">\n",
       "  <thead>\n",
       "    <tr style=\"text-align: right;\">\n",
       "      <th></th>\n",
       "      <th>reference</th>\n",
       "      <th>edition_id</th>\n",
       "      <th>sender_id</th>\n",
       "      <th>sender</th>\n",
       "      <th>receiver_id</th>\n",
       "      <th>receiver</th>\n",
       "      <th>date</th>\n",
       "      <th>place_id</th>\n",
       "      <th>place</th>\n",
       "      <th>text</th>\n",
       "      <th>token</th>\n",
       "      <th>nr_token</th>\n",
       "    </tr>\n",
       "  </thead>\n",
       "  <tbody>\n",
       "    <tr>\n",
       "      <th>0</th>\n",
       "      <td>https://edition-humboldt.de/H0002655</td>\n",
       "      <td>#AVHR</td>\n",
       "      <td>http://d-nb.info/gnd/118554700</td>\n",
       "      <td>Alexander von Humboldt</td>\n",
       "      <td>http://d-nb.info/gnd/118805193</td>\n",
       "      <td>Samuel Thomas von Soemmerring</td>\n",
       "      <td>1793-12-05</td>\n",
       "      <td>http://sws.geonames.org/6556797</td>\n",
       "      <td>Berg</td>\n",
       "      <td>Berg , den 5 . Dez Dezember 1793 Ihr Brief, li...</td>\n",
       "      <td>[berg, den, 5, dez, dezember, 1793, ihr, brief...</td>\n",
       "      <td>252</td>\n",
       "    </tr>\n",
       "    <tr>\n",
       "      <th>1</th>\n",
       "      <td>https://edition-humboldt.de/H0002730</td>\n",
       "      <td>#AVHR</td>\n",
       "      <td>http://d-nb.info/gnd/118554700</td>\n",
       "      <td>Alexander von Humboldt</td>\n",
       "      <td>http://d-nb.info/gnd/118805193</td>\n",
       "      <td>Samuel Thomas von Soemmerring</td>\n",
       "      <td>1794-02-06</td>\n",
       "      <td>http://sws.geonames.org/2951825</td>\n",
       "      <td>Bayreuth</td>\n",
       "      <td>Der Ueberbringer dieses Briefchens, lieber Soe...</td>\n",
       "      <td>[der, ueberbringer, dieses, briefchens, lieber...</td>\n",
       "      <td>143</td>\n",
       "    </tr>\n",
       "    <tr>\n",
       "      <th>2</th>\n",
       "      <td>https://edition-humboldt.de/H0002729</td>\n",
       "      <td>#AVHR</td>\n",
       "      <td>http://d-nb.info/gnd/118554700</td>\n",
       "      <td>Alexander von Humboldt</td>\n",
       "      <td>http://d-nb.info/gnd/118805193</td>\n",
       "      <td>Samuel Thomas von Soemmerring</td>\n",
       "      <td>1795-06-07</td>\n",
       "      <td>http://sws.geonames.org/2951825</td>\n",
       "      <td>Bayreuth</td>\n",
       "      <td>Verehrungswerther Freund, Ich will Ihnen ein B...</td>\n",
       "      <td>[verehrungswerther, freund, ich, will, ihnen, ...</td>\n",
       "      <td>591</td>\n",
       "    </tr>\n",
       "    <tr>\n",
       "      <th>3</th>\n",
       "      <td>https://edition-humboldt.de/H0002657</td>\n",
       "      <td>#AVHR</td>\n",
       "      <td>http://d-nb.info/gnd/118554700</td>\n",
       "      <td>Alexander von Humboldt</td>\n",
       "      <td>http://d-nb.info/gnd/118805193</td>\n",
       "      <td>Samuel Thomas von Soemmerring</td>\n",
       "      <td>1795-06-29</td>\n",
       "      <td>http://sws.geonames.org/2919290</td>\n",
       "      <td>Goldkronach</td>\n",
       "      <td>Wie innig, theurer, Verehrungswerther Mann! fr...</td>\n",
       "      <td>[wie, innig, theurer, verehrungswerther, mann,...</td>\n",
       "      <td>899</td>\n",
       "    </tr>\n",
       "    <tr>\n",
       "      <th>4</th>\n",
       "      <td>https://edition-humboldt.de/H0001183</td>\n",
       "      <td>#AVHR</td>\n",
       "      <td>http://d-nb.info/gnd/118554700</td>\n",
       "      <td>Alexander von Humboldt</td>\n",
       "      <td>http://d-nb.info/gnd/117387436</td>\n",
       "      <td>Karl Ludwig Willdenow</td>\n",
       "      <td>1795-07-17</td>\n",
       "      <td>http://sws.geonames.org/2951825</td>\n",
       "      <td>Bayreuth</td>\n",
       "      <td>ich reise noch heute von hier nach Venedig , d...</td>\n",
       "      <td>[ich, reise, noch, heute, von, hier, nach, ven...</td>\n",
       "      <td>143</td>\n",
       "    </tr>\n",
       "  </tbody>\n",
       "</table>\n",
       "</div>"
      ],
      "text/plain": [
       "                              reference edition_id  \\\n",
       "0  https://edition-humboldt.de/H0002655      #AVHR   \n",
       "1  https://edition-humboldt.de/H0002730      #AVHR   \n",
       "2  https://edition-humboldt.de/H0002729      #AVHR   \n",
       "3  https://edition-humboldt.de/H0002657      #AVHR   \n",
       "4  https://edition-humboldt.de/H0001183      #AVHR   \n",
       "\n",
       "                        sender_id                  sender  \\\n",
       "0  http://d-nb.info/gnd/118554700  Alexander von Humboldt   \n",
       "1  http://d-nb.info/gnd/118554700  Alexander von Humboldt   \n",
       "2  http://d-nb.info/gnd/118554700  Alexander von Humboldt   \n",
       "3  http://d-nb.info/gnd/118554700  Alexander von Humboldt   \n",
       "4  http://d-nb.info/gnd/118554700  Alexander von Humboldt   \n",
       "\n",
       "                      receiver_id                       receiver       date  \\\n",
       "0  http://d-nb.info/gnd/118805193  Samuel Thomas von Soemmerring 1793-12-05   \n",
       "1  http://d-nb.info/gnd/118805193  Samuel Thomas von Soemmerring 1794-02-06   \n",
       "2  http://d-nb.info/gnd/118805193  Samuel Thomas von Soemmerring 1795-06-07   \n",
       "3  http://d-nb.info/gnd/118805193  Samuel Thomas von Soemmerring 1795-06-29   \n",
       "4  http://d-nb.info/gnd/117387436          Karl Ludwig Willdenow 1795-07-17   \n",
       "\n",
       "                          place_id        place  \\\n",
       "0  http://sws.geonames.org/6556797         Berg   \n",
       "1  http://sws.geonames.org/2951825     Bayreuth   \n",
       "2  http://sws.geonames.org/2951825     Bayreuth   \n",
       "3  http://sws.geonames.org/2919290  Goldkronach   \n",
       "4  http://sws.geonames.org/2951825     Bayreuth   \n",
       "\n",
       "                                                text  \\\n",
       "0  Berg , den 5 . Dez Dezember 1793 Ihr Brief, li...   \n",
       "1  Der Ueberbringer dieses Briefchens, lieber Soe...   \n",
       "2  Verehrungswerther Freund, Ich will Ihnen ein B...   \n",
       "3  Wie innig, theurer, Verehrungswerther Mann! fr...   \n",
       "4  ich reise noch heute von hier nach Venedig , d...   \n",
       "\n",
       "                                               token  nr_token  \n",
       "0  [berg, den, 5, dez, dezember, 1793, ihr, brief...       252  \n",
       "1  [der, ueberbringer, dieses, briefchens, lieber...       143  \n",
       "2  [verehrungswerther, freund, ich, will, ihnen, ...       591  \n",
       "3  [wie, innig, theurer, verehrungswerther, mann,...       899  \n",
       "4  [ich, reise, noch, heute, von, hier, nach, ven...       143  "
      ]
     },
     "execution_count": 3,
     "metadata": {},
     "output_type": "execute_result"
    }
   ],
   "source": [
    "print(df.shape)\n",
    "df.head()"
   ]
  },
  {
   "cell_type": "markdown",
   "metadata": {},
   "source": [
    "## Infos zum Dataframe"
   ]
  },
  {
   "cell_type": "markdown",
   "metadata": {},
   "source": [
    "Schauen wir uns die Titel der Spalten an:"
   ]
  },
  {
   "cell_type": "code",
   "execution_count": 4,
   "metadata": {},
   "outputs": [
    {
     "data": {
      "text/plain": [
       "Index(['reference', 'edition_id', 'sender_id', 'sender', 'receiver_id',\n",
       "       'receiver', 'date', 'place_id', 'place', 'text', 'token', 'nr_token'],\n",
       "      dtype='object')"
      ]
     },
     "execution_count": 4,
     "metadata": {},
     "output_type": "execute_result"
    }
   ],
   "source": [
    "df.columns"
   ]
  },
  {
   "cell_type": "markdown",
   "metadata": {},
   "source": [
    "Und dann geben wir Infos zu allen Spalten ausgeben, um Angaben zu den Datentypen zu erhalten. Bis auf zwei Spalten ist der Datentype als 'object' ausgewiesen. D.h. hier sind strings in den Spalten vorhanden. Bei `date` haben wir ein Datetime-Objekt erstellt, bei `nr_token` handelt es sich um integers. Auch die Angabe über fehlende Werte ist ersichtlich, die wir aber in der darauffolgenden Zelle nochmal einfacher darstellen lassen können."
   ]
  },
  {
   "cell_type": "code",
   "execution_count": 5,
   "metadata": {},
   "outputs": [
    {
     "name": "stdout",
     "output_type": "stream",
     "text": [
      "<class 'pandas.core.frame.DataFrame'>\n",
      "Int64Index: 296 entries, 0 to 295\n",
      "Data columns (total 12 columns):\n",
      " #   Column       Non-Null Count  Dtype         \n",
      "---  ------       --------------  -----         \n",
      " 0   reference    296 non-null    object        \n",
      " 1   edition_id   296 non-null    object        \n",
      " 2   sender_id    296 non-null    object        \n",
      " 3   sender       296 non-null    object        \n",
      " 4   receiver_id  296 non-null    object        \n",
      " 5   receiver     296 non-null    object        \n",
      " 6   date         296 non-null    datetime64[ns]\n",
      " 7   place_id     283 non-null    object        \n",
      " 8   place        82 non-null     object        \n",
      " 9   text         296 non-null    object        \n",
      " 10  token        296 non-null    object        \n",
      " 11  nr_token     296 non-null    int64         \n",
      "dtypes: datetime64[ns](1), int64(1), object(10)\n",
      "memory usage: 30.1+ KB\n"
     ]
    }
   ],
   "source": [
    "df.info()"
   ]
  },
  {
   "cell_type": "code",
   "execution_count": 6,
   "metadata": {},
   "outputs": [
    {
     "data": {
      "text/plain": [
       "reference        0\n",
       "edition_id       0\n",
       "sender_id        0\n",
       "sender           0\n",
       "receiver_id      0\n",
       "receiver         0\n",
       "date             0\n",
       "place_id        13\n",
       "place          214\n",
       "text             0\n",
       "token            0\n",
       "nr_token         0\n",
       "dtype: int64"
      ]
     },
     "execution_count": 6,
     "metadata": {},
     "output_type": "execute_result"
    }
   ],
   "source": [
    "df.isna().sum()"
   ]
  },
  {
   "cell_type": "markdown",
   "metadata": {},
   "source": [
    "Zu den Spalten mit numerischen Werten können wir Informationen über die Verteilung der Daten aufrufen. In unserem Beispiel haben wir allerdings nur eine Spalte mit numerischen Werten, die Auskunft über die Anzahl der Token in den Briefen gibt. Im Durchschnitt besteht ein Brief aus 388 Token, während der längste Brief 4347 Token umfasst."
   ]
  },
  {
   "cell_type": "code",
   "execution_count": 7,
   "metadata": {},
   "outputs": [
    {
     "data": {
      "text/html": [
       "<div>\n",
       "<style scoped>\n",
       "    .dataframe tbody tr th:only-of-type {\n",
       "        vertical-align: middle;\n",
       "    }\n",
       "\n",
       "    .dataframe tbody tr th {\n",
       "        vertical-align: top;\n",
       "    }\n",
       "\n",
       "    .dataframe thead th {\n",
       "        text-align: right;\n",
       "    }\n",
       "</style>\n",
       "<table border=\"1\" class=\"dataframe\">\n",
       "  <thead>\n",
       "    <tr style=\"text-align: right;\">\n",
       "      <th></th>\n",
       "      <th>nr_token</th>\n",
       "    </tr>\n",
       "  </thead>\n",
       "  <tbody>\n",
       "    <tr>\n",
       "      <th>count</th>\n",
       "      <td>296.000000</td>\n",
       "    </tr>\n",
       "    <tr>\n",
       "      <th>mean</th>\n",
       "      <td>388.266892</td>\n",
       "    </tr>\n",
       "    <tr>\n",
       "      <th>std</th>\n",
       "      <td>474.315521</td>\n",
       "    </tr>\n",
       "    <tr>\n",
       "      <th>min</th>\n",
       "      <td>0.000000</td>\n",
       "    </tr>\n",
       "    <tr>\n",
       "      <th>25%</th>\n",
       "      <td>124.750000</td>\n",
       "    </tr>\n",
       "    <tr>\n",
       "      <th>50%</th>\n",
       "      <td>224.500000</td>\n",
       "    </tr>\n",
       "    <tr>\n",
       "      <th>75%</th>\n",
       "      <td>484.750000</td>\n",
       "    </tr>\n",
       "    <tr>\n",
       "      <th>max</th>\n",
       "      <td>4347.000000</td>\n",
       "    </tr>\n",
       "  </tbody>\n",
       "</table>\n",
       "</div>"
      ],
      "text/plain": [
       "          nr_token\n",
       "count   296.000000\n",
       "mean    388.266892\n",
       "std     474.315521\n",
       "min       0.000000\n",
       "25%     124.750000\n",
       "50%     224.500000\n",
       "75%     484.750000\n",
       "max    4347.000000"
      ]
     },
     "execution_count": 7,
     "metadata": {},
     "output_type": "execute_result"
    }
   ],
   "source": [
    "df.describe()"
   ]
  },
  {
   "cell_type": "markdown",
   "metadata": {},
   "source": [
    "## Infos zu einzelnen Spalten"
   ]
  },
  {
   "cell_type": "markdown",
   "metadata": {},
   "source": [
    "Mit `nunique()` können wir die Anzahl der einmalig auftretenden Werte ausgeben, mit `unique()` können wir die Wert selbst aufrufen. Dies führen wir für die Spalten `edition_id`, `sender`, `receiver` und `place` mit Hilfe einer for-Schleife durch."
   ]
  },
  {
   "cell_type": "code",
   "execution_count": 8,
   "metadata": {},
   "outputs": [
    {
     "name": "stdout",
     "output_type": "stream",
     "text": [
      "edition_id\n",
      "1\n",
      "['#AVHR']\n",
      "###\n",
      "\n",
      "sender\n",
      "14\n",
      "['Alexander von Humboldt' 'Aimé Bonpland' 'Aylmer Bourke Lambert'\n",
      " 'George Arnott Walker-Arnott' 'Johann Moritz Rugendas'\n",
      " 'Christian Gottfried Ehrenberg' 'Carl Sigismund Kunth'\n",
      " 'Sir Robert Hermann Schomburgk' 'Moritz Richard Schomburgk'\n",
      " 'Joseph Dalton Hooker' 'Otto Alfred Schomburgk'\n",
      " 'Hermann Schlagintweit-Sakünlünski' 'Adolph von Schlagintweit'\n",
      " 'Robert, Freiherr von Schlagintweit']\n",
      "###\n",
      "\n",
      "receiver\n",
      "18\n",
      "['Samuel Thomas von Soemmerring' 'Karl Ludwig Willdenow'\n",
      " 'Dietrich Ludwig Gustav Karsten' 'Carl Sigismund Kunth'\n",
      " 'Christian Gottfried Ehrenberg' 'Alexander von Humboldt'\n",
      " 'Johann Moritz Rugendas' 'Karl Christian Gmelin'\n",
      " 'Franz Julius Ferdinand Meyen' 'Adolphe Graf von Polier'\n",
      " 'Karl Friedrich Schinkel' 'Friedrich Wilhelm IV., König von Preußen'\n",
      " 'Joseph Dalton Hooker' 'Sir Robert Hermann Schomburgk'\n",
      " 'Otto Alfred Schomburgk' 'Adolph von Schlagintweit'\n",
      " 'Hermann Schlagintweit-Sakünlünski' 'Robert, Freiherr von Schlagintweit']\n",
      "###\n",
      "\n",
      "place\n",
      "27\n",
      "['Berg' 'Bayreuth' 'Goldkronach' None 'Havanna' 'Mexiko' 'London'\n",
      " 'Edinburgh' 'Augsburg' 'Lesnoi' 'Miass (Stadt)' 'Moskau' 'Fischbach'\n",
      " 'Potsdam' 'Teplitz' 'Pirara' 'Uruparu' 'Charlottenhof' 'Sanssouci'\n",
      " 'Alexandria' 'Hamburg' 'Santo Domingo' 'Bombay' 'Darjeeling' 'Leh'\n",
      " 'Lahore' 'Triest' 'Weimar']\n",
      "###\n",
      "\n"
     ]
    }
   ],
   "source": [
    "for col in ['edition_id', 'sender', 'receiver', 'place']:\n",
    "\n",
    "    print(col)\n",
    "    print(df.loc[:, col].nunique())\n",
    "    print(df.loc[:, col].unique())\n",
    "    print('###\\n')"
   ]
  },
  {
   "cell_type": "markdown",
   "metadata": {},
   "source": [
    "## Schnelle Visualisierungen mit pandas\n",
    "\n",
    "Mit pandas können wir schnell auch erste Visualisierungen plotten. Allerdings: Die Darstellung geht natürlich noch besser - das werden wir im Kapitel zur Visualisierung von Daten ausführlicher besprechen. Bspw. ist bei den folgenden 'schnellen' Visualisierungen zur ersten Exploration der Daten die Reihenfolge der horizontalen Balken verkehrt herum. Auch die Abstände zwischen den Jahreszahlen, die als Label auf der x-Achse stehen, sind viel zu eng. Vieles lässt sich anpassen, das werden wir - wie gesagt -  im nächsten Kapitel vorstellen.\n",
    "\n",
    "### Balkendiagramm\n",
    "\n",
    "In den folgenden drei Balkendiagrammen zeigen wir die 5 häufigsten Orte, von denen Briefe verschickt wurden, sowie die 5 häufigsten Verfasser und Empfänger der Briefe an. Dazu nutzen wir die Methode `value_counts()` auf die jeweilige Spalte und weisen die Rückgabe einer neuen Variablen zu, die wir wiederum nutzen, um das Ergebnis zu plotten. Wir nutzen mit `head()` nur die ersten 5 Ergebnisse. Mit dem Argument `kind='barh'` geben wir an, dass wir die Darstellung in einem horizontalen Balkendiagramm ausgeben wollen. Mit `title=` geben wir an, welche Überschrift das Diagramm erhalten soll."
   ]
  },
  {
   "cell_type": "code",
   "execution_count": 120,
   "metadata": {},
   "outputs": [
    {
     "data": {
      "image/png": "[encoded data removed]",
      "text/plain": [
       "<Figure size 432x288 with 1 Axes>"
      ]
     },
     "metadata": {
      "needs_background": "light"
     },
     "output_type": "display_data"
    }
   ],
   "source": [
    "df_top_places = df.loc[:, 'place'].value_counts()\n",
    "\n",
    "df_top_places.head(5).plot(kind='barh', title='Top 5 Orte');"
   ]
  },
  {
   "cell_type": "code",
   "execution_count": 60,
   "metadata": {},
   "outputs": [
    {
     "data": {
      "image/png": "[encoded data removed]",
      "text/plain": [
       "<Figure size 432x288 with 1 Axes>"
      ]
     },
     "metadata": {
      "needs_background": "light"
     },
     "output_type": "display_data"
    }
   ],
   "source": [
    "df_top_sender = df.loc[:, 'sender'].value_counts()\n",
    "\n",
    "df_top_sender.head(5).plot(kind='barh', title='Top 5 Schreiber');"
   ]
  },
  {
   "cell_type": "code",
   "execution_count": 61,
   "metadata": {},
   "outputs": [
    {
     "data": {
      "image/png": "[encoded data removed]",
      "text/plain": [
       "<Figure size 432x288 with 1 Axes>"
      ]
     },
     "metadata": {
      "needs_background": "light"
     },
     "output_type": "display_data"
    }
   ],
   "source": [
    "df_top_receiver = df.loc[:, 'receiver'].value_counts()\n",
    "\n",
    "df_top_receiver.head(5).plot(kind='barh', title='Top 5 Empfänger');"
   ]
  },
  {
   "cell_type": "markdown",
   "metadata": {},
   "source": [
    "### Histogramm\n",
    "\n",
    "Mit nur einer Codezeile können wir ein Histogramm plotten, das Auskunft über die Verteilung der Länge der Briefe gibt. Wir wählen dazu die Spalte mit den Anzahl der Token aus und nutzen `plot()` mit dem Parameter `hist` und `bins=30`, um die Werte der Textlänge in 30 gleichgroße Abschnitte einteilen zu lassen."
   ]
  },
  {
   "cell_type": "code",
   "execution_count": 62,
   "metadata": {},
   "outputs": [
    {
     "data": {
      "image/png": "[encoded data removed]",
      "text/plain": [
       "<Figure size 432x288 with 1 Axes>"
      ]
     },
     "metadata": {
      "needs_background": "light"
     },
     "output_type": "display_data"
    }
   ],
   "source": [
    "df.loc[:, 'nr_token' ].plot(kind='hist', bins=30, title='Verteilung der Länge der Briefe');"
   ]
  },
  {
   "cell_type": "markdown",
   "metadata": {},
   "source": [
    "### Gruppieren\n",
    "\n",
    "Wenn wir wissen wollen, wie viele Briefe (aus unserem in Auswahl zusammengestellten Korpus) in den jeweiligen Jahren verfasst wurden, können wir diese mit der Methode `groupby()` entsprechend gruppieren. Die Gruppierung führen wir auf der Datums-Spalte aus. Wir nutzen dann die Methode `dt.to_period('Y')`, um auf der Datumsangabe nach einer 'Periode', in diesem Fall das Jahr, das wir mit 'Y' angeben, zu gruppieren. Die Abkürzung `dt` gibt dabei an, dass wir mit Datetime-Objekten arbeiten. Neben 'Y' könnten wir auch 'M' für die Monate nutzen. Schließlich nutzen wir `size()`, um dann die Anzahl pro Jahr zu erhalten. In der zweiten Zeile plotten wir dann die Werte nach Jahren als Balkendiagramm. "
   ]
  },
  {
   "cell_type": "code",
   "execution_count": 108,
   "metadata": {},
   "outputs": [
    {
     "data": {
      "image/png": "[encoded data removed]",
      "text/plain": [
       "<Figure size 432x288 with 1 Axes>"
      ]
     },
     "metadata": {
      "needs_background": "light"
     },
     "output_type": "display_data"
    }
   ],
   "source": [
    "df_grouped_sum = df.groupby(df.loc[:, 'date'].dt.to_period('Y')).size()\n",
    "\n",
    "df_grouped_sum.plot(kind='bar', title='Anzahl der Briefe pro Jahr');"
   ]
  },
  {
   "cell_type": "markdown",
   "metadata": {},
   "source": [
    "Im nächsten Beispiel gruppieren wir unsere Daten auch nach der Datumspalte. Diesmal nutzen wir zusätzlich die Spalte mit der Anzahl der Token und wenden darauf die `mean()`-Methode an, um die durchschnittliche Anzahl der Token für das jeweilige Jahr zu erhalten. Der Code für das Balkendiagramm wenden wir wie bei den vorherigen Diagrammen an."
   ]
  },
  {
   "cell_type": "code",
   "execution_count": 107,
   "metadata": {},
   "outputs": [
    {
     "data": {
      "image/png": "[encoded data removed]",
      "text/plain": [
       "<Figure size 432x288 with 1 Axes>"
      ]
     },
     "metadata": {
      "needs_background": "light"
     },
     "output_type": "display_data"
    }
   ],
   "source": [
    "df_grouped_token = df.groupby(df.loc[:, 'date'].dt.to_period('Y'))['nr_token'].mean()\n",
    "\n",
    "df_grouped_token.plot(kind='bar', title='Durchschnittliche Brieflänge in Token nach Jahren');"
   ]
  },
  {
   "cell_type": "markdown",
   "metadata": {},
   "source": [
    "## Abfrage mit boolescher Maske\n",
    "\n",
    "Ein weiterer Schritt bei der Exploration der Daten können Abfragen nach bestimmten Wörtern in den textuellen Daten sein. Hier hilft eine Reihe von Methoden, die in pandas speziell für die Arbeit mit Strings existieren und mit dem Kürzel `str` eingeleitet werden (siehe auch die [Dokumentation](https://pandas.pydata.org/docs/user_guide/text.html#string-methods) hierzu). Die Methode `str.contains()` prüft, ob eine Zeichenkette in einem String enthalten. Nachfolgend haben wir die Methode auf die Spalte mit den Texten der Briefe angewandt und suchen hier nach dem String 'Vulkan'. \n",
    "\n",
    "Diese Suchfunktionalität ermöglicht auch den Einsatz von Regulären Ausdrücken, die wir im entsprechenden Kapitel genauer vorstellen werden. Hier erfolg durch die Syntax '[V|v]', dass sowohl nach dem Wort in Groß- und Kleinschreibung gesucht wird. In der dritten Variante wird dann sogar nach den Schreibvarianten mit k bzw. c gesucht. Wir erhalten hier  17 Treffer des Wortes 'Vulkan' und dessen Variante, die in den Brieftexten vorkommen. Diese Briefe filtern wir mit Hilfe der booleschen Maskierung. "
   ]
  },
  {
   "cell_type": "code",
   "execution_count": 109,
   "metadata": {},
   "outputs": [
    {
     "data": {
      "text/plain": [
       "6"
      ]
     },
     "execution_count": 109,
     "metadata": {},
     "output_type": "execute_result"
    }
   ],
   "source": [
    "query_1 = df.loc[:, 'text'].str.contains('Vulkan').sum()\n",
    "query_1"
   ]
  },
  {
   "cell_type": "code",
   "execution_count": 110,
   "metadata": {},
   "outputs": [
    {
     "data": {
      "text/plain": [
       "14"
      ]
     },
     "execution_count": 110,
     "metadata": {},
     "output_type": "execute_result"
    }
   ],
   "source": [
    "query_2 = df.loc[:, 'text'].str.contains('[V|v]ulkan').sum()\n",
    "query_2"
   ]
  },
  {
   "cell_type": "code",
   "execution_count": 111,
   "metadata": {},
   "outputs": [
    {
     "data": {
      "text/plain": [
       "17"
      ]
     },
     "execution_count": 111,
     "metadata": {},
     "output_type": "execute_result"
    }
   ],
   "source": [
    "query_3 = df.loc[:, 'text'].str.contains('[V|v]ul[c|k]an').sum()\n",
    "query_3"
   ]
  },
  {
   "cell_type": "code",
   "execution_count": 113,
   "metadata": {},
   "outputs": [
    {
     "name": "stdout",
     "output_type": "stream",
     "text": [
      "(17, 12)\n"
     ]
    },
    {
     "data": {
      "text/html": [
       "<div>\n",
       "<style scoped>\n",
       "    .dataframe tbody tr th:only-of-type {\n",
       "        vertical-align: middle;\n",
       "    }\n",
       "\n",
       "    .dataframe tbody tr th {\n",
       "        vertical-align: top;\n",
       "    }\n",
       "\n",
       "    .dataframe thead th {\n",
       "        text-align: right;\n",
       "    }\n",
       "</style>\n",
       "<table border=\"1\" class=\"dataframe\">\n",
       "  <thead>\n",
       "    <tr style=\"text-align: right;\">\n",
       "      <th></th>\n",
       "      <th>reference</th>\n",
       "      <th>edition_id</th>\n",
       "      <th>sender_id</th>\n",
       "      <th>sender</th>\n",
       "      <th>receiver_id</th>\n",
       "      <th>receiver</th>\n",
       "      <th>date</th>\n",
       "      <th>place_id</th>\n",
       "      <th>place</th>\n",
       "      <th>text</th>\n",
       "      <th>token</th>\n",
       "      <th>nr_token</th>\n",
       "    </tr>\n",
       "  </thead>\n",
       "  <tbody>\n",
       "    <tr>\n",
       "      <th>9</th>\n",
       "      <td>https://edition-humboldt.de/H0001199</td>\n",
       "      <td>#AVHR</td>\n",
       "      <td>http://d-nb.info/gnd/118554700</td>\n",
       "      <td>Alexander von Humboldt</td>\n",
       "      <td>http://d-nb.info/gnd/117387436</td>\n",
       "      <td>Karl Ludwig Willdenow</td>\n",
       "      <td>1796-12-20</td>\n",
       "      <td>http://sws.geonames.org/2951825</td>\n",
       "      <td>Bayreuth</td>\n",
       "      <td>Ohnerachtet mich meine Sendung zu dem französi...</td>\n",
       "      <td>[ohnerachtet, mich, meine, sendung, zu, dem, f...</td>\n",
       "      <td>290</td>\n",
       "    </tr>\n",
       "    <tr>\n",
       "      <th>10</th>\n",
       "      <td>https://edition-humboldt.de/H0001181</td>\n",
       "      <td>#AVHR</td>\n",
       "      <td>http://d-nb.info/gnd/118554700</td>\n",
       "      <td>Alexander von Humboldt</td>\n",
       "      <td>http://d-nb.info/gnd/117387436</td>\n",
       "      <td>Karl Ludwig Willdenow</td>\n",
       "      <td>1801-02-21</td>\n",
       "      <td>http://sws.geonames.org/3553478</td>\n",
       "      <td>Havanna</td>\n",
       "      <td>Havana , den 21 . Febr. Februar 1801. Mein brü...</td>\n",
       "      <td>[havana, den, 21, febr, februar, 1801, mein, b...</td>\n",
       "      <td>4347</td>\n",
       "    </tr>\n",
       "    <tr>\n",
       "      <th>50</th>\n",
       "      <td>https://edition-humboldt.de/H0019581</td>\n",
       "      <td>#AVHR</td>\n",
       "      <td>http://d-nb.info/gnd/118554700</td>\n",
       "      <td>Alexander von Humboldt</td>\n",
       "      <td>http://d-nb.info/gnd/118750321</td>\n",
       "      <td>Johann Moritz Rugendas</td>\n",
       "      <td>1830-03-08</td>\n",
       "      <td>http://sws.geonames.org/2950159</td>\n",
       "      <td>None</td>\n",
       "      <td>Sie sind zu sehr, mein theurer Rugendas , von ...</td>\n",
       "      <td>[sie, sind, zu, sehr, mein, theurer, rugendas,...</td>\n",
       "      <td>752</td>\n",
       "    </tr>\n",
       "  </tbody>\n",
       "</table>\n",
       "</div>"
      ],
      "text/plain": [
       "                               reference edition_id  \\\n",
       "9   https://edition-humboldt.de/H0001199      #AVHR   \n",
       "10  https://edition-humboldt.de/H0001181      #AVHR   \n",
       "50  https://edition-humboldt.de/H0019581      #AVHR   \n",
       "\n",
       "                         sender_id                  sender  \\\n",
       "9   http://d-nb.info/gnd/118554700  Alexander von Humboldt   \n",
       "10  http://d-nb.info/gnd/118554700  Alexander von Humboldt   \n",
       "50  http://d-nb.info/gnd/118554700  Alexander von Humboldt   \n",
       "\n",
       "                       receiver_id                receiver       date  \\\n",
       "9   http://d-nb.info/gnd/117387436   Karl Ludwig Willdenow 1796-12-20   \n",
       "10  http://d-nb.info/gnd/117387436   Karl Ludwig Willdenow 1801-02-21   \n",
       "50  http://d-nb.info/gnd/118750321  Johann Moritz Rugendas 1830-03-08   \n",
       "\n",
       "                           place_id     place  \\\n",
       "9   http://sws.geonames.org/2951825  Bayreuth   \n",
       "10  http://sws.geonames.org/3553478   Havanna   \n",
       "50  http://sws.geonames.org/2950159      None   \n",
       "\n",
       "                                                 text  \\\n",
       "9   Ohnerachtet mich meine Sendung zu dem französi...   \n",
       "10  Havana , den 21 . Febr. Februar 1801. Mein brü...   \n",
       "50  Sie sind zu sehr, mein theurer Rugendas , von ...   \n",
       "\n",
       "                                                token  nr_token  \n",
       "9   [ohnerachtet, mich, meine, sendung, zu, dem, f...       290  \n",
       "10  [havana, den, 21, febr, februar, 1801, mein, b...      4347  \n",
       "50  [sie, sind, zu, sehr, mein, theurer, rugendas,...       752  "
      ]
     },
     "execution_count": 113,
     "metadata": {},
     "output_type": "execute_result"
    }
   ],
   "source": [
    "mask = df.loc[:, 'text'].str.contains('[V|v]ul[c|k]an')\n",
    "df_vulkan = df.loc[mask, :]\n",
    "\n",
    "print(df_vulkan.shape)\n",
    "df_vulkan.head(3)"
   ]
  },
  {
   "cell_type": "markdown",
   "metadata": {},
   "source": [
    "In dieser Auswahl können wir nun bspw. weitergehend erkunden, wer die Empfänger der Briefe sind, in denen das Wort Vulkan vorkommt. Mit zwei weiteren Zeilen Code können wir auch das Ergebnis schnell visualisieren."
   ]
  },
  {
   "cell_type": "code",
   "execution_count": 115,
   "metadata": {},
   "outputs": [
    {
     "name": "stdout",
     "output_type": "stream",
     "text": [
      "5\n"
     ]
    },
    {
     "data": {
      "text/plain": [
       "array(['Karl Ludwig Willdenow', 'Johann Moritz Rugendas',\n",
       "       'Franz Julius Ferdinand Meyen', 'Alexander von Humboldt',\n",
       "       'Christian Gottfried Ehrenberg'], dtype=object)"
      ]
     },
     "execution_count": 115,
     "metadata": {},
     "output_type": "execute_result"
    }
   ],
   "source": [
    "print(df_vulkan.loc[:, 'receiver'].nunique())\n",
    "df_vulkan.loc[:, 'receiver'].unique()"
   ]
  },
  {
   "cell_type": "code",
   "execution_count": 94,
   "metadata": {},
   "outputs": [
    {
     "data": {
      "image/png": "[encoded data removed]",
      "text/plain": [
       "<Figure size 432x288 with 1 Axes>"
      ]
     },
     "metadata": {
      "needs_background": "light"
     },
     "output_type": "display_data"
    }
   ],
   "source": [
    "top_receiver = df_vulkan.loc[:, 'receiver'].value_counts()\n",
    "\n",
    "top_receiver.plot(kind='barh', title='Top Empfänger \"Vulkan\"');"
   ]
  },
  {
   "cell_type": "markdown",
   "metadata": {},
   "source": [
    "Auch die `pd.crosstab()`-Methode kann ähnlich eingesetzt werden wie `groupby()`. Hier setzen wir den Index eines neuen Dataframes auf die Datumsangaben und fügen dann die Spalte `count` hinzu, in der die Häufigkeit der Vorkommnisse für die Jahre gezählt werden. Da nicht in jedem Jahr das Wort 'Vulkan' Erwähnung findet, sind im anschließenden Diagramme nur die Jahre aufgeführt, in denen mindestens einmal das Wort in einem der Briefe, die in diesem Jahr verfasst wurden, zu finden ist. Das ist für eine Visualisierung unvorteilhaft. Aber dies kann alles angepasst werden. Genauso wie fehlende Beschriftungen wie auch die Kommawerte in den Label der y-Achse. Wie die Visualisierung der Daten verbessert werden, kann werden wir im nächsten Kaptiel ausführen. Hier werden eigene Python-Bibliotheken zum Plotten zum Einsatz kommen. "
   ]
  },
  {
   "cell_type": "code",
   "execution_count": 121,
   "metadata": {},
   "outputs": [
    {
     "data": {
      "image/png": "[encoded data removed]",
      "text/plain": [
       "<Figure size 432x288 with 1 Axes>"
      ]
     },
     "metadata": {
      "needs_background": "light"
     },
     "output_type": "display_data"
    }
   ],
   "source": [
    "df_vulkan_year = pd.crosstab(index=df_vulkan.loc[:,'date'].dt.to_period('Y'), columns='count')\n",
    "df_vulkan_year.plot(kind='bar', legend=False);"
   ]
  },
  {
   "cell_type": "code",
   "execution_count": null,
   "metadata": {},
   "outputs": [],
   "source": []
  }
 ],
 "metadata": {
  "kernelspec": {
   "display_name": "base_2_expand",
   "language": "python",
   "name": "python3"
  },
  "language_info": {
   "codemirror_mode": {
    "name": "ipython",
    "version": 3
   },
   "file_extension": ".py",
   "mimetype": "text/x-python",
   "name": "python",
   "nbconvert_exporter": "python",
   "pygments_lexer": "ipython3",
   "version": "3.9.7"
  }
 },
 "nbformat": 4,
 "nbformat_minor": 2
}
