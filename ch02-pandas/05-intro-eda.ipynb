{
 "cells": [
  {
   "cell_type": "markdown",
   "metadata": {},
   "source": [
    "\n",
    "* evtl. noch quick and dirty Auswertungen mit groupby und df.plot\n",
    "* groupby auf datetime nutzen\n",
    "* um dann im nächsten Notebook noch schöner zu plotten\n",
    "\n",
    "\n",
    "\n",
    "* Auswertungen machen und Visualisierungen in neuen Notebooks in neuem Kapitel\n",
    "* nach Monaten\n",
    "* nach Receivern\n",
    "\n",
    "=> und dann in schön!"
   ]
  },
  {
   "cell_type": "markdown",
   "metadata": {},
   "source": [
    "# Explorative Datenanalyse\n",
    "\n",
    "*Know your data!* Wichtig bei der Arbeit mit Daten ist es, diese gut zu kennen. Pandas ist dabei äußerst hilfreich, um mit wenig Code erste Einsichten in seine Daten zu bekommen. Daher werden im folgenden Abschnitt einige Herangehensweisen vorgestellt, wie mit pandas Daten erkundet werden können. "
   ]
  },
  {
   "cell_type": "code",
   "execution_count": 2,
   "metadata": {},
   "outputs": [],
   "source": [
    "import pandas as pd"
   ]
  },
  {
   "cell_type": "markdown",
   "metadata": {},
   "source": [
    "Am Anfang steht das Einlesen der Daten - und die Umwandlung der Datentypen in das richtige Format. Wir lesen diesmal die JSON-Datei ein und wandeln die dort enthaltene unix-Zeit in ein Datetime-Objekt um."
   ]
  },
  {
   "cell_type": "code",
   "execution_count": 3,
   "metadata": {},
   "outputs": [],
   "source": [
    "df = pd.read_json('240301-AvH-letters-with-tokens.json')\n",
    "df.loc[:, 'date'] = pd.to_datetime(df.loc[:, 'date'], unit='ms')"
   ]
  },
  {
   "cell_type": "code",
   "execution_count": 4,
   "metadata": {},
   "outputs": [
    {
     "name": "stdout",
     "output_type": "stream",
     "text": [
      "(296, 12)\n"
     ]
    },
    {
     "data": {
      "text/html": [
       "<div>\n",
       "<style scoped>\n",
       "    .dataframe tbody tr th:only-of-type {\n",
       "        vertical-align: middle;\n",
       "    }\n",
       "\n",
       "    .dataframe tbody tr th {\n",
       "        vertical-align: top;\n",
       "    }\n",
       "\n",
       "    .dataframe thead th {\n",
       "        text-align: right;\n",
       "    }\n",
       "</style>\n",
       "<table border=\"1\" class=\"dataframe\">\n",
       "  <thead>\n",
       "    <tr style=\"text-align: right;\">\n",
       "      <th></th>\n",
       "      <th>reference</th>\n",
       "      <th>edition_id</th>\n",
       "      <th>sender_id</th>\n",
       "      <th>sender</th>\n",
       "      <th>receiver_id</th>\n",
       "      <th>receiver</th>\n",
       "      <th>date</th>\n",
       "      <th>place_id</th>\n",
       "      <th>place</th>\n",
       "      <th>text</th>\n",
       "      <th>token</th>\n",
       "      <th>nr_token</th>\n",
       "    </tr>\n",
       "  </thead>\n",
       "  <tbody>\n",
       "    <tr>\n",
       "      <th>0</th>\n",
       "      <td>https://edition-humboldt.de/H0002655</td>\n",
       "      <td>#AVHR</td>\n",
       "      <td>http://d-nb.info/gnd/118554700</td>\n",
       "      <td>Alexander von Humboldt</td>\n",
       "      <td>http://d-nb.info/gnd/118805193</td>\n",
       "      <td>Samuel Thomas von Soemmerring</td>\n",
       "      <td>1793-12-05</td>\n",
       "      <td>http://sws.geonames.org/6556797</td>\n",
       "      <td>Berg</td>\n",
       "      <td>Berg , den 5 . Dez Dezember 1793 Ihr Brief, li...</td>\n",
       "      <td>[berg, den, 5, dez, dezember, 1793, ihr, brief...</td>\n",
       "      <td>252</td>\n",
       "    </tr>\n",
       "    <tr>\n",
       "      <th>1</th>\n",
       "      <td>https://edition-humboldt.de/H0002730</td>\n",
       "      <td>#AVHR</td>\n",
       "      <td>http://d-nb.info/gnd/118554700</td>\n",
       "      <td>Alexander von Humboldt</td>\n",
       "      <td>http://d-nb.info/gnd/118805193</td>\n",
       "      <td>Samuel Thomas von Soemmerring</td>\n",
       "      <td>1794-02-06</td>\n",
       "      <td>http://sws.geonames.org/2951825</td>\n",
       "      <td>Bayreuth</td>\n",
       "      <td>Der Ueberbringer dieses Briefchens, lieber Soe...</td>\n",
       "      <td>[der, ueberbringer, dieses, briefchens, lieber...</td>\n",
       "      <td>143</td>\n",
       "    </tr>\n",
       "    <tr>\n",
       "      <th>2</th>\n",
       "      <td>https://edition-humboldt.de/H0002729</td>\n",
       "      <td>#AVHR</td>\n",
       "      <td>http://d-nb.info/gnd/118554700</td>\n",
       "      <td>Alexander von Humboldt</td>\n",
       "      <td>http://d-nb.info/gnd/118805193</td>\n",
       "      <td>Samuel Thomas von Soemmerring</td>\n",
       "      <td>1795-06-07</td>\n",
       "      <td>http://sws.geonames.org/2951825</td>\n",
       "      <td>Bayreuth</td>\n",
       "      <td>Verehrungswerther Freund, Ich will Ihnen ein B...</td>\n",
       "      <td>[verehrungswerther, freund, ich, will, ihnen, ...</td>\n",
       "      <td>591</td>\n",
       "    </tr>\n",
       "    <tr>\n",
       "      <th>3</th>\n",
       "      <td>https://edition-humboldt.de/H0002657</td>\n",
       "      <td>#AVHR</td>\n",
       "      <td>http://d-nb.info/gnd/118554700</td>\n",
       "      <td>Alexander von Humboldt</td>\n",
       "      <td>http://d-nb.info/gnd/118805193</td>\n",
       "      <td>Samuel Thomas von Soemmerring</td>\n",
       "      <td>1795-06-29</td>\n",
       "      <td>http://sws.geonames.org/2919290</td>\n",
       "      <td>Goldkronach</td>\n",
       "      <td>Wie innig, theurer, Verehrungswerther Mann! fr...</td>\n",
       "      <td>[wie, innig, theurer, verehrungswerther, mann,...</td>\n",
       "      <td>899</td>\n",
       "    </tr>\n",
       "    <tr>\n",
       "      <th>4</th>\n",
       "      <td>https://edition-humboldt.de/H0001183</td>\n",
       "      <td>#AVHR</td>\n",
       "      <td>http://d-nb.info/gnd/118554700</td>\n",
       "      <td>Alexander von Humboldt</td>\n",
       "      <td>http://d-nb.info/gnd/117387436</td>\n",
       "      <td>Karl Ludwig Willdenow</td>\n",
       "      <td>1795-07-17</td>\n",
       "      <td>http://sws.geonames.org/2951825</td>\n",
       "      <td>Bayreuth</td>\n",
       "      <td>ich reise noch heute von hier nach Venedig , d...</td>\n",
       "      <td>[ich, reise, noch, heute, von, hier, nach, ven...</td>\n",
       "      <td>143</td>\n",
       "    </tr>\n",
       "  </tbody>\n",
       "</table>\n",
       "</div>"
      ],
      "text/plain": [
       "                              reference edition_id  \\\n",
       "0  https://edition-humboldt.de/H0002655      #AVHR   \n",
       "1  https://edition-humboldt.de/H0002730      #AVHR   \n",
       "2  https://edition-humboldt.de/H0002729      #AVHR   \n",
       "3  https://edition-humboldt.de/H0002657      #AVHR   \n",
       "4  https://edition-humboldt.de/H0001183      #AVHR   \n",
       "\n",
       "                        sender_id                  sender  \\\n",
       "0  http://d-nb.info/gnd/118554700  Alexander von Humboldt   \n",
       "1  http://d-nb.info/gnd/118554700  Alexander von Humboldt   \n",
       "2  http://d-nb.info/gnd/118554700  Alexander von Humboldt   \n",
       "3  http://d-nb.info/gnd/118554700  Alexander von Humboldt   \n",
       "4  http://d-nb.info/gnd/118554700  Alexander von Humboldt   \n",
       "\n",
       "                      receiver_id                       receiver       date  \\\n",
       "0  http://d-nb.info/gnd/118805193  Samuel Thomas von Soemmerring 1793-12-05   \n",
       "1  http://d-nb.info/gnd/118805193  Samuel Thomas von Soemmerring 1794-02-06   \n",
       "2  http://d-nb.info/gnd/118805193  Samuel Thomas von Soemmerring 1795-06-07   \n",
       "3  http://d-nb.info/gnd/118805193  Samuel Thomas von Soemmerring 1795-06-29   \n",
       "4  http://d-nb.info/gnd/117387436          Karl Ludwig Willdenow 1795-07-17   \n",
       "\n",
       "                          place_id        place  \\\n",
       "0  http://sws.geonames.org/6556797         Berg   \n",
       "1  http://sws.geonames.org/2951825     Bayreuth   \n",
       "2  http://sws.geonames.org/2951825     Bayreuth   \n",
       "3  http://sws.geonames.org/2919290  Goldkronach   \n",
       "4  http://sws.geonames.org/2951825     Bayreuth   \n",
       "\n",
       "                                                text  \\\n",
       "0  Berg , den 5 . Dez Dezember 1793 Ihr Brief, li...   \n",
       "1  Der Ueberbringer dieses Briefchens, lieber Soe...   \n",
       "2  Verehrungswerther Freund, Ich will Ihnen ein B...   \n",
       "3  Wie innig, theurer, Verehrungswerther Mann! fr...   \n",
       "4  ich reise noch heute von hier nach Venedig , d...   \n",
       "\n",
       "                                               token  nr_token  \n",
       "0  [berg, den, 5, dez, dezember, 1793, ihr, brief...       252  \n",
       "1  [der, ueberbringer, dieses, briefchens, lieber...       143  \n",
       "2  [verehrungswerther, freund, ich, will, ihnen, ...       591  \n",
       "3  [wie, innig, theurer, verehrungswerther, mann,...       899  \n",
       "4  [ich, reise, noch, heute, von, hier, nach, ven...       143  "
      ]
     },
     "execution_count": 4,
     "metadata": {},
     "output_type": "execute_result"
    }
   ],
   "source": [
    "print(df.shape)\n",
    "df.head()"
   ]
  },
  {
   "cell_type": "markdown",
   "metadata": {},
   "source": [
    "## Infos zum Dataframe"
   ]
  },
  {
   "cell_type": "markdown",
   "metadata": {},
   "source": [
    "Schauen wir uns die Titel der Spalten an:"
   ]
  },
  {
   "cell_type": "code",
   "execution_count": 6,
   "metadata": {},
   "outputs": [
    {
     "data": {
      "text/plain": [
       "Index(['reference', 'edition_id', 'sender_id', 'sender', 'receiver_id',\n",
       "       'receiver', 'date', 'place_id', 'place', 'text', 'token', 'nr_token'],\n",
       "      dtype='object')"
      ]
     },
     "execution_count": 6,
     "metadata": {},
     "output_type": "execute_result"
    }
   ],
   "source": [
    "df.columns"
   ]
  },
  {
   "cell_type": "markdown",
   "metadata": {},
   "source": [
    "Und dann geben wir Infos zu allen Spalten ausgeben, um Angaben zu den Datentypen zu erhalten. Bis auf zwei Spalten ist der Datentype als 'object' ausgewiesen. D.h. hier sind strings in den Spalten vorhanden. Bei `date` haben wir ein Datetime-Objekt erstellt, bei `nr_token` handelt es sich um integers. Auch die Angabe über fehlende Werte ist ersichtlich, die wir aber in der darauffolgenden Zelle nochmal einfacher darstellen lassen können."
   ]
  },
  {
   "cell_type": "code",
   "execution_count": 8,
   "metadata": {},
   "outputs": [
    {
     "name": "stdout",
     "output_type": "stream",
     "text": [
      "<class 'pandas.core.frame.DataFrame'>\n",
      "Int64Index: 296 entries, 0 to 295\n",
      "Data columns (total 12 columns):\n",
      " #   Column       Non-Null Count  Dtype         \n",
      "---  ------       --------------  -----         \n",
      " 0   reference    296 non-null    object        \n",
      " 1   edition_id   296 non-null    object        \n",
      " 2   sender_id    296 non-null    object        \n",
      " 3   sender       296 non-null    object        \n",
      " 4   receiver_id  296 non-null    object        \n",
      " 5   receiver     296 non-null    object        \n",
      " 6   date         296 non-null    datetime64[ns]\n",
      " 7   place_id     283 non-null    object        \n",
      " 8   place        82 non-null     object        \n",
      " 9   text         296 non-null    object        \n",
      " 10  token        296 non-null    object        \n",
      " 11  nr_token     296 non-null    int64         \n",
      "dtypes: datetime64[ns](1), int64(1), object(10)\n",
      "memory usage: 30.1+ KB\n"
     ]
    }
   ],
   "source": [
    "df.info()"
   ]
  },
  {
   "cell_type": "code",
   "execution_count": 9,
   "metadata": {},
   "outputs": [
    {
     "data": {
      "text/plain": [
       "reference        0\n",
       "edition_id       0\n",
       "sender_id        0\n",
       "sender           0\n",
       "receiver_id      0\n",
       "receiver         0\n",
       "date             0\n",
       "place_id        13\n",
       "place          214\n",
       "text             0\n",
       "token            0\n",
       "nr_token         0\n",
       "dtype: int64"
      ]
     },
     "execution_count": 9,
     "metadata": {},
     "output_type": "execute_result"
    }
   ],
   "source": [
    "df.isna().sum()"
   ]
  },
  {
   "cell_type": "markdown",
   "metadata": {},
   "source": [
    "Zu den Spalten mit numerischen Werten können wir Informationen über die Verteilung der Daten aufrufen. In unserem Beispiel haben wir allerdings nur eine Spalte mit numerischen Werten, die Auskunft über die Anzahl der Token in den Briefen gibt. Im Durchschnitt besteht ein Brief aus 388 Token, während der längste Brief 4347 Token umfasst."
   ]
  },
  {
   "cell_type": "code",
   "execution_count": 10,
   "metadata": {},
   "outputs": [
    {
     "data": {
      "text/html": [
       "<div>\n",
       "<style scoped>\n",
       "    .dataframe tbody tr th:only-of-type {\n",
       "        vertical-align: middle;\n",
       "    }\n",
       "\n",
       "    .dataframe tbody tr th {\n",
       "        vertical-align: top;\n",
       "    }\n",
       "\n",
       "    .dataframe thead th {\n",
       "        text-align: right;\n",
       "    }\n",
       "</style>\n",
       "<table border=\"1\" class=\"dataframe\">\n",
       "  <thead>\n",
       "    <tr style=\"text-align: right;\">\n",
       "      <th></th>\n",
       "      <th>nr_token</th>\n",
       "    </tr>\n",
       "  </thead>\n",
       "  <tbody>\n",
       "    <tr>\n",
       "      <th>count</th>\n",
       "      <td>296.000000</td>\n",
       "    </tr>\n",
       "    <tr>\n",
       "      <th>mean</th>\n",
       "      <td>388.266892</td>\n",
       "    </tr>\n",
       "    <tr>\n",
       "      <th>std</th>\n",
       "      <td>474.315521</td>\n",
       "    </tr>\n",
       "    <tr>\n",
       "      <th>min</th>\n",
       "      <td>0.000000</td>\n",
       "    </tr>\n",
       "    <tr>\n",
       "      <th>25%</th>\n",
       "      <td>124.750000</td>\n",
       "    </tr>\n",
       "    <tr>\n",
       "      <th>50%</th>\n",
       "      <td>224.500000</td>\n",
       "    </tr>\n",
       "    <tr>\n",
       "      <th>75%</th>\n",
       "      <td>484.750000</td>\n",
       "    </tr>\n",
       "    <tr>\n",
       "      <th>max</th>\n",
       "      <td>4347.000000</td>\n",
       "    </tr>\n",
       "  </tbody>\n",
       "</table>\n",
       "</div>"
      ],
      "text/plain": [
       "          nr_token\n",
       "count   296.000000\n",
       "mean    388.266892\n",
       "std     474.315521\n",
       "min       0.000000\n",
       "25%     124.750000\n",
       "50%     224.500000\n",
       "75%     484.750000\n",
       "max    4347.000000"
      ]
     },
     "execution_count": 10,
     "metadata": {},
     "output_type": "execute_result"
    }
   ],
   "source": [
    "df.describe()"
   ]
  },
  {
   "cell_type": "markdown",
   "metadata": {},
   "source": [
    "## Infos zu einzelnen Spalten"
   ]
  },
  {
   "cell_type": "markdown",
   "metadata": {},
   "source": [
    "Mit `nunique()` können wir die Anzahl der einmalig auftretenden Werte ausgeben, mit `unique()` können wir die Wert selbst aufrufen. Dies führen wir für die Spalten `edition_id`, `sender`, `receiver` und `place` mit Hilfe einer for-Schleife durch."
   ]
  },
  {
   "cell_type": "code",
   "execution_count": 14,
   "metadata": {},
   "outputs": [
    {
     "name": "stdout",
     "output_type": "stream",
     "text": [
      "edition_id\n",
      "1\n",
      "['#AVHR']\n",
      "###\n",
      "\n",
      "sender\n",
      "14\n",
      "['Alexander von Humboldt' 'Aimé Bonpland' 'Aylmer Bourke Lambert'\n",
      " 'George Arnott Walker-Arnott' 'Johann Moritz Rugendas'\n",
      " 'Christian Gottfried Ehrenberg' 'Carl Sigismund Kunth'\n",
      " 'Sir Robert Hermann Schomburgk' 'Moritz Richard Schomburgk'\n",
      " 'Joseph Dalton Hooker' 'Otto Alfred Schomburgk'\n",
      " 'Hermann Schlagintweit-Sakünlünski' 'Adolph von Schlagintweit'\n",
      " 'Robert, Freiherr von Schlagintweit']\n",
      "###\n",
      "\n",
      "receiver\n",
      "18\n",
      "['Samuel Thomas von Soemmerring' 'Karl Ludwig Willdenow'\n",
      " 'Dietrich Ludwig Gustav Karsten' 'Carl Sigismund Kunth'\n",
      " 'Christian Gottfried Ehrenberg' 'Alexander von Humboldt'\n",
      " 'Johann Moritz Rugendas' 'Karl Christian Gmelin'\n",
      " 'Franz Julius Ferdinand Meyen' 'Adolphe Graf von Polier'\n",
      " 'Karl Friedrich Schinkel' 'Friedrich Wilhelm IV., König von Preußen'\n",
      " 'Joseph Dalton Hooker' 'Sir Robert Hermann Schomburgk'\n",
      " 'Otto Alfred Schomburgk' 'Adolph von Schlagintweit'\n",
      " 'Hermann Schlagintweit-Sakünlünski' 'Robert, Freiherr von Schlagintweit']\n",
      "###\n",
      "\n",
      "place\n",
      "27\n",
      "['Berg' 'Bayreuth' 'Goldkronach' None 'Havanna' 'Mexiko' 'London'\n",
      " 'Edinburgh' 'Augsburg' 'Lesnoi' 'Miass (Stadt)' 'Moskau' 'Fischbach'\n",
      " 'Potsdam' 'Teplitz' 'Pirara' 'Uruparu' 'Charlottenhof' 'Sanssouci'\n",
      " 'Alexandria' 'Hamburg' 'Santo Domingo' 'Bombay' 'Darjeeling' 'Leh'\n",
      " 'Lahore' 'Triest' 'Weimar']\n",
      "###\n",
      "\n"
     ]
    }
   ],
   "source": [
    "for col in ['edition_id', 'sender', 'receiver', 'place']:\n",
    "\n",
    "    print(col)\n",
    "    print(df.loc[:, col].nunique())\n",
    "    print(df.loc[:, col].unique())\n",
    "    print('###\\n')"
   ]
  },
  {
   "cell_type": "markdown",
   "metadata": {},
   "source": [
    "## Schnelle Visualisierungen\n",
    "\n",
    "Mit pandas können wir schnell auch erste Visualisierungen plotten. "
   ]
  },
  {
   "cell_type": "code",
   "execution_count": 19,
   "metadata": {},
   "outputs": [
    {
     "data": {
      "image/png": "[encoded data removed]",
      "text/plain": [
       "<Figure size 432x288 with 1 Axes>"
      ]
     },
     "metadata": {
      "needs_background": "light"
     },
     "output_type": "display_data"
    }
   ],
   "source": [
    "# for col in ['sender', 'receiver', 'place']:\n",
    "\n",
    "#     top = df.loc[:, col].value_counts()\n",
    "\n",
    "#     top.head(5).plot(kind='barh', title='col');"
   ]
  },
  {
   "cell_type": "code",
   "execution_count": 17,
   "metadata": {},
   "outputs": [
    {
     "data": {
      "image/png": "[encoded data removed]",
      "text/plain": [
       "<Figure size 432x288 with 1 Axes>"
      ]
     },
     "metadata": {
      "needs_background": "light"
     },
     "output_type": "display_data"
    }
   ],
   "source": [
    "top_places = df.loc[:, 'place'].value_counts()\n",
    "\n",
    "top_places.head(5).plot(kind='barh', title='Top Orte');"
   ]
  },
  {
   "cell_type": "code",
   "execution_count": 23,
   "metadata": {},
   "outputs": [
    {
     "data": {
      "image/png": "[encoded data removed]",
      "text/plain": [
       "<Figure size 432x288 with 1 Axes>"
      ]
     },
     "metadata": {
      "needs_background": "light"
     },
     "output_type": "display_data"
    }
   ],
   "source": [
    "df.loc[:, 'nr_token' ].plot(kind='hist', bins=30);"
   ]
  },
  {
   "cell_type": "code",
   "execution_count": null,
   "metadata": {},
   "outputs": [],
   "source": []
  }
 ],
 "metadata": {
  "kernelspec": {
   "display_name": "base_2_expand",
   "language": "python",
   "name": "python3"
  },
  "language_info": {
   "codemirror_mode": {
    "name": "ipython",
    "version": 3
   },
   "file_extension": ".py",
   "mimetype": "text/x-python",
   "name": "python",
   "nbconvert_exporter": "python",
   "pygments_lexer": "ipython3",
   "version": "3.9.7"
  }
 },
 "nbformat": 4,
 "nbformat_minor": 2
}
