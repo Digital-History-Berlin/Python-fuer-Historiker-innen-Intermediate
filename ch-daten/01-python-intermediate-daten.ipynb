{
 "cells": [
  {
   "cell_type": "markdown",
   "metadata": {},
   "source": [
    "# Nachweis der Daten\n",
    "\n",
    "## Informationen zu den Daten aus Python Intermediate\n",
    "\n",
    "Bundestagswahlen: \\\n",
    "https://www.bundeswahlleiterin.de/bundestagswahlen/1949.html\n",
    "\n",
    "correspSearch: \\\n",
    "Stefan Dumont, Sascha Grabsch, Jonas Müller-Laackman, Ruth Sander und Steven Sobkowski (Hg.): correspSearch – Briefeditionen vernetzen (2.3.0) [Webservice]. Berlin-Brandenburgische Akademie der Wissenschaften 2023. https://correspSearch.net\n",
    "\n",
    "edition humboldt digital: \\\n",
    "edition humboldt digital, hg. v. Ottmar Ette. Berlin-Brandenburgische Akademie der Wissenschaften, Berlin. Version 9 vom 04.07.2023. URL: https://edition-humboldt.de/\n",
    "\n",
    "The Proceedings of the Old Bailey: \\\n",
    "Tim Hitchcock, Robert Shoemaker, Clive Emsley, Sharon Howard and Jamie McLaughlin, et al., The Old Bailey Proceedings Online, 1674-1913, version 9.0, Autumn 2023, [www.oldbaileyonline.org](https://www.oldbaileyonline.org/)\n",
    "\n",
    "\n",
    "\n",
    "<!-- \n",
    "TODO\n",
    "Infos zu den Daten erfassen und einfügen, Datei und Titel umbenennen\n",
    "\n",
    "Die Dateien `books.csv` und `library.json` sind selbst erstellt.\n",
    "\n",
    "Die Datei `adliger_vergleich.txt` ist eine eigene Transkription, entnommen aus: *Nachlassenschaft des Grafen Ferdinand von Plettenbergs, welche zu Wien obsigniret worden und welche Franz Joseph als Erbe fordert, LWL-Archivamt für Westfalen Nor.K 13 Nr. 21, 1737.*\n",
    "\n",
    "Die iiif-Manifeste sind aus den Beständen der [Französischen Nationalbibliothek](https://www.bnf.fr) entnommen:\n",
    "* [BnF. Departement des Manuscrits. Francais 1950](https://gallica.bnf.fr/iiif/ark:/12148/btv1b8447758z/manifest.json)\n",
    "* [BnF. Departement des Manuscrits. Francais 2170](https://gallica.bnf.fr/iiif/ark:/12148/btv1b9059916f/manifest.json)\n",
    "* [BnF. Departement des Manuscrits. Francais 2187](https://gallica.bnf.fr/iiif/ark:/12148/btv1b9060645m/manifest.json)\n",
    "* [BnF. Departement des Manuscrits. Francais 2196](https://gallica.bnf.fr/iiif/ark:/12148/btv1b6000339k/manifest.json)\n",
    "* [BnF. Departement des Manuscrits. Francais 2228](https://gallica.bnf.fr/iiif/ark:/12148/btv1b8426259s/manifest.json)\n",
    "* [BnF. Departement des Manuscrits. Francais 2608](https://gallica.bnf.fr/iiif/ark:/12148/btv1b8451604g/manifest.json)\n",
    "\n",
    "Alle Beispieldaten finden Sie auch [hier](https://github.com/Digital-History-Berlin/Python-fuer-Historiker-innen/tree/main/ch04-dateien-verarbeiten/example_data) in unserem GitHub-Repository. -->"
   ]
  }
 ],
 "metadata": {
  "language_info": {
   "name": "python"
  },
  "orig_nbformat": 4
 },
 "nbformat": 4,
 "nbformat_minor": 2
}
