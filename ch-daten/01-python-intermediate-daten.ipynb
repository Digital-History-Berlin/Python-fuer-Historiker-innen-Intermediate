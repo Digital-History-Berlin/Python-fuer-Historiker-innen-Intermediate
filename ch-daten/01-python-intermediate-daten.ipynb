{
 "cells": [
  {
   "cell_type": "markdown",
   "metadata": {},
   "source": [
    "# Nachweis der Daten\n",
    "\n",
    "## Informationen zu den Daten aus Python Intermediate\n",
    "\n",
    "Bundestagswahlen: \\\n",
    "https://www.bundeswahlleiterin.de/bundestagswahlen/1949.html\n",
    "\n",
    "---\n",
    "\n",
    "correspSearch: \\\n",
    "Stefan Dumont, Sascha Grabsch, Jonas Müller-Laackman, Ruth Sander und Steven Sobkowski (Hg.): correspSearch – Briefeditionen vernetzen (2.3.0) [Webservice]. Berlin-Brandenburgische Akademie der Wissenschaften 2023. https://correspSearch.net\n",
    "\n",
    "---\n",
    "\n",
    "edition humboldt digital: \\\n",
    "edition humboldt digital, hg. v. Ottmar Ette. Berlin-Brandenburgische Akademie der Wissenschaften, Berlin. Version 9 vom 04.07.2023. URL: https://edition-humboldt.de/\n",
    "\n",
    "---\n",
    "\n",
    "German Political Speeches Corpus: \\ \n",
    "Adrien Barbaresi. (2019). German Political Speeches Corpus (Version v4.2019) [Data set]. Zenodo. https://doi.org/10.5281/zenodo.3611246\n",
    "\n",
    "Barbaresi, Adrien (2018). \"A corpus of German political speeches from the 21st century\", Proceedings of the Eleventh International Conference on Language Resources and Evaluation (LREC 2018), European Language Resources Association (ELRA), pp. 792–797. http://purl.org/corpus/german-speeches \n",
    "\n"
   ]
  },
  {
   "cell_type": "markdown",
   "metadata": {},
   "source": []
  }
 ],
 "metadata": {
  "language_info": {
   "name": "python"
  },
  "orig_nbformat": 4
 },
 "nbformat": 4,
 "nbformat_minor": 2
}
