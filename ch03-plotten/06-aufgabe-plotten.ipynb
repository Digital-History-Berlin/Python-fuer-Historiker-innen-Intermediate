{
 "cells": [
  {
   "cell_type": "markdown",
   "metadata": {},
   "source": [
    "# 📝 Übung zur Datenvisualisierung mit Pandas und Matplotlib\n",
    "\n",
    "**Zum [Lösungsnotebook](plotten-loesung)**\n",
    "\n",
    "## Aufgabe: Mit Datenvisualisierungen vertraut machen\n",
    "\n",
    "Experimentieren Sie mit verschiedenen Gestaltungsmöglichkeiten einer Balkendiagramm-Visualisierung in Matplotlib und Seaborn, um ein besseres Verständnis für die Anpassung und Konfiguration von Diagrammen zu entwickeln.\n",
    "\n",
    "**1. Farbpalette ändern:** Konsultieren Sie die Dokumentation von [Seaborns Farbpaletten](https://seaborn.pydata.org/tutorial/color_palettes.html) und wählen Sie eine andere Palette aus. Wenden Sie diese auf Ihr Balkendiagramm an.\n",
    "\n",
    "**2. Kontext und Skalierung anpassen:** Spielen Sie mit unterschiedlichen [Kontexten](https://seaborn.pydata.org/generated/seaborn.set_context.html) wie `notebook`, `talk` und `poster` herum. Ändern Sie auch die Skalierung der Schriftgröße, um die Auswirkungen auf die Visualisierung zu beobachten.\n",
    "\n",
    "**3. Titel und Achsenbeschriftungen:** Ändern Sie den Titel des Diagramms und die Beschriftungen der Achsen. Probieren Sie verschiedene Schriftgrößen aus.\n",
    "\n",
    "**4. Achsenkonfiguration:** Modifizieren Sie die [`.xticks`](https://matplotlib.org/stable/api/_as_gen/matplotlib.pyplot.xticks.html) und [`.yticks`](https://matplotlib.org/stable/api/_as_gen/matplotlib.pyplot.yticks.html) Anweisungen, um andere Schriftgrößen und Drehwinkel zu testen. Setzen Sie verschiedene Wertebereiche für die Y-Achse mit [`.ylim`](https://matplotlib.org/stable/api/_as_gen/matplotlib.pyplot.ylim.html), um zu sehen, wie sich dies auf die Darstellung der Daten auswirkt.\n",
    "\n",
    "**5. Rasterlinien (Grid):** Schalten Sie das Raster ein und aus und fügen Sie es spezifisch für die X- oder Y-Achse hinzu. Passen Sie die Stil- und Farboptionen des Rasters an (siehe dazu die [Matplotlib-Dokumentation](https://matplotlib.org/stable/api/_as_gen/matplotlib.pyplot.grid.html)). Für die Konfiguration der Farbe, werden in der Regel HTML-Codes verwendet, nutzen Sie entsprechend gerne einen [HTML Color Picker](https://www.w3schools.com/colors/colors_picker.asp).\n",
    "\n",
    "Nützliche Ressourcen (neben den Verlinkungen):\n",
    "- [Matplotlib User Guide](https://matplotlib.org/stable/users/index.html)\n",
    "- [Seaborn User guide and tutorial](https://seaborn.pydata.org/tutorial.html)\n"
   ]
  },
  {
   "cell_type": "code",
   "execution_count": null,
   "metadata": {},
   "outputs": [],
   "source": [
    "import pandas as pd\n",
    "import matplotlib.pyplot as plt\n",
    "import seaborn as sns\n",
    "\n",
    "# Seaborn-Stil anstelle von Matplotlib\n",
    "\n",
    "\n",
    "# Anweisung speziell für Jupyter Notebooks: \n",
    "# Anzeige der Matplotlib-Grafiken direkt im Notebook statt in einem neuen Fenster\n"
   ]
  },
  {
   "cell_type": "code",
   "execution_count": null,
   "metadata": {},
   "outputs": [],
   "source": [
    "# Erzeugung von Beispieldaten: Wahl zum 1. Deutschen Bundestag am 14. August 1949\n",
    "\n",
    "votes_dict = {'Parteien':['SPD', 'CDU', 'FDP', 'CSU', \n",
    "                        'KPD', 'Parteilose', 'BP', 'DP', \n",
    "                        'Zentrum', 'Sonstige'],\n",
    "                'Stimmen':[6934975, 5978636, 2829920, 1380448,\n",
    "                           1361706, 1141647, 986478, 939934, \n",
    "                           727505, 1451149],\n",
    "                'Prozent': [29.2, 25.2, 11.9, 5.8, 5.7, \n",
    "                            4.8, 4.2, 4.0, 3.1, 6.1],\n",
    "                'color': ['red', 'black', 'yellow', 'darkblue', \n",
    "                          'darkred', 'orange', 'blue', 'grey',\n",
    "                          'darkgrey', 'darkorange']\n",
    "             }\n",
    "\n",
    "df_vote = pd.DataFrame(votes_dict,                                   # Übergabe der Daten\n",
    "                          columns=['Stimmen', 'Prozent', 'color'],   # Spezifikation der Spalten\n",
    "                          index=votes_dict['Parteien'])              # Spezifikation des Index\n",
    "df_vote"
   ]
  },
  {
   "cell_type": "markdown",
   "metadata": {},
   "source": [
    "Der zu modifizierende Code:"
   ]
  },
  {
   "cell_type": "code",
   "execution_count": null,
   "metadata": {},
   "outputs": [],
   "source": [
    "# Diesen Code gerne beliebig anpassen oder in eine andere Codezelle kopieren\n",
    "\n",
    "colors = sns.color_palette('Paired', 12) \n",
    "sns.set_context('notebook', font_scale=1.5, rc={'lines.linewidth': 2.5})   \n",
    "\n",
    "fig, ax = plt.subplots(figsize=(12,6))\n",
    "\n",
    "df_vote.loc[:, 'Prozent'].plot(kind='bar', \n",
    "                               color=colors, # oder: df_vote.loc[:, 'color'],\n",
    "                               ax=ax)\n",
    "\n",
    "# Formatierung der Überschrift des Diagramms\n",
    "ax.set_title(label='Wahl zum 1. Deutschen Bundestag am 14. August 1949',\n",
    "             family='serif',\n",
    "             color='grey',\n",
    "             weight='semibold',\n",
    "             size=16\n",
    "             )\n",
    "\n",
    "# Formatierung und Beschriftung von x-Achse und y-Achse\n",
    "ax.set_xlabel('Partei',\n",
    "              weight='bold',\n",
    "              size=14\n",
    "             )\n",
    "\n",
    "ax.set_ylabel('Prozent',\n",
    "              size=14,\n",
    "              weight='bold',\n",
    "             )\n",
    "\n",
    "# Beschriftung der Labelnamen vergrößern und rotieren\n",
    "ax.set_xticklabels(df_vote.index, \n",
    "                   size=14,\n",
    "                   rotation=45)\n",
    "\n",
    "# Zeichnen nur der Gitterlinien der y-Achse\n",
    "ax.yaxis.grid(True)\n",
    "\n",
    "plt.show()"
   ]
  },
  {
   "cell_type": "code",
   "execution_count": null,
   "metadata": {},
   "outputs": [],
   "source": [
    "# weitere Codezellen nach Bedarf einfügen"
   ]
  },
  {
   "cell_type": "markdown",
   "metadata": {},
   "source": [
    "## Aufgabe: Visualisierung der häufigsten Redner:innen\n",
    "\n",
    "Erstellen Sie analog zur Visualisierung der Reden pro Jahr ein Balkendiagramm, das die Anzahl der Reden der 15 häufigsten Redner:innen visualisiert. Sie können den Code weitestgehend übernehmen und an den Stellen anpassen, wo es nötig ist. Überlegen Sie aber, was Sie tun müssen, um nur die 15 Redner:innen mit den meisten Reden zu visualisieren.\n",
    "\n",
    "---\n",
    "\n",
    "Für die folgenden Aufgaben nutzen wir einen neuen Datensatz. Es handelt sich hier um Reden der Bundesregierung.\n",
    "Die Textdaten f sind dem Projekt German Political Speeches Corpus entnommen. Adrien Barbaresi. (2019). German Political Speeches Corpus (Version v4.2019) [Data set]. Zenodo. https://doi.org/10.5281/zenodo.3611246. \n",
    "\n",
    "Barbaresi, Adrien (2018). \"A corpus of German political speeches from the 21st century\", Proceedings of the Eleventh International Conference on Language Resources and Evaluation (LREC 2018), European Language Resources Association (ELRA), pp. 792–797. http://purl.org/corpus/german-speeches (BibTeX entry)\n"
   ]
  },
  {
   "cell_type": "code",
   "execution_count": 26,
   "metadata": {},
   "outputs": [],
   "source": [
    "df = pd.read_json('../data/speeches-bundesregierung_bearbeitet.json')"
   ]
  },
  {
   "cell_type": "code",
   "execution_count": null,
   "metadata": {},
   "outputs": [],
   "source": [
    "# Gruppieren der Daten nach Jahr und Zählen der Einträge mit der groupby()-Funktion\n",
    "\n"
   ]
  },
  {
   "cell_type": "code",
   "execution_count": null,
   "metadata": {},
   "outputs": [],
   "source": [
    "# Sortierung\n"
   ]
  },
  {
   "cell_type": "code",
   "execution_count": null,
   "metadata": {},
   "outputs": [],
   "source": [
    "# Basisvisualisierung\n",
    "\n",
    "\n",
    "# Plotten der Daten\n",
    "\n",
    "\n",
    "# Styling des Layouts\n",
    "\n",
    "\n"
   ]
  },
  {
   "cell_type": "markdown",
   "metadata": {},
   "source": [
    "## Aufgabe: Ergebnis von Datenabfragen visualisieren\n",
    "\n",
    "Visualisieren Sie die *absoluten* und *relativen* Häufigkeiten des Ergebnisses der im Notebook `LC5_pandas-basics.ipynb` gestellten Aufgabe 3.4:\n",
    "\n",
    "*Suchen Sie nach Reden, ~~die zwischen 2000 und 2010 gehalten wurden,~~ die sich auf Umweltthemen beziehen. In Frage kommen hierfür Begriffe wie \"Umwelt\", \"Klima\", \"Nachhaltigkeit\" oder ähnliches. Formulieren Sie eine Abfrage, die mehrere dieser Begriffe berücksichtigt. Achten Sie ggf. darauf, wie die Bedingungen mit runden Klammern gruppiert werden müssen.*\n",
    "\n",
    "Die Einschränkung auf den Zeitraum 2000-2010 fällt für diese Aufgabenstellung weg. Was fällt Ihnen bei der Visualisierung der relativen Häufigkeiten auf?\n"
   ]
  },
  {
   "cell_type": "code",
   "execution_count": null,
   "metadata": {},
   "outputs": [],
   "source": []
  },
  {
   "cell_type": "code",
   "execution_count": null,
   "metadata": {},
   "outputs": [],
   "source": [
    "# Basisvisualisierung\n",
    "\n",
    "\n",
    "# Plotten der Daten\n",
    "\n",
    "\n",
    "# Styling des Layouts\n",
    "\n"
   ]
  },
  {
   "cell_type": "code",
   "execution_count": null,
   "metadata": {},
   "outputs": [],
   "source": [
    "# Gruppieren der Daten nach Jahr und Zählen der Einträge mit der groupby()-Funktion\n",
    "\n"
   ]
  },
  {
   "cell_type": "code",
   "execution_count": null,
   "metadata": {},
   "outputs": [],
   "source": [
    "# Basisvisualisierung\n",
    "\n",
    "\n",
    "# Plotten der Daten\n",
    "\n",
    "\n",
    "# Styling des Layouts\n",
    "\n"
   ]
  },
  {
   "cell_type": "markdown",
   "metadata": {},
   "source": [
    "## **Optionale Zusatzaufgabe:** Aufgabe 4 - Funktion für Visualisierung erstellen\n",
    "\n",
    "Wie Sie sicherlich festgestellt haben, konnte der Code zur Visualisierung der Auswertungen im zweiten Teil dieses Notebook mit kleineren Anpassungen immer wieder verwendet werden, da die Art der zu visualisierenden Daten sich sehr ähneln. Das heißt, statt immer wieder den Code zu kopieren, könnte eigentlich, wie wir es gelernt haben, eine Funktion erstellt werden, die mit verschiedenen Parametern dann in unterschiedlichen Kontexten aufgerufen werden kann. \n",
    "\n",
    "Probieren Sie gerne einmal aus, wie der Code zur Visualisierung verallgemeinert werden müsste, damit er für die verschiedenen Aufgaben in diesem Notebook verwendet werden kann.\n"
   ]
  },
  {
   "cell_type": "code",
   "execution_count": null,
   "metadata": {},
   "outputs": [],
   "source": []
  },
  {
   "cell_type": "code",
   "execution_count": null,
   "metadata": {},
   "outputs": [],
   "source": [
    "def visualize_as_bar(series_object, label_y, label_x, title):\n",
    "    \"\"\"Erstellt ein Balkendiagramm aus einem Pandas Series-Objekt\n",
    "\n",
    "    Diese Funktion nimmt ein Pandas Series-Objekt und visualisiert es als Balkendiagramm \n",
    "    mit der Möglichkeit, die Beschriftungen der x- und y-Achse sowie den Titel des Diagramms anzupassen.\n",
    "    Die Farben der Balken werden automatisch anhand der \"husl\"-Farbpalette von Seaborn generiert, \n",
    "    basierend auf der Anzahl der Elemente im Series-Objekt. Das kann auch noch über Parameter flexibler \n",
    "    gestaltet werden.\n",
    "\n",
    "    Parameters:\n",
    "    - series_object: Pandas Series-Objekt. Die Daten, die als Balkendiagramm visualisiert werden sollen\n",
    "    - label_y (str): Die Beschriftung für die y-Achse des Diagramms\n",
    "    - label_x (str): Die Beschriftung für die x-Achse des Diagramms\n",
    "    - title (str): Der Titel des Diagramms\n",
    "\n",
    "    Returns:\n",
    "    - Ein Balkendiagramm, das die Daten im series_object visualisiert. Die Funktion gibt nichts zurück, \n",
    "      ruft aber plt.show() auf, um das Diagramm anzuzeigen.\"\"\"\n",
    "\n",
    "\n",
    "\n",
    "\n",
    "    # Plotten der Daten\n",
    "\n",
    "\n",
    "    # Styling des Layouts\n",
    "\n",
    "    return "
   ]
  },
  {
   "cell_type": "code",
   "execution_count": null,
   "metadata": {},
   "outputs": [],
   "source": [
    "# test function\n"
   ]
  }
 ],
 "metadata": {
  "kernelspec": {
   "display_name": "python-workshop",
   "language": "python",
   "name": "python3"
  },
  "language_info": {
   "codemirror_mode": {
    "name": "ipython",
    "version": 3
   },
   "file_extension": ".py",
   "mimetype": "text/x-python",
   "name": "python",
   "nbconvert_exporter": "python",
   "pygments_lexer": "ipython3",
   "version": "3.9.18"
  }
 },
 "nbformat": 4,
 "nbformat_minor": 2
}
