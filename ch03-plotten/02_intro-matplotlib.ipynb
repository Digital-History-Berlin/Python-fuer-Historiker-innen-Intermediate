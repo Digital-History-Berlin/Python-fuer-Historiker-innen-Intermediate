{
 "cells": [
  {
   "attachments": {},
   "cell_type": "markdown",
   "metadata": {},
   "source": [
    "# Notebook Tutorial Datenvisualisierung mit Matplotlib und Seaborn\n",
    "\n",
    "Je umfangreicher tabellarisch organisierte Datensammlungen aber werden, desto unübersichtlicher\n",
    "werden sie auch; die Methode der Datenvisualisierung kann uns dabei helfen, einen raschen Überblick über komplexe Wertverteilungen zu erhalten. \n",
    "\n",
    "Über Graphen, Diagramme oder Karten ermöglicht sie uns die Identifikation von Ausreißern, Mustern oder auch Trends. Es handelt sich um einen eigenen Forschungsbereich, den wir hier leider nur anreißen können, aber so viel sei gesagt: Effektive Datenvisualisierungen sind eine Wissenschaft für sich und das richtige Maß zwischen Form und Funktion zu finden, stellt nicht selten eine Herausforderung dar. Alles an einer Visualisierung sollte einem Zweck folgen: die Auswahl des Visualisierungstyps sollte zu den Informationen passen (Linien- oder Balkendiagramm, Heatmap, Histogramm, ...) und Farben, Ausrichtungen, Positionen und Formen einen Aussagewert haben.\n",
    "\n",
    "Um uns an diesen Bereich heranzutasten, werden wir erst einmal mit der für Python grundlegenden und vielfältigen Bibliothek [**Matplotlib**](https://matplotlib.org/) arbeiten. Sie wurde 2003 erstmals als plattformübergreifendes Visualisierungs-Paket veröffentlicht und wird von Pandas standardmäßig aufgerufen, wenn auf Basis der Pandas-Objekte Visualisierungen erstellt werden sollen. Auf der Website der Bibliothek finden Sie zahlreiche nützliche Tutorials für verschiedene Visualisierungsformen: https://matplotlib.org/tutorials/index.html."
   ]
  },
  {
   "attachments": {},
   "cell_type": "markdown",
   "metadata": {},
   "source": [
    "## Import\n",
    "\n",
    "Zunächst importieren wir die benötigten Python-Bibliotheken. Neben pandas nutzen wir nun auch Matplotlib. \n",
    "\n",
    "Wichtig! Damit die Diagramme in Jupyter Notebooks angezeigt werden, muss der Magic-Commant `%matplotlib inline ausgeführt` werden."
   ]
  },
  {
   "cell_type": "code",
   "execution_count": 1,
   "metadata": {},
   "outputs": [],
   "source": [
    "import matplotlib.pyplot as plt\n",
    "import pandas as pd\n",
    "\n",
    "%matplotlib inline"
   ]
  },
  {
   "attachments": {},
   "cell_type": "markdown",
   "metadata": {},
   "source": [
    "## Einfacher Linienplot\n",
    "\n",
    "Nutzer:innen können mit Matplotlib zwei leicht unterschiedliche Wege wählen, um  verschiedene Diagrammtypen zu plotten. Wir werden hier kurz beide Varianten vorstellen, werden aber im Weitern die zuerst dargestellte Option durchgängig nutzen, da diese aus unserer Sicht mehr Flexibilität bietet. Wir nutzen `fig, ax`, um zunächst eine *figure* anzulegen, auf der dann unterschiedliche Bereiche *axes* als *subplots* angelegt werden können. Die zweite Variante nutzt mit `plt` zusammen mit der entsprechenden Methoden einen etwas einfacheren, direkteren Weg - bietet aber nicht alle Möglichkeiten, um z.B. mehrere Plots in einer Grafik zu platzieren.\n",
    "\n",
    "Grundsätzlich brauchen wir immer Werte für die x-Achse und die gleiche Anzahl an Werten für die y-Achse. Diese Werte werden in Form von Listen der `plot()` Methode übergeben. In unserem Beispiel und der Variante, die wir weiter nutzen wollen, nutzen wir dies auf dem `ax`-Objekt. Davor haben wir aber die *figure* und eine *axes* mit `plt.subplots()` angelegt. Mit der letzten Zeile lassen wir die Grafik anzeigen. "
   ]
  },
  {
   "cell_type": "code",
   "execution_count": 6,
   "metadata": {},
   "outputs": [
    {
     "data": {
      "image/png": "[encoded data removed]",
      "text/plain": [
       "<Figure size 432x288 with 1 Axes>"
      ]
     },
     "metadata": {
      "needs_background": "light"
     },
     "output_type": "display_data"
    }
   ],
   "source": [
    "x = [ 1, 2, 3, 4, 5, 6, 7, 8 ]\n",
    "y = [ 0, 2, 4, 6, 0, 2, 4, 6 ]\n",
    "\n",
    "fig, ax = plt.subplots()\n",
    "ax.plot(x, y)\n",
    "plt.show()"
   ]
  },
  {
   "cell_type": "markdown",
   "metadata": {},
   "source": [
    "Hier nun die gleiche Grafik mit der anderen 'Schreibvariante', auf die Sie sicherlich auf treffen werden."
   ]
  },
  {
   "cell_type": "code",
   "execution_count": 9,
   "metadata": {},
   "outputs": [
    {
     "data": {
      "image/png": "[encoded data removed]",
      "text/plain": [
       "<Figure size 432x288 with 1 Axes>"
      ]
     },
     "metadata": {
      "needs_background": "light"
     },
     "output_type": "display_data"
    }
   ],
   "source": [
    "plt.figure()\n",
    "plt.plot(x, y)\n",
    "plt.show()"
   ]
  },
  {
   "attachments": {},
   "cell_type": "markdown",
   "metadata": {},
   "source": [
    "## Einlesen der Daten"
   ]
  },
  {
   "cell_type": "markdown",
   "metadata": {},
   "source": [
    "Im letzten Kapitel haben wir bereits schnelle Visualsierungen nur mit pandas erstellt. Nun wollen wir diese Datenvisualisierungen mit Hilfe von Matplotlib etwas solider, besser lesbar und ansprechender gestalten. Dazu lesen wir unsere bekannte Datengrundlage wieder ein."
   ]
  },
  {
   "cell_type": "code",
   "execution_count": 8,
   "metadata": {},
   "outputs": [
    {
     "name": "stdout",
     "output_type": "stream",
     "text": [
      "(296, 12)\n"
     ]
    },
    {
     "data": {
      "text/html": [
       "<div>\n",
       "<style scoped>\n",
       "    .dataframe tbody tr th:only-of-type {\n",
       "        vertical-align: middle;\n",
       "    }\n",
       "\n",
       "    .dataframe tbody tr th {\n",
       "        vertical-align: top;\n",
       "    }\n",
       "\n",
       "    .dataframe thead th {\n",
       "        text-align: right;\n",
       "    }\n",
       "</style>\n",
       "<table border=\"1\" class=\"dataframe\">\n",
       "  <thead>\n",
       "    <tr style=\"text-align: right;\">\n",
       "      <th></th>\n",
       "      <th>reference</th>\n",
       "      <th>edition_id</th>\n",
       "      <th>sender_id</th>\n",
       "      <th>sender</th>\n",
       "      <th>receiver_id</th>\n",
       "      <th>receiver</th>\n",
       "      <th>date</th>\n",
       "      <th>place_id</th>\n",
       "      <th>place</th>\n",
       "      <th>text</th>\n",
       "      <th>token</th>\n",
       "      <th>nr_token</th>\n",
       "    </tr>\n",
       "  </thead>\n",
       "  <tbody>\n",
       "    <tr>\n",
       "      <th>0</th>\n",
       "      <td>https://edition-humboldt.de/H0002655</td>\n",
       "      <td>#AVHR</td>\n",
       "      <td>http://d-nb.info/gnd/118554700</td>\n",
       "      <td>Alexander von Humboldt</td>\n",
       "      <td>http://d-nb.info/gnd/118805193</td>\n",
       "      <td>Samuel Thomas von Soemmerring</td>\n",
       "      <td>1793-12-05</td>\n",
       "      <td>http://sws.geonames.org/6556797</td>\n",
       "      <td>Berg</td>\n",
       "      <td>Berg , den 5 . Dez Dezember 1793 Ihr Brief, li...</td>\n",
       "      <td>[berg, den, 5, dez, dezember, 1793, ihr, brief...</td>\n",
       "      <td>252</td>\n",
       "    </tr>\n",
       "    <tr>\n",
       "      <th>1</th>\n",
       "      <td>https://edition-humboldt.de/H0002730</td>\n",
       "      <td>#AVHR</td>\n",
       "      <td>http://d-nb.info/gnd/118554700</td>\n",
       "      <td>Alexander von Humboldt</td>\n",
       "      <td>http://d-nb.info/gnd/118805193</td>\n",
       "      <td>Samuel Thomas von Soemmerring</td>\n",
       "      <td>1794-02-06</td>\n",
       "      <td>http://sws.geonames.org/2951825</td>\n",
       "      <td>Bayreuth</td>\n",
       "      <td>Der Ueberbringer dieses Briefchens, lieber Soe...</td>\n",
       "      <td>[der, ueberbringer, dieses, briefchens, lieber...</td>\n",
       "      <td>143</td>\n",
       "    </tr>\n",
       "    <tr>\n",
       "      <th>2</th>\n",
       "      <td>https://edition-humboldt.de/H0002729</td>\n",
       "      <td>#AVHR</td>\n",
       "      <td>http://d-nb.info/gnd/118554700</td>\n",
       "      <td>Alexander von Humboldt</td>\n",
       "      <td>http://d-nb.info/gnd/118805193</td>\n",
       "      <td>Samuel Thomas von Soemmerring</td>\n",
       "      <td>1795-06-07</td>\n",
       "      <td>http://sws.geonames.org/2951825</td>\n",
       "      <td>Bayreuth</td>\n",
       "      <td>Verehrungswerther Freund, Ich will Ihnen ein B...</td>\n",
       "      <td>[verehrungswerther, freund, ich, will, ihnen, ...</td>\n",
       "      <td>591</td>\n",
       "    </tr>\n",
       "  </tbody>\n",
       "</table>\n",
       "</div>"
      ],
      "text/plain": [
       "                              reference edition_id  \\\n",
       "0  https://edition-humboldt.de/H0002655      #AVHR   \n",
       "1  https://edition-humboldt.de/H0002730      #AVHR   \n",
       "2  https://edition-humboldt.de/H0002729      #AVHR   \n",
       "\n",
       "                        sender_id                  sender  \\\n",
       "0  http://d-nb.info/gnd/118554700  Alexander von Humboldt   \n",
       "1  http://d-nb.info/gnd/118554700  Alexander von Humboldt   \n",
       "2  http://d-nb.info/gnd/118554700  Alexander von Humboldt   \n",
       "\n",
       "                      receiver_id                       receiver       date  \\\n",
       "0  http://d-nb.info/gnd/118805193  Samuel Thomas von Soemmerring 1793-12-05   \n",
       "1  http://d-nb.info/gnd/118805193  Samuel Thomas von Soemmerring 1794-02-06   \n",
       "2  http://d-nb.info/gnd/118805193  Samuel Thomas von Soemmerring 1795-06-07   \n",
       "\n",
       "                          place_id     place  \\\n",
       "0  http://sws.geonames.org/6556797      Berg   \n",
       "1  http://sws.geonames.org/2951825  Bayreuth   \n",
       "2  http://sws.geonames.org/2951825  Bayreuth   \n",
       "\n",
       "                                                text  \\\n",
       "0  Berg , den 5 . Dez Dezember 1793 Ihr Brief, li...   \n",
       "1  Der Ueberbringer dieses Briefchens, lieber Soe...   \n",
       "2  Verehrungswerther Freund, Ich will Ihnen ein B...   \n",
       "\n",
       "                                               token  nr_token  \n",
       "0  [berg, den, 5, dez, dezember, 1793, ihr, brief...       252  \n",
       "1  [der, ueberbringer, dieses, briefchens, lieber...       143  \n",
       "2  [verehrungswerther, freund, ich, will, ihnen, ...       591  "
      ]
     },
     "execution_count": 8,
     "metadata": {},
     "output_type": "execute_result"
    }
   ],
   "source": [
    "df = pd.read_json('240301-AvH-letters-with-tokens.json')\n",
    "df.loc[:, 'date'] = pd.to_datetime(df.loc[:, 'date'], unit='ms')\n",
    "print(df.shape)\n",
    "df.head(3)"
   ]
  },
  {
   "attachments": {},
   "cell_type": "markdown",
   "metadata": {},
   "source": [
    "## Visualisierung verschiedener Diagramme\n",
    "\n",
    "### Balkendiagramm\n",
    "\n",
    "Zunächst möchten wir ein Balkendiagramm erstellen, das eine Übersicht über die zehn häufigsten Adressorten bietet. Dafür möchten wir die Größe der Grafik über den Parameter `figsize=` anpassen. Außerdem setzen wir einen Titel sowie Achsenbeschriftung und deren Schriftgröße fest. Und ganz wichtig: Wir bringen die Balken in eine absteigende Reihenfolge. \n",
    "\n",
    "Probieren Sie gerne verschiedene Werte bei den unterschiedlichen Parametern aus und schauen Sie, wie sich die Visualisierung verändert. \n",
    "\n",
    "Matplotlib bietet eine Fülle von Möglichkeiten, die Visualisierungen nach eigenen Wünschen und Bedarfen anzupassen. Ein Blick in die [Dokumentation](https://matplotlib.org/stable/api/index.html) hilft hier weiter und viele Anregungen zur Ausgestaltung von Visualisierungen erhält man über die Beispiel in der [Matpltolib-Galerie](https://matplotlib.org/stable/gallery/index.html)"
   ]
  },
  {
   "cell_type": "code",
   "execution_count": 17,
   "metadata": {},
   "outputs": [
    {
     "data": {
      "image/png": "[encoded data removed]",
      "text/plain": [
       "<Figure size 720x432 with 1 Axes>"
      ]
     },
     "metadata": {
      "needs_background": "light"
     },
     "output_type": "display_data"
    }
   ],
   "source": [
    "fig, ax = plt.subplots(figsize=(10,6))\n",
    "\n",
    "# Erstellen der zu plottenden Series \n",
    "df_top_places = df.loc[:, 'place'].value_counts()\n",
    "\n",
    "# Auswahl der 10 häufigsten Orstangabe, Definition als Balkendiagramm, Zuweisung der ax\n",
    "df_top_places.head(10).plot(kind='barh',\n",
    "                            ax=ax)\n",
    "\n",
    "# Formatierung der Überschrift des Diagramms\n",
    "ax.set_title(label='Top 10 Ortsangaben zu den versandten Briefen',\n",
    "             family='serif',\n",
    "             color='grey',\n",
    "             weight='semibold',\n",
    "             size=14\n",
    "             )\n",
    "\n",
    "# Formatierung und Beschriftung von x-Achse und y-Achse\n",
    "ax.set_xlabel('Häufigkeit',\n",
    "              size=12\n",
    "             )\n",
    "\n",
    "ax.set_ylabel('Ortsangabe',\n",
    "              size=12,\n",
    "             )\n",
    "\n",
    "# Beschriftung der Features vergrößern\n",
    "ax.set_yticklabels(ax.get_yticklabels(), \n",
    "                   size=14)\n",
    "\n",
    "# Reihenfolg der Balken invertieren\n",
    "ax.invert_yaxis()\n",
    "\n",
    "# Zeichnen nur der Gitterlinien der x-Achse\n",
    "ax.xaxis.grid(True)\n",
    "\n",
    "plt.show()"
   ]
  },
  {
   "cell_type": "markdown",
   "metadata": {},
   "source": [
    "Für die Spalten `sender` und `receiver` können wir äquivalent vorgehen - allerdings müssen wir natürlich die Beschriftungen entsprechend anpassen. \n",
    "\n",
    "**Aufgabe**: Erstellen Sie jeweils ein Diagramm zur Übersicht der häufigsten Absender und Empfänger der Briefe."
   ]
  },
  {
   "cell_type": "code",
   "execution_count": null,
   "metadata": {},
   "outputs": [],
   "source": [
    "# your code"
   ]
  },
  {
   "attachments": {},
   "cell_type": "markdown",
   "metadata": {},
   "source": [
    "### Histogramm\n",
    "\n",
    "Über ein Histogramm können wir eine Übersicht über die Verteilung der Brieflänge erhalten. Wir werden `axes`-Objekte nutzen, um unterschiedliche Histogramme mit verschiedenen Größe der *bins*, also der Anzahl der Abschnitte, in die die Werte eingeordnet werden sollen, zu plotten. Beim Erstellen der *subplots* geben wir daher mit `nrows=`, die Anzahl der Zeilen an, in denen jeweils ein Histogramm zu sehen sein wird. Zusätzlich geben wir auch an, dass alle Unterdiagramme die gleichen x- bzw. y-Skalen nutzen. Bei den einzelnen 'plot'-Befehlen nutzen wir den Paramter `ax` und die Indexierung, um die einzelnen Diagramme in eine der Zeilen zu platzieren."
   ]
  },
  {
   "cell_type": "code",
   "execution_count": 42,
   "metadata": {},
   "outputs": [
    {
     "data": {
      "image/png": "[encoded data removed]",
      "text/plain": [
       "<Figure size 864x576 with 3 Axes>"
      ]
     },
     "metadata": {
      "needs_background": "light"
     },
     "output_type": "display_data"
    }
   ],
   "source": [
    "fig, ax = plt.subplots(nrows=3, \n",
    "                       figsize=(12,8), \n",
    "                       sharex=True,\n",
    "                       sharey=True)\n",
    "\n",
    "df.loc[:, 'nr_token' ].plot(kind='hist', \n",
    "                            bins=30, \n",
    "                            title='bins=30',\n",
    "                            ax=ax[0])\n",
    "\n",
    "df.loc[:, 'nr_token' ].plot(kind='hist', \n",
    "                            bins=50, \n",
    "                            title='bins=50',\n",
    "                            ax=ax[1],\n",
    "                            color='green')\n",
    "\n",
    "df.loc[:, 'nr_token' ].plot(kind='hist', \n",
    "                            bins=80, \n",
    "                            title='bins=80',\n",
    "                            ax=ax[2],\n",
    "                            color='orange')\n",
    "\n",
    "# einzelne ylabel für die Unterdiagramme ausschalten\n",
    "for x in range(3):\n",
    "    ax[x].set_ylabel(ylabel='')\n",
    "\n",
    "# Beschriftungen des Gesamtdiagramms\n",
    "fig.suptitle('Verteilung der Brieflängen',\n",
    "             size=16)\n",
    "\n",
    "fig.supylabel('Häufigkeit',\n",
    "           size=14)\n",
    "\n",
    "fig.supxlabel('Anzahl',\n",
    "           size=14)\n",
    "\n",
    "fig.tight_layout()\n",
    "\n",
    "plt.show;"
   ]
  },
  {
   "attachments": {},
   "cell_type": "markdown",
   "metadata": {},
   "source": [
    "## Durchschnittliche Brieflänge nach Jahren\n",
    "\n",
    "Wenn wir unsere vorliegenden Daten nach Jahren aufbereiten wollen, haben wir ein Problem, das wir schon bemerkt haben: Nicht für jedes Jahr sind Briefe, also auch Daten, vorhanden. Wenn wir unsere gruppierten Dataframes visualisieren lassen, dann werden nur die Daten zu den darin enthaltenen Jahren gemacht. Wir benötigen also ein Weg, um auch die Jahre mit in unsere Visualisierung aufzunehmen, die nicht im Dataframe enthalten sind. \n",
    "\n",
    "Dazu erstellen wir zunächst aus einem Dictionary einen Dataframe. Das Dictionary hat nur den key `year` und somit hat der Dataframe nur die Spalte `year`. Die Werte dieser Spalte sind die Jahre zwischen 1796 und 1860, die wir als values des Dictionaries mit der `range()`-Funktion übergeben.\n",
    "\n",
    "Als nächstes gruppieren wir mit Hilfe der Datumspalte nach Jahren und nutzen mit der Methode `agg()`  zwei Spalten, die wir aggregieren wollen: Zum einen die Spalte `nr_token` bei der wir den Durschschnitt bilden und zum anderen nutzen wir die Spalte `sender`, um mit `size` die Anzahl der Brief pro Jahr zu bestimmen. Danach ergänzen wir bei diesem Dataframe noch die Spalte `year`, die wir aus dem Index des Dataframes, der durch die Gruppierung nach Jahren eine Time-Index enthält. Dann geben wir die Dimensionalität und die ersten Zeilen dieses Dataframes aus."
   ]
  },
  {
   "cell_type": "code",
   "execution_count": 76,
   "metadata": {},
   "outputs": [],
   "source": [
    "all_years = pd.DataFrame({'year': range(1796, 1860)})"
   ]
  },
  {
   "cell_type": "code",
   "execution_count": 102,
   "metadata": {},
   "outputs": [],
   "source": [
    "df_grouped = df.groupby(df.loc[:, 'date'].dt.to_period('Y')).agg({'nr_token': 'mean',\n",
    "                                                                  'sender': 'size'})"
   ]
  },
  {
   "cell_type": "code",
   "execution_count": 117,
   "metadata": {},
   "outputs": [
    {
     "name": "stdout",
     "output_type": "stream",
     "text": [
      "(47, 3)\n"
     ]
    },
    {
     "data": {
      "text/html": [
       "<div>\n",
       "<style scoped>\n",
       "    .dataframe tbody tr th:only-of-type {\n",
       "        vertical-align: middle;\n",
       "    }\n",
       "\n",
       "    .dataframe tbody tr th {\n",
       "        vertical-align: top;\n",
       "    }\n",
       "\n",
       "    .dataframe thead th {\n",
       "        text-align: right;\n",
       "    }\n",
       "</style>\n",
       "<table border=\"1\" class=\"dataframe\">\n",
       "  <thead>\n",
       "    <tr style=\"text-align: right;\">\n",
       "      <th></th>\n",
       "      <th>nr_token</th>\n",
       "      <th>sender</th>\n",
       "      <th>year</th>\n",
       "    </tr>\n",
       "    <tr>\n",
       "      <th>date</th>\n",
       "      <th></th>\n",
       "      <th></th>\n",
       "      <th></th>\n",
       "    </tr>\n",
       "  </thead>\n",
       "  <tbody>\n",
       "    <tr>\n",
       "      <th>1793</th>\n",
       "      <td>252.000000</td>\n",
       "      <td>1</td>\n",
       "      <td>1793</td>\n",
       "    </tr>\n",
       "    <tr>\n",
       "      <th>1794</th>\n",
       "      <td>143.000000</td>\n",
       "      <td>1</td>\n",
       "      <td>1794</td>\n",
       "    </tr>\n",
       "    <tr>\n",
       "      <th>1795</th>\n",
       "      <td>544.333333</td>\n",
       "      <td>3</td>\n",
       "      <td>1795</td>\n",
       "    </tr>\n",
       "    <tr>\n",
       "      <th>1796</th>\n",
       "      <td>844.800000</td>\n",
       "      <td>5</td>\n",
       "      <td>1796</td>\n",
       "    </tr>\n",
       "    <tr>\n",
       "      <th>1801</th>\n",
       "      <td>2314.000000</td>\n",
       "      <td>2</td>\n",
       "      <td>1801</td>\n",
       "    </tr>\n",
       "  </tbody>\n",
       "</table>\n",
       "</div>"
      ],
      "text/plain": [
       "         nr_token  sender  year\n",
       "date                           \n",
       "1793   252.000000       1  1793\n",
       "1794   143.000000       1  1794\n",
       "1795   544.333333       3  1795\n",
       "1796   844.800000       5  1796\n",
       "1801  2314.000000       2  1801"
      ]
     },
     "execution_count": 117,
     "metadata": {},
     "output_type": "execute_result"
    }
   ],
   "source": [
    "df_grouped.loc[:, 'year'] = df_grouped.index.year\n",
    "\n",
    "print(df_grouped.shape)\n",
    "df_grouped.head()"
   ]
  },
  {
   "cell_type": "markdown",
   "metadata": {},
   "source": [
    "Jetzt *mergen* wir die zwei Dataframes, um tatsächlich die Werte aller Jahre in der Visualisierung anzeigen zu können. Über den Parameter `on='year'` mergen wir über die in beiden Dataframes enthaltenen Spalte `year` den Dataframe mit allen Jahreszahlen mit den ausgewählten Spalten des Dataframes der die Grupperung nach Jahren enthält. Die leeren Werten füllen wir mit `fillna` mit dem Wert '0' auf. Anschließend zeigen wir den Dataframe an, der nun alle 64 Jahre zwischen 1796 und 1860 sowie die drei Spalten `year`, `nr_token` und `sender` enthält."
   ]
  },
  {
   "cell_type": "code",
   "execution_count": 133,
   "metadata": {},
   "outputs": [],
   "source": [
    "df_all_years = pd.merge(all_years, \n",
    "                        df_grouped.loc[:, ['year', 'nr_token', 'sender']], \n",
    "                        on='year', \n",
    "                        how='left').fillna(0)"
   ]
  },
  {
   "cell_type": "code",
   "execution_count": 134,
   "metadata": {},
   "outputs": [
    {
     "name": "stdout",
     "output_type": "stream",
     "text": [
      "(64, 3)\n"
     ]
    },
    {
     "data": {
      "text/html": [
       "<div>\n",
       "<style scoped>\n",
       "    .dataframe tbody tr th:only-of-type {\n",
       "        vertical-align: middle;\n",
       "    }\n",
       "\n",
       "    .dataframe tbody tr th {\n",
       "        vertical-align: top;\n",
       "    }\n",
       "\n",
       "    .dataframe thead th {\n",
       "        text-align: right;\n",
       "    }\n",
       "</style>\n",
       "<table border=\"1\" class=\"dataframe\">\n",
       "  <thead>\n",
       "    <tr style=\"text-align: right;\">\n",
       "      <th></th>\n",
       "      <th>year</th>\n",
       "      <th>nr_token</th>\n",
       "      <th>sender</th>\n",
       "    </tr>\n",
       "  </thead>\n",
       "  <tbody>\n",
       "    <tr>\n",
       "      <th>0</th>\n",
       "      <td>1796</td>\n",
       "      <td>844.8</td>\n",
       "      <td>5.0</td>\n",
       "    </tr>\n",
       "    <tr>\n",
       "      <th>1</th>\n",
       "      <td>1797</td>\n",
       "      <td>0.0</td>\n",
       "      <td>0.0</td>\n",
       "    </tr>\n",
       "    <tr>\n",
       "      <th>2</th>\n",
       "      <td>1798</td>\n",
       "      <td>0.0</td>\n",
       "      <td>0.0</td>\n",
       "    </tr>\n",
       "    <tr>\n",
       "      <th>3</th>\n",
       "      <td>1799</td>\n",
       "      <td>0.0</td>\n",
       "      <td>0.0</td>\n",
       "    </tr>\n",
       "    <tr>\n",
       "      <th>4</th>\n",
       "      <td>1800</td>\n",
       "      <td>0.0</td>\n",
       "      <td>0.0</td>\n",
       "    </tr>\n",
       "  </tbody>\n",
       "</table>\n",
       "</div>"
      ],
      "text/plain": [
       "   year  nr_token  sender\n",
       "0  1796     844.8     5.0\n",
       "1  1797       0.0     0.0\n",
       "2  1798       0.0     0.0\n",
       "3  1799       0.0     0.0\n",
       "4  1800       0.0     0.0"
      ]
     },
     "execution_count": 134,
     "metadata": {},
     "output_type": "execute_result"
    }
   ],
   "source": [
    "print(df_all_years.shape)\n",
    "df_all_years.head()"
   ]
  },
  {
   "cell_type": "markdown",
   "metadata": {},
   "source": [
    "Nun können wir die Daten nach Jahren - und zwar nach allen Jahren - plotten. Wir nutzen wieder eine *figure*, setzen aber zwei *axes* darauf. Eine Zeile zeigt die durchschnittliche Länge der Briefe an, das andere Balkendiagramm zeigt die Anzahl der Brief pro Jahr. Auf diese Weise können wir direkt den Bezug zwischen durchschnittlicher Brieflänge und Anzahl pro Brief herstellen. Was fällt Ihnen z.B. für das Jahr 1848 auf. Die Einstellungen zu den jeweiligen Beschriftungen des Diagramm sollte aus dem nachfolgenden Codeblock hervorgehen."
   ]
  },
  {
   "cell_type": "code",
   "execution_count": 130,
   "metadata": {},
   "outputs": [
    {
     "data": {
      "image/png": "[encoded data removed]",
      "text/plain": [
       "<Figure size 1152x432 with 2 Axes>"
      ]
     },
     "metadata": {
      "needs_background": "light"
     },
     "output_type": "display_data"
    }
   ],
   "source": [
    "fig, ax = plt.subplots(nrows=2, \n",
    "                       figsize=(16, 6),\n",
    "                       sharex=True)\n",
    "\n",
    "# Balkendiagramme plotten\n",
    "ax[0].bar(df_all_years.loc[:,'year'], df_all_years.loc[:, 'nr_token'])\n",
    "ax[1].bar(df_all_years.loc[:,'year'], df_all_years.loc[:, 'sender'], color='green')\n",
    "\n",
    "# Gitternetzlinien einblenden\n",
    "ax[0].yaxis.grid(True)\n",
    "ax[1].yaxis.grid(True)\n",
    "\n",
    "# Titel der einzelnen Diagramme\n",
    "ax[0].set_title('Durchschnittliche Länge der Briefe nach Jahren',\n",
    "                size=14)\n",
    "ax[1].set_title('Anzahl der Briefe nach Jahren',\n",
    "                size=14)\n",
    "\n",
    "# Beschriftung der y-Achse der einzelnen Diagrmme\n",
    "ax[0].set_ylabel('Anzahl Wörter', \n",
    "                 size=12)\n",
    "ax[1].set_ylabel('Anzahl Briefe', \n",
    "                 size=12)\n",
    "\n",
    "# Beschriftungen des Gesamtdiagramms\n",
    "fig.suptitle('Durchschnittliche Länge und Anzahl der Briefe nach Jahren zwischen 1796 und 1859',\n",
    "             size=16,\n",
    "             weight='bold')\n",
    "\n",
    "fig.supxlabel('Jahr',\n",
    "           size=14)\n",
    "\n",
    "fig.tight_layout()\n",
    "\n",
    "plt.show;"
   ]
  },
  {
   "cell_type": "code",
   "execution_count": null,
   "metadata": {},
   "outputs": [],
   "source": []
  }
 ],
 "metadata": {
  "kernelspec": {
   "display_name": "base",
   "language": "python",
   "name": "python3"
  },
  "language_info": {
   "codemirror_mode": {
    "name": "ipython",
    "version": 3
   },
   "file_extension": ".py",
   "mimetype": "text/x-python",
   "name": "python",
   "nbconvert_exporter": "python",
   "pygments_lexer": "ipython3",
   "version": "3.9.7"
  },
  "orig_nbformat": 4
 },
 "nbformat": 4,
 "nbformat_minor": 2
}
