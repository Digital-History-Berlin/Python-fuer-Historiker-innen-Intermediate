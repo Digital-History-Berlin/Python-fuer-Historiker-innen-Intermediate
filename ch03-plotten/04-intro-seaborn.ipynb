{
 "cells": [
  {
   "cell_type": "markdown",
   "metadata": {},
   "source": [
    "# Einstieg Visualisierungen mit seaborn\n",
    "\n",
    "Neben Matplotlib ist seaborn eine häufig verwendete Python-Bibliothek zum Plotten und zur Visualisierung von Daten. [Seaborn](https://seaborn.pydata.org/) baut in gewisser Weise auf der Bibliothek matplotlib auf und arbeitet gut mit ihr zusammen - aber auch die Integration von pandas-Datenstrukturen ist gegeben. Hier finden Sie eine [Übersicht](https://seaborn.pydata.org/examples/index.html) zu möglichen Visualisierungsoptionen. Und selbstverständlich gibt es ein ausführliches [Tutorial](https://seaborn.pydata.org/tutorial.html). Seaborn hat eine kürzere und einfachere Syntax und bietet schon gute out-of-the-box-Formatierungen der Diagramme. Das wollen wir uns im Folgenden ansehen. Zuerst schauen wir uns die Syntax wieder an einem einfachen Liniendiagramm an.\n",
    "\n",
    ":::{index} single: Bibliothek ; seaborn\n",
    ":name: seaborn_\n",
    ":::\n",
    "\n",
    "## Import"
   ]
  },
  {
   "cell_type": "code",
   "execution_count": null,
   "metadata": {},
   "outputs": [],
   "source": [
    "import matplotlib.pyplot as plt\n",
    "import seaborn as sns\n",
    "import pandas as pd\n",
    "\n",
    "%matplotlib inline"
   ]
  },
  {
   "cell_type": "code",
   "execution_count": null,
   "metadata": {},
   "outputs": [],
   "source": [
    "x = [ 1, 2, 3, 4, 5, 6, 7, 8 ]\n",
    "y = [ 0, 2, 4, 6, 0, 2, 4, 6 ]\n",
    "\n",
    "sns.lineplot(x=x, y=y);"
   ]
  },
  {
   "cell_type": "markdown",
   "metadata": {},
   "source": [
    "## Einlesen der Daten\n",
    "\n",
    "Nur eine Zeile Code - und wir haben direkt ein einfaches Liniendiagramm. Aber schauen wir uns nun einmal an, wie wir seaborn auf unseren Daten anwenden können."
   ]
  },
  {
   "cell_type": "code",
   "execution_count": null,
   "metadata": {},
   "outputs": [],
   "source": [
    "df = pd.read_json('../data/AvH-letters-with-tokens.json')\n",
    "df.loc[:, 'date'] = pd.to_datetime(df.loc[:, 'date'], unit='ms')\n",
    "print(df.shape)\n",
    "df.head(3)"
   ]
  },
  {
   "cell_type": "markdown",
   "metadata": {},
   "source": [
    "### Balkendiagramm\n",
    "\n",
    "Die Methode `sns.barplot()` verlangt x- und y-Werte. Die Top 10-Werte übergeben wir aus der Series, in der wir die Werte gezählt haben, mit `.index` und `.values`. Wenn wir mit `ax=ax` die *axes* zugewiesen haben, dann können wir wie bei matplotlib die Formatierungen weiter anpassen."
   ]
  },
  {
   "cell_type": "code",
   "execution_count": null,
   "metadata": {},
   "outputs": [],
   "source": [
    "fig, ax = plt.subplots(figsize=(10,4))\n",
    "\n",
    "# Erstellen der zu plottenden Series \n",
    "df_top_places = df.loc[:, 'place'].value_counts().head(10)\n",
    "\n",
    "# Plotten mit seaborn\n",
    "sns.barplot(x=df_top_places.index, y=df_top_places.values, ax=ax)\n",
    "\n",
    "# Formatierung der Überschrift des Diagramms\n",
    "ax.set_title('TOP 10 Erscheinungsorte',\n",
    "             size=18)\n",
    "\n",
    "# Formatierung und Beschriftung von x-Achse und y-Achse\n",
    "ax.set_ylabel('Häufigkeit',\n",
    "              size=12\n",
    "             )\n",
    "\n",
    "ax.set_xlabel('Ortsangabe',\n",
    "              size=12,\n",
    "             )\n",
    "\n",
    "ax.set_xticklabels(df_top_places.index, rotation=45, ha='center', size=14)\n",
    "\n",
    "plt.show()"
   ]
  },
  {
   "cell_type": "markdown",
   "metadata": {},
   "source": [
    "Natürlich gibt es mal wieder mehrere Möglichkeiten, mit denen sich mit Hilfe von seaborn Daten visualisieren lassen. Hier zählen wir zunächst wiederum die Werte in der Spalte `place` und erstellen dann aus der erhaltenen Series mit `to_frame()` einen Dataframe. Diesmal weisen wir in der `sns.barplot()`-Methode unter dem Argument `data` die ersten zehn Zeilen dieses Dataframes als zu plottende Daten zu. Dann bestimmen wir wieder die x- und y-Werte. Mit `orient='h'` können wir die horizontalen Balken erstellen."
   ]
  },
  {
   "cell_type": "code",
   "execution_count": null,
   "metadata": {},
   "outputs": [],
   "source": [
    "fig, ax = plt.subplots(figsize=(12,6))\n",
    "\n",
    "df_top_places = df.loc[:, 'place'].value_counts()\n",
    "df_top_places = df_top_places.to_frame()\n",
    "\n",
    "sns.barplot(data=df_top_places[:10], \n",
    "            x='place',\n",
    "            y=df_top_places.index[:10], \n",
    "            ax=ax,\n",
    "            orient='h')\n",
    "\n",
    "ax.set_title('TOP 10 Erscheinungsorte',\n",
    "             size=18)\n",
    "\n",
    "ax.set_xlabel('Häufigkeit', \n",
    "              size=12)\n",
    "\n",
    "ax.set_ylabel('Ortsangabe',\n",
    "              size=12\n",
    "             )\n",
    "\n",
    "ax.set_yticklabels(labels=df_top_places.index[:10],\n",
    "                   size=16);"
   ]
  },
  {
   "cell_type": "markdown",
   "metadata": {},
   "source": [
    "### Visualisierung der Verteilung\n",
    "\n",
    "Seaborn stellt mehrere Möglichkeiten zur Verfügung, um mit nur einer Zeile Verteilungen zu visualisieren. Hier zeigen wir in einer Grafik die drei gängigsten Varianten: `histplot()`, `violinplot()` und `boxplot()`. Dazu übergeben wir jeweils unseren Dataframe und weisen die Spalte `nr_token` dem Argument für die x-Werte zu. Beim Histogramm müssen wir die Anzahl der *bins* festlegen, bei den anderen weisen wir mit der Indexierung auf `ax[i]` die Zeile im Gesamtdiagramm zu. Schließlich legen wir noch die Farben fest. "
   ]
  },
  {
   "cell_type": "code",
   "execution_count": null,
   "metadata": {},
   "outputs": [],
   "source": [
    "fig, ax = plt.subplots(nrows=3, \n",
    "                       figsize=(12,8), \n",
    "                       sharex=True)\n",
    "\n",
    "sns.histplot(data=df, x='nr_token', ax=ax[0], bins=50)\n",
    "sns.violinplot(data=df, x='nr_token', ax=ax[1], color='green')\n",
    "sns.boxplot(data=df, x='nr_token', ax=ax[2], color='orange')\n",
    "\n",
    "\n",
    "ax[0].set_title('Histogramm')\n",
    "ax[1].set_title('Violinplot')\n",
    "ax[2].set_title('Boxplot')\n",
    "\n",
    "# einzelne xlabel für die Unterdiagramme ausschalten\n",
    "for x in range(3):\n",
    "    ax[x].set_xlabel(xlabel='')\n",
    "\n",
    "# Beschriftungen des Gesamtdiagramms\n",
    "fig.suptitle('Verteilung der Brieflängen',\n",
    "             size=16)\n",
    "\n",
    "fig.supylabel('Häufigkeit',\n",
    "           size=14)\n",
    "\n",
    "fig.supxlabel('Anzahl der Wörter',\n",
    "           size=14)\n",
    "\n",
    "fig.tight_layout();"
   ]
  },
  {
   "cell_type": "markdown",
   "metadata": {},
   "source": [
    "Boxplots sind grafische Darstellungen der Datenverteilung, die fünf wesentliche Kennzahlen hervorheben: das Minimum, das erste Quartil (Q1), den Median, das dritte Quartil (Q3) und das Maximum. Die 'Box' im Boxplot repräsentiert den Interquartilbereich (IQR), der sich zwischen dem ersten und dritten Quartil erstreckt und den mittleren 50% der Daten entspricht. Der 'Whisker' (Schnurrbart) erstreckt sich von der Box bis zum höchsten bzw. niedrigsten Wert, der innerhalb eines bestimmten Bereichs liegt, üblicherweise 1,5 * IQR über dem dritten Quartil und unter dem ersten Quartil. Datenpunkte, die außerhalb der Whiskers liegen, werden als Ausreißer betrachtet und oft durch Punkte oder Sterne dargestellt. Boxplots bieten eine effiziente Möglichkeit, die Verteilung von Daten zu visualisieren, zentrale Tendenzen, die Streuung und potenzielle Ausreißer in einem Datensatz schnell zu identifizieren.\n",
    "\n",
    "Violinplots nutzen ähnliche Elemente wie Boxplots, um die Verteilung von Datenpunkten detailliert darzustellen. Ähnlich wie Boxplots markieren sie den Median und oft auch die Quartile der Daten, aber zusätzlich visualisieren sie die Dichteverteilung der Daten entlang der Achse, was zu ihrer violinenähnlichen Form führt. Diese Form ermöglicht es, sowohl die Verteilungsbreite als auch die Spitzen in den Daten auf einen Blick zu erfassen, wobei breitere Abschnitte des 'Violinkörpers' eine höhere Dichte von Datenpunkten anzeigen. Violinplots sind besonders nützlich, um mehrere Datensätze oder Gruppen zu vergleichen, da sie nicht nur Unterschiede in den zentralen Tendenzen, sondern auch in den Verteilungsformen hervorheben. Sie bieten eine tiefere Einsicht in die Datenstruktur als Boxplots, indem sie sowohl die Verteilung der Daten als auch potenzielle Ausreißer innerhalb des gleichen Diagramms visualisieren."
   ]
  }
 ],
 "metadata": {
  "kernelspec": {
   "display_name": "base_2_expand",
   "language": "python",
   "name": "python3"
  },
  "language_info": {
   "codemirror_mode": {
    "name": "ipython",
    "version": 3
   },
   "file_extension": ".py",
   "mimetype": "text/x-python",
   "name": "python",
   "nbconvert_exporter": "python",
   "pygments_lexer": "ipython3",
   "version": "3.9.7"
  }
 },
 "nbformat": 4,
 "nbformat_minor": 2
}
