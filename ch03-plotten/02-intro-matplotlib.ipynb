{
 "cells": [
  {
   "attachments": {},
   "cell_type": "markdown",
   "metadata": {},
   "source": [
    "(intro-dataviz)=\n",
    "# Einstieg Visualisierungen mit Matplotlib\n",
    "\n",
    ":::{index} Datenvisualisierung\n",
    ":name: datenvisualisierung\n",
    ":::"
   ]
  },
  {
   "attachments": {},
   "cell_type": "markdown",
   "metadata": {},
   "source": [
    "## Import\n",
    "\n",
    "Zunächst importieren wir die benötigten Python-Bibliotheken. Neben pandas nutzen wir nun auch Matplotlib. \n",
    "\n",
    "Wichtig! Damit die Diagramme in Jupyter Notebooks angezeigt werden, muss der Magic-Commant `%matplotlib inline ausgeführt` werden.\n",
    "\n",
    ":::{index} single: Bibliothek ; matplotlib\n",
    ":name: matplotlib_\n",
    ":::\n",
    "\n",
    "::::{margin}\n",
    ":::{admonition} Hinweis\n",
    ":class: note\n",
    "Wichtig! Damit die Diagramme in Jupyter Notebooks angezeigt werden, muss der Magic-Command `%matplotlib inline ausgeführt` werden.\n",
    ":::\n",
    "::::"
   ]
  },
  {
   "cell_type": "code",
   "execution_count": null,
   "metadata": {},
   "outputs": [],
   "source": [
    "import matplotlib.pyplot as plt\n",
    "import pandas as pd\n",
    "\n",
    "%matplotlib inline"
   ]
  },
  {
   "attachments": {},
   "cell_type": "markdown",
   "metadata": {},
   "source": [
    "## Einfaches Liniendiagramm\n",
    "\n",
    ":::{index} Liniendiagramm\n",
    ":name: liniendiagramm_\n",
    ":::\n",
    "\n",
    "Nutzer:innen können mit Matplotlib zwei leicht unterschiedliche Wege wählen, um die verschiedene Diagrammtypen zu plotten. Wir werden hier kurz beide Varianten vorstellen, werden aber im Weiteren die zuerst dargestellte Option durchgängig nutzen, da diese aus unserer Sicht mehr Flexibilität bietet. Wir nutzen `fig, ax`, um zunächst eine *figure* anzulegen, auf der dann unterschiedliche Bereiche *axes* als *subplots* angelegt werden können. Die zweite Variante nutzt mit `plt` zusammen mit der entsprechenden Methoden einen etwas einfacheren, direkteren Weg - bietet aber nicht alle Möglichkeiten, um z.B. mehrere Plots in einer Grafik zu platzieren.\n",
    "\n",
    ":::{index} figure\n",
    ":name: figure_\n",
    ":::\n",
    "\n",
    ":::{index} ax\n",
    ":name: ax_\n",
    ":::\n",
    "\n",
    ":::{index} subplots\n",
    ":name: subplots_\n",
    ":::\n",
    "\n",
    "\n",
    "Grundsätzlich brauchen wir immer Werte für die x-Achse und die gleiche Anzahl an Werten für die y-Achse. Diese Werte werden in Form von Listen der `plot()` Methode übergeben. In unserem Beispiel und der Variante, die wir weiter nutzen wollen, nutzen wir dies auf dem `ax`-Objekt. Davor haben wir aber die *figure* und eine *axes* mit `plt.subplots()` angelegt. Mit der letzten Zeile lassen wir die Grafik anzeigen. "
   ]
  },
  {
   "cell_type": "code",
   "execution_count": null,
   "metadata": {},
   "outputs": [],
   "source": [
    "x = [ 1, 2, 3, 4, 5, 6, 7, 8 ]\n",
    "y = [ 0, 2, 4, 6, 0, 2, 4, 6 ]\n",
    "\n",
    "fig, ax = plt.subplots()\n",
    "ax.plot(x, y)\n",
    "plt.show()"
   ]
  },
  {
   "cell_type": "markdown",
   "metadata": {},
   "source": [
    "Hier nun die gleiche Grafik mit der anderen 'Schreibvariante', auf die Sie sicherlich auf treffen werden."
   ]
  },
  {
   "cell_type": "code",
   "execution_count": null,
   "metadata": {},
   "outputs": [],
   "source": [
    "plt.figure()\n",
    "plt.plot(x, y)\n",
    "plt.show()"
   ]
  },
  {
   "cell_type": "markdown",
   "metadata": {},
   "source": [
    "## Balkendiagramm und Tortendiagramm\n",
    "\n",
    ":::{index} Tortendiagramm\n",
    ":name: tortendiagramm_\n",
    ":::\n",
    "\n",
    "Wir nutzen die Daten der Wahlergebnisse der Wahlen zum Ersten Deutschen Bundestag von 1949, um ein typisches Balkendiagramm und ein Tortendiagramm zu visualisieren. Wir werden die Grafik direkt mit Beschriftungen versehen. Zunächst wiederholen wir aber ein wenig die Funktionalitäten von pandas, indem wir die Daten in einen Dataframe bringen.\n",
    "\n",
    "Datenquelle: https://www.bundeswahlleiterin.de/bundestagswahlen/1949.html\n",
    "\n",
    ":::{index} single: pandas ; DataFrame()\n",
    ":name: dataframe_\n",
    ":::"
   ]
  },
  {
   "cell_type": "code",
   "execution_count": null,
   "metadata": {},
   "outputs": [],
   "source": [
    "# Erzeugung von Beispieldaten: Wahl zum 1. Deutschen Bundestag am 14. August 1949\n",
    "\n",
    "votes_dict = {'Parteien':['SPD', 'CDU', 'FDP', 'CSU', \n",
    "                        'KPD', 'Parteilose', 'BP', 'DP', \n",
    "                        'Zentrum', 'Sonstige'],\n",
    "                'Stimmen':[6934975, 5978636, 2829920, 1380448,\n",
    "                           1361706, 1141647, 986478, 939934, \n",
    "                           727505, 1451149],\n",
    "                'Prozent': [29.2, 25.2, 11.9, 5.8, 5.7, \n",
    "                            4.8, 4.2, 4.0, 3.1, 6.1],\n",
    "                'color': ['red', 'black', 'yellow', 'darkblue', \n",
    "                          'darkred', 'orange', 'blue', 'grey',\n",
    "                          'darkgrey', 'darkorange']\n",
    "             }\n",
    "\n",
    "df_vote = pd.DataFrame(votes_dict,                                   # Übergabe der Daten\n",
    "                          columns=['Stimmen', 'Prozent', 'color'],   # Spezifikation der Spalten\n",
    "                          index=votes_dict['Parteien'])              # Spezifikation des Index\n",
    "df_vote"
   ]
  },
  {
   "cell_type": "markdown",
   "metadata": {},
   "source": [
    "Nun erstellen wir aus den Daten ein Balkendiagramm - allerdings noch ohne Beschriftung."
   ]
  },
  {
   "cell_type": "code",
   "execution_count": null,
   "metadata": {},
   "outputs": [],
   "source": [
    "fig, ax = plt.subplots(figsize=(12,6))\n",
    "\n",
    "df_vote.loc[:, 'Prozent'].plot(kind='bar', \n",
    "                               color=df_vote.loc[:, 'color'],\n",
    "                               ax=ax);"
   ]
  },
  {
   "cell_type": "markdown",
   "metadata": {},
   "source": [
    "Mit einer kleinen Änderung im Code können wir ein Tortendiagramm erzeugen."
   ]
  },
  {
   "cell_type": "code",
   "execution_count": null,
   "metadata": {},
   "outputs": [],
   "source": [
    "fig, ax = plt.subplots(figsize=(12,6))\n",
    "\n",
    "df_vote.loc[:, 'Prozent'].plot(kind='pie',\n",
    "                               ax=ax);"
   ]
  },
  {
   "cell_type": "markdown",
   "metadata": {},
   "source": [
    "Schließlich ergänzen wir Beschriftung und Formatierungen bei dem Balkendiagramm. Matplotlib bietet eine Fülle von Möglichkeiten, die Visualisierungen nach eigenen Wünschen und Bedarfen anzupassen. Ein Blick in die [Dokumentation](https://matplotlib.org/stable/api/index.html) hilft hier weiter und viele Anregungen zur Ausgestaltung von Visualisierungen erhält man über die Beispiele in der [Matpltolib-Galerie](https://matplotlib.org/stable/gallery/index.html)"
   ]
  },
  {
   "cell_type": "code",
   "execution_count": null,
   "metadata": {},
   "outputs": [],
   "source": [
    "fig, ax = plt.subplots(figsize=(12,6))\n",
    "\n",
    "df_vote.loc[:, 'Prozent'].plot(kind='bar', \n",
    "                               color=df_vote.loc[:, 'color'],\n",
    "                               ax=ax)\n",
    "\n",
    "# Formatierung der Überschrift des Diagramms\n",
    "ax.set_title(label='Wahl zum 1. Deutschen Bundestag am 14. August 1949',\n",
    "             family='serif',\n",
    "             color='grey',\n",
    "             weight='semibold',\n",
    "             size=16\n",
    "             )\n",
    "\n",
    "# Formatierung und Beschriftung von x-Achse und y-Achse\n",
    "ax.set_xlabel('Partei',\n",
    "              weight='bold',\n",
    "              size=14\n",
    "             )\n",
    "\n",
    "ax.set_ylabel('Prozent',\n",
    "              size=14,\n",
    "              weight='bold',\n",
    "             )\n",
    "\n",
    "# Beschriftung der Labelnamen vergrößern und rotieren\n",
    "ax.set_xticklabels(df_vote.index, \n",
    "                   size=14,\n",
    "                   rotation=45)\n",
    "\n",
    "# Zeichnen nur der Gitterlinien der y-Achse\n",
    "ax.yaxis.grid(True)\n",
    "\n",
    "plt.show()"
   ]
  }
 ],
 "metadata": {
  "kernelspec": {
   "display_name": "base",
   "language": "python",
   "name": "python3"
  },
  "language_info": {
   "codemirror_mode": {
    "name": "ipython",
    "version": 3
   },
   "file_extension": ".py",
   "mimetype": "text/x-python",
   "name": "python",
   "nbconvert_exporter": "python",
   "pygments_lexer": "ipython3",
   "version": "3.9.7"
  },
  "orig_nbformat": 4
 },
 "nbformat": 4,
 "nbformat_minor": 2
}
