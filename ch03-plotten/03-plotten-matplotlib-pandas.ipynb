{
 "cells": [
  {
   "cell_type": "markdown",
   "metadata": {},
   "source": [
    "# Datenvisualisierung mit Matplotlib und pandas"
   ]
  },
  {
   "attachments": {},
   "cell_type": "markdown",
   "metadata": {},
   "source": [
    "## Import\n",
    "\n",
    "Zunächst importieren wir die benötigten Python-Bibliotheken. Neben pandas nutzen wir nun auch Matplotlib. \n",
    "\n",
    "::::{margin}\n",
    ":::{admonition} Hinweis\n",
    ":class: note\n",
    "Wichtig! Damit die Diagramme in Jupyter Notebooks angezeigt werden, muss der Magic-Command `%matplotlib inline ausgeführt` werden.\n",
    ":::\n",
    "::::"
   ]
  },
  {
   "cell_type": "code",
   "execution_count": null,
   "metadata": {},
   "outputs": [],
   "source": [
    "import matplotlib.pyplot as plt\n",
    "import pandas as pd\n",
    "\n",
    "%matplotlib inline"
   ]
  },
  {
   "attachments": {},
   "cell_type": "markdown",
   "metadata": {},
   "source": [
    "## Einlesen der Daten"
   ]
  },
  {
   "cell_type": "markdown",
   "metadata": {},
   "source": [
    "Im letzten [Kapitel](fast-viz-pandas) haben wir bereits schnelle Visualisierungen nur mit pandas erstellt. Nun wollen wir diese Datenvisualisierungen mit Hilfe von Matplotlib etwas solider, besser lesbar und ansprechender gestalten. Dazu lesen wir unsere bekannte Datengrundlage wieder ein."
   ]
  },
  {
   "cell_type": "code",
   "execution_count": null,
   "metadata": {},
   "outputs": [],
   "source": [
    "df = pd.read_json('../data/AvH-letters-with-tokens.json')\n",
    "df.loc[:, 'date'] = pd.to_datetime(df.loc[:, 'date'], unit='ms')\n",
    "print(df.shape)\n",
    "df.head(3)"
   ]
  },
  {
   "attachments": {},
   "cell_type": "markdown",
   "metadata": {},
   "source": [
    "## Visualisierung verschiedener Diagramme\n",
    "\n",
    "### Balkendiagramm\n",
    "\n",
    "Zunächst möchten wir ein Balkendiagramm erstellen, das eine Übersicht über die zehn häufigsten Adressorte bietet. Dafür möchten wir die Größe der Grafik über den Parameter `figsize=` anpassen. Außerdem setzen wir einen Titel sowie Achsenbeschriftungen und deren Schriftgröße fest. Und ganz wichtig: Wir bringen die Balken in eine absteigende Reihenfolge. \n",
    "\n",
    "Probieren Sie gerne verschiedene Werte bei den unterschiedlichen Parametern aus und schauen Sie, wie sich die Visualisierung verändert. \n",
    "\n",
    "Matplotlib bietet eine Fülle von Möglichkeiten, die Visualisierungen nach eigenen Wünschen und Bedarfen anzupassen. Ein Blick in die [Dokumentation](https://matplotlib.org/stable/api/index.html) hilft hier weiter und viele Anregungen zur Ausgestaltung von Visualisierungen erhält man über die Beispiele in der [Matpltolib-Galerie](https://matplotlib.org/stable/gallery/index.html)"
   ]
  },
  {
   "cell_type": "code",
   "execution_count": null,
   "metadata": {},
   "outputs": [],
   "source": [
    "fig, ax = plt.subplots(figsize=(10,6))\n",
    "\n",
    "# Erstellen der zu plottenden Series \n",
    "df_top_places = df.loc[:, 'place'].value_counts()\n",
    "\n",
    "# Auswahl der 10 häufigsten Orstangabe, Definition als Balkendiagramm, Zuweisung der ax\n",
    "df_top_places.head(10).plot(kind='barh',\n",
    "                            ax=ax)\n",
    "\n",
    "# Formatierung der Überschrift des Diagramms\n",
    "ax.set_title(label='Top 10 Ortsangaben zu den versandten Briefen',\n",
    "             family='serif',\n",
    "             color='grey',\n",
    "             weight='semibold',\n",
    "             size=14\n",
    "             )\n",
    "\n",
    "# Formatierung und Beschriftung von x-Achse und y-Achse\n",
    "ax.set_xlabel('Häufigkeit',\n",
    "              size=12\n",
    "             )\n",
    "\n",
    "ax.set_ylabel('Ortsangabe',\n",
    "              size=12,\n",
    "             )\n",
    "\n",
    "# Beschriftung der Features vergrößern\n",
    "ax.set_yticklabels(ax.get_yticklabels(), \n",
    "                   size=14)\n",
    "\n",
    "# Reihenfolg der Balken invertieren\n",
    "ax.invert_yaxis()\n",
    "\n",
    "# Zeichnen nur der Gitterlinien der x-Achse\n",
    "ax.xaxis.grid(True)\n",
    "\n",
    "plt.show()"
   ]
  },
  {
   "cell_type": "markdown",
   "metadata": {},
   "source": [
    "Für die Spalten `sender` und `receiver` können wir äquivalent vorgehen - allerdings müssen wir natürlich die Beschriftungen entsprechend anpassen. \n",
    "\n",
    "**Aufgabe**: Erstellen Sie jeweils ein Diagramm zur Übersicht der häufigsten Absender und Empfänger der Briefe."
   ]
  },
  {
   "cell_type": "code",
   "execution_count": null,
   "metadata": {},
   "outputs": [],
   "source": [
    "# your code"
   ]
  },
  {
   "attachments": {},
   "cell_type": "markdown",
   "metadata": {},
   "source": [
    "### Histogramm\n",
    "\n",
    "Über ein Histogramm können wir eine Übersicht über die Verteilung der Brieflänge erhalten. Wir werden `axes`-Objekte nutzen, um unterschiedliche Histogramme mit verschiedenen Größe der *bins*, also der Anzahl der Intervalle, in die die Werte eingeordnet werden sollen, zu plotten. Beim Erstellen der *subplots* geben wir daher mit `nrows=`, die Anzahl der Zeilen an, in denen jeweils ein Histogramm zu sehen sein wird. Zusätzlich geben wir auch an, dass alle Unterdiagramme die gleichen x- bzw. y-Skalen nutzen. Bei den einzelnen 'plot'-Befehlen nutzen wir den Paramter `ax` und die Indexierung, um die einzelnen Diagramme in eine der Zeilen zu platzieren."
   ]
  },
  {
   "cell_type": "code",
   "execution_count": null,
   "metadata": {},
   "outputs": [],
   "source": [
    "fig, ax = plt.subplots(nrows=3, \n",
    "                       figsize=(12,8), \n",
    "                       sharex=True,\n",
    "                       sharey=True)\n",
    "\n",
    "df.loc[:, 'nr_token' ].plot(kind='hist', \n",
    "                            bins=30, \n",
    "                            title='bins=30',\n",
    "                            ax=ax[0])\n",
    "\n",
    "df.loc[:, 'nr_token' ].plot(kind='hist', \n",
    "                            bins=50, \n",
    "                            title='bins=50',\n",
    "                            ax=ax[1],\n",
    "                            color='green')\n",
    "\n",
    "df.loc[:, 'nr_token' ].plot(kind='hist', \n",
    "                            bins=80, \n",
    "                            title='bins=80',\n",
    "                            ax=ax[2],\n",
    "                            color='orange')\n",
    "\n",
    "# einzelne ylabel für die Unterdiagramme ausschalten\n",
    "for x in range(3):\n",
    "    ax[x].set_ylabel(ylabel='')\n",
    "\n",
    "# Beschriftungen des Gesamtdiagramms\n",
    "fig.suptitle('Verteilung der Brieflängen',\n",
    "             size=16)\n",
    "\n",
    "fig.supylabel('Häufigkeit',\n",
    "           size=14)\n",
    "\n",
    "fig.supxlabel('Anzahl',\n",
    "           size=14)\n",
    "\n",
    "fig.tight_layout()\n",
    "\n",
    "plt.show;"
   ]
  },
  {
   "attachments": {},
   "cell_type": "markdown",
   "metadata": {},
   "source": [
    "## Durchschnittliche Brieflänge nach Jahren\n",
    "\n",
    "Wenn wir unsere vorliegenden Daten nach Jahren aufbereiten wollen, haben wir ein Problem, das wir schon bemerkt haben: Nicht für jedes Jahr sind Briefe, also auch Daten, vorhanden. Wenn wir unsere gruppierten Dataframes visualisieren lassen, dann werden nur die Daten zu den darin enthaltenen Jahren gemacht. Wir benötigen also ein Weg, um auch die Jahre mit in unsere Visualisierung aufzunehmen, die nicht im Dataframe enthalten sind. \n",
    "\n",
    "Dazu erstellen wir zunächst aus einem Dictionary einen Dataframe. Das Dictionary hat nur den key `year` und somit hat der Dataframe nur die Spalte `year`. Die Werte dieser Spalte sind die Jahre zwischen 1796 und 1860, die wir als values des Dictionaries mit der `range()`-Funktion übergeben.\n",
    "\n",
    "Als nächstes gruppieren wir mit Hilfe der Datumspalte unsere bekannten Daten nach Jahren und nutzen mit der Methode `agg()` zwei Spalten, die wir aggregieren wollen: Zum einen die Spalte `nr_token` bei der wir den Durschschnitt bilden und zum anderen nutzen wir die Spalte `sender`, um mit `size` die Anzahl der Brief pro Jahr zu bestimmen. Danach ergänzen wir bei diesem Dataframe noch die Spalte `year`, die wir aus dem Index des Dataframes, der durch die Gruppierung nach Jahren eine Time-Index enthält. Dann geben wir die Dimensionalität und die ersten Zeilen dieses Dataframes aus.\n",
    "\n",
    ":::{index} single: pandas ; agg()\n",
    ":name: agg_\n",
    ":::"
   ]
  },
  {
   "cell_type": "code",
   "execution_count": null,
   "metadata": {},
   "outputs": [],
   "source": [
    "all_years = pd.DataFrame({'year': range(1796, 1860)})"
   ]
  },
  {
   "cell_type": "code",
   "execution_count": null,
   "metadata": {},
   "outputs": [],
   "source": [
    "df_grouped = df.groupby(df.loc[:, 'date'].dt.to_period('Y')).agg({'nr_token': 'mean',\n",
    "                                                                  'sender': 'size'})"
   ]
  },
  {
   "cell_type": "code",
   "execution_count": null,
   "metadata": {},
   "outputs": [],
   "source": [
    "df_grouped.loc[:, 'year'] = df_grouped.index.year\n",
    "\n",
    "print(df_grouped.shape)\n",
    "df_grouped.head()"
   ]
  },
  {
   "cell_type": "markdown",
   "metadata": {},
   "source": [
    "Jetzt {term}`*mergen*` wir die zwei Dataframes, um tatsächlich die Werte aller Jahre in der Visualisierung anzeigen zu können. Über den {term}`Parameter` `on='year'` mergen wir über die in beiden Dataframes enthaltenen Spalte `year` den Dataframe mit allen Jahreszahlen mit den ausgewählten Spalten des Dataframes, der die Grupperung nach Jahren enthält. Die leeren Werten füllen wir mit `fillna()` mit dem Wert '0' auf. Anschließend zeigen wir den Dataframe an, der nun alle 64 Jahre zwischen 1796 und 1860 sowie die drei Spalten `year`, `nr_token` und `sender` enthält.\n",
    "\n",
    ":::{index} single: pandas ; merge()\n",
    ":name: merge_\n",
    ":::\n",
    "\n",
    ":::{index} single: pandas ; fillna()\n",
    ":name: fillna_\n",
    ":::"
   ]
  },
  {
   "cell_type": "code",
   "execution_count": null,
   "metadata": {},
   "outputs": [],
   "source": [
    "df_all_years = pd.merge(all_years, \n",
    "                        df_grouped.loc[:, ['year', 'nr_token', 'sender']], \n",
    "                        on='year', \n",
    "                        how='left').fillna(0)"
   ]
  },
  {
   "cell_type": "code",
   "execution_count": null,
   "metadata": {},
   "outputs": [],
   "source": [
    "print(df_all_years.shape)\n",
    "df_all_years.head()"
   ]
  },
  {
   "cell_type": "markdown",
   "metadata": {},
   "source": [
    "Nun können wir die Daten nach Jahren - und zwar nach allen Jahren - plotten. Wir nutzen wieder eine *figure*, setzen aber zwei *axes* darauf. Eine Zeile zeigt die durchschnittliche Länge der Briefe an, das andere Balkendiagramm zeigt die Anzahl der Brief pro Jahr. Auf diese Weise können wir direkt den Bezug zwischen durchschnittlicher Brieflänge und Anzahl pro Brief herstellen. Was fällt Ihnen z.B. für das Jahr 1848 auf? Die Einstellungen zu den jeweiligen Beschriftungen des Diagramms sollte aus dem nachfolgenden Codeblock hervorgehen."
   ]
  },
  {
   "cell_type": "code",
   "execution_count": null,
   "metadata": {},
   "outputs": [],
   "source": [
    "fig, ax = plt.subplots(nrows=2, \n",
    "                       figsize=(16, 6),\n",
    "                       sharex=True)\n",
    "\n",
    "# Balkendiagramme plotten\n",
    "ax[0].bar(df_all_years.loc[:,'year'], df_all_years.loc[:, 'nr_token'])\n",
    "ax[1].bar(df_all_years.loc[:,'year'], df_all_years.loc[:, 'sender'], color='green')\n",
    "\n",
    "# Gitternetzlinien einblenden\n",
    "ax[0].yaxis.grid(True)\n",
    "ax[1].yaxis.grid(True)\n",
    "\n",
    "# Titel der einzelnen Diagramme\n",
    "ax[0].set_title('Durchschnittliche Länge der Briefe nach Jahren',\n",
    "                size=14)\n",
    "ax[1].set_title('Anzahl der Briefe nach Jahren',\n",
    "                size=14)\n",
    "\n",
    "# Beschriftung der y-Achse der einzelnen Diagrmme\n",
    "ax[0].set_ylabel('Anzahl Wörter', \n",
    "                 size=12)\n",
    "ax[1].set_ylabel('Anzahl Briefe', \n",
    "                 size=12)\n",
    "\n",
    "# Beschriftungen des Gesamtdiagramms\n",
    "fig.suptitle('Durchschnittliche Länge und Anzahl der Briefe nach Jahren zwischen 1796 und 1859',\n",
    "             size=16,\n",
    "             weight='bold')\n",
    "\n",
    "fig.supxlabel('Jahr',\n",
    "           size=14)\n",
    "\n",
    "fig.tight_layout()\n",
    "\n",
    "plt.show;"
   ]
  }
 ],
 "metadata": {
  "kernelspec": {
   "display_name": "base",
   "language": "python",
   "name": "python3"
  },
  "language_info": {
   "codemirror_mode": {
    "name": "ipython",
    "version": 3
   },
   "file_extension": ".py",
   "mimetype": "text/x-python",
   "name": "python",
   "nbconvert_exporter": "python",
   "pygments_lexer": "ipython3",
   "version": "3.9.7"
  },
  "orig_nbformat": 4
 },
 "nbformat": 4,
 "nbformat_minor": 2
}
