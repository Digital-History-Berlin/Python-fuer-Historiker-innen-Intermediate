{
 "cells": [
  {
   "attachments": {},
   "cell_type": "markdown",
   "metadata": {},
   "source": [
    "(intro-api)=\n",
    "# Einführung in Web APIs\n",
    "\n",
    ":::{index} API\n",
    ":name: api\n",
    ":::\n",
    "\n",
    "Bei einer {term}`API` (*Application Programming Interface* oder *Programmierschnittstelle*) handelt es sich ganz allgemein erstmal um einen Teil einer Softwarearchitektur, der eine Kommunikation zwischen zwei unterschiedlichen Maschinen ermöglicht. Eine API stellt Entwickler:innen Funktionen bereit, mit denen sie ihre Maschine so programmieren können, dass diese Teile der externen Maschine, die die API bereitstellt, steuern kann.  API-Funktionen haben einen *Namen* und benötigen von Ihnen vergebene {term}`Parameter`. \n",
    "\n",
    "Wenn wir im geisteswissenschaftlichen Kontext von APIs sprechen, meinen wir in der Regel *Web APIs*. Hierbei handelt es sich um spezielle APIs, die auf Webservern laufen und meist dazu genutzt werden, strukturierte oder semistrukturierte Datenbestände zu durchsuchen und herunterzuladen -- manchmal sind APIs sogar die einzige Möglichkeit, um an öffentlich bereitgestellte Daten zu kommen. Um eine Web API zu nutzen, benötigen Sie immer zwei, manchmal auch drei Informationen:\n",
    "\n",
    "* Sie müssen wissen, welche Funktionen die API, mit der Sie arbeiten wollen, bereitstellt. Nur so sind Sie in der Lage, Abfragen zu konstruieren, mit denen Sie genau die Daten aus dem Datenbestand filtern können, die Sie auch tatsächlich benötigen. Eine Auflistung der Funktionen einer API finden Sie in deren Dokumentation.\n",
    "* Sie benötigen den {term}`Endpoint` der API. Bei einem Endpoint handelt es sich um eine {term}`URI` (eine Art Webadresse/URL). Über diese Adresse können Sie die Funktionen einer API aufrufen. Einer der Endpoints der verschiedene APIs von *Europeana*, die wir in diesem Notebook nutzen, lautet z.B. [https://api.europeana.eu/](https://api.europeana.eu/).\n",
    "* Manchmal benötigen Sie außerdem noch einen {term}`Access Token` oder einen {term}`API Key`. Hierbei handelt es sich letztlich einfach nur um einen automatisch erzeugten Benutzernamen und ein Passwort. Diese Informationen erhalten Sie vom Anbieter der API. Access Token und API Key dienen der Zugriffssteuerung -- manche Anbieter wollen Ihre Daten nicht uneingeschränkt öffentlich zur Verfügung stellen oder zumindest ungefähr nachverfolgen können, von wem bestimmte Zugriffe kommen.\n",
    "\n",
    "Suchen Sie auf der Webseite des Projekts oder der Institution, an dessen Daten Sie interessiert sind, einfach nach *API* oder *Developers*. Dort finden Sie die Dokumentation sowie alle weiteren Informationen, die Sie für die Verwendung der API benötigen."
   ]
  },
  {
   "attachments": {},
   "cell_type": "markdown",
   "metadata": {},
   "source": [
    "## Abfragen konstruieren\n",
    "\n",
    "In dieser Einheit arbeiten wir mit einer der verschiedende Web APIs von [Europeana](https://www.europeana.eu/de) -- und zwar mit einer API um Inhalte digitalisierter Zeitungen abzufragen. Europeana ist ein von der EU gefördertes Projekt, das den Zugang über ein digitales Portal zu Europas Kulturellem Erbe, das in Museen und Institutionen in ganz Europa zu finden ist,  für alle Interessierten zu ermöglichen. [Hier](https://www.europeana.eu/de/about-us) finden Sie weitere Informationen zum Auftrag von Europeana.\n",
    "\n",
    "Europeana bietet verschiedene APIs zu unterschiedlichen Zwecken. Wichtig ist daher eine eingehende Auseinandersetzungen mit den Möglichkeiten und den Funktionalitäten des API-Angebots. Eine sehr ausführliche Dokumentation zu diesem Angebot finden Sie auf eigenen Seiten, die für Entwickler:innen zur Verfügung gestellt werden unter [https://pro.europeana.eu/page/search](https://pro.europeana.eu/page/search).\n",
    "\n",
    "**Aufgabe:** Machen Sie sich mit der [Dokumentation der API](https://pro.europeana.eu/page/search) von Europeana vertraut.\n"
   ]
  },
  {
   "cell_type": "markdown",
   "metadata": {},
   "source": [
    "### API Key von Europeana \n",
    "\n",
    "Einen API Key von Europeana erhalten Sie, wenn Sie die Angaben in dem Formular ausfüllen, das Sie über diesen [Link](https://pro.europeana.eu/pages/get-api) erreichen. Nachdem Sie den *terms of use* zugestimmt haben, erhalten den API Key in einer Email und können diesen bei Anfragen an die Europeana-APIs nutzen. Es entstehen keine Kosten für Sie und der Vorgang nimmt maximal nur 1 Minute in Anspruch."
   ]
  },
  {
   "attachments": {},
   "cell_type": "markdown",
   "metadata": {},
   "source": [
    "### Aufbau einer API-Anfrage\n",
    "\n",
    "https://newspapers.eanadev.org/api/v2/search.json?query=Python&qf=LANGUAGE:de&profile=hits+params&hit.selectors=10&sort=europeana_id+desc&rows=5&cursor=*&wskey=<YOUR API KEY>\n",
    "\n",
    "Sie können diesen Link einfach in Ihrem Internetbrowser aufrufen, um das Ergebnis zu erhalten. Dazu müssen Sie Ihren API-Key am Ende der URL einfügen. Ihnen wird ein {term}`JSON` angezeigt (das Sie sich auch herunterladen können).\n",
    "\n",
    "Um besser zu verstehen, wie unsere Abfrage aufgebaut ist, können wir sie in ihre Bestandteile zerlegen. Eine Übersicht der Parameter finden Sie [hier](https://pro.europeana.eu/page/search) in der Dokumentation."
   ]
  },
  {
   "cell_type": "markdown",
   "metadata": {},
   "source": [
    "```python\n",
    "https://newspapers.eanadev.org/api/v2/search.json \n",
    "# Dies ist der Endpoint der API. Hier liegen die \n",
    "# verfügbaren Funktionen. Um diese nutzen zu können, müssen Sie Ihre\n",
    "# Abfrage einfach an die Adresse des Endpoints anhängen.\n",
    "\n",
    "? \n",
    "# Auf den Endpoint folgt ein Fragezeichen. Danach kommt die Abfrage.\n",
    "\n",
    "query=Python\n",
    "# Hiermit suchen wir nach dem String 'Humboldt'. Syntaktisch beginnt die Abfrage mit dem Namen der Funktion; hinter\n",
    "# dem Gleichheitszeichen folgt der Parameter. Die genaue Syntax entnehmen Sie der Dokumentation\n",
    "# einer API.\n",
    "\n",
    "& \n",
    "# Einzelne Funktionsaufrufe werden mit einem kaufmännischen 'und' getrennt.\n",
    "\n",
    "qf=LANGUAGE:de\n",
    "# Mit qf können wir die Anfrage weiter verfeinern. Hier filtern wir die Sprache: de steht für deutsch.\n",
    "\n",
    "&\n",
    "\n",
    "profile=hits+params \n",
    "# Hiermit steuern wir das Format und Umfang der Rückgabe.\n",
    "\n",
    "&\n",
    "\n",
    "hit.selectors=10\n",
    "# Hiermit steuern wir das Format und Umfang der Rückgabe.\n",
    "\n",
    "&\n",
    "\n",
    "sort=europeana_id+desc\n",
    "# Hier geben wir die Sortierung über die ID in absteigender Folge vor.\n",
    "\n",
    "&\n",
    "\n",
    "rows=5\n",
    "# Die maximale Anzahl der Ergebnisse (also der Protokolle), die uns angezeigt\n",
    "# werden soll. Fast alle Anbieter legen hier Beschränkungen auf; bei Europeana lassen\n",
    "# sich nicht mehr als 100 Treffer in einer Abfrage zurückgeben. Auf diese Weise soll eine Überlastung\n",
    "# der Server durch zu umfangreiche Rückgaben vermieden werden. \n",
    "\n",
    "&\n",
    "\n",
    "cursor=*\n",
    "# Dieser Parameter wird als Marker genutzt, um über eine Paginierungs-Funktion alle\n",
    "# Treffer abrufen zu können (die sonst ja bei einer Anfrage auf 100 Treffer beschränkt ist.)\n",
    "\n",
    "&\n",
    "\n",
    "wskey=<YOUR API KEY>\n",
    "# Hier müssen Sie Ihren API Key eingeben, um die Anfrage durchführen zu können\n",
    "\n",
    "```"
   ]
  },
  {
   "attachments": {},
   "cell_type": "markdown",
   "metadata": {},
   "source": [
    "## APIs mit Python abfragen\n",
    "\n",
    "Idealerweise möchten wir die Daten natürlich automatisiert herunterladen und direkt weiterverarbeiten. In Python lassen sich API-Abfragen z.B. mit der `requests`-Bibliothek durchführen.\n",
    "\n",
    "Zuerst importieren wir, wie üblich, die benötigten Programmierbibliotheken. Die meisten davon kennen Sie ja bereits. Bei `pprint` (pretty-print) handelt es sich um eine Alternative zur Funktion `print()` mit der Sie sich strukturierte Daten, wie zum Beispiel {term}`JSONs`, bzw. Dictionaries formatiert (und damit lesbarer) anzeigen lassen können.\n",
    "\n",
    ":::{index} single: Bibliothek ; json\n",
    ":name: json_\n",
    ":::\n",
    "\n",
    ":::{index} single: Bibliothek ; pprint\n",
    ":name: pprint_\n",
    ":::"
   ]
  },
  {
   "cell_type": "code",
   "execution_count": null,
   "metadata": {},
   "outputs": [],
   "source": [
    "import requests\n",
    "import json\n",
    "import pprint"
   ]
  },
  {
   "attachments": {},
   "cell_type": "markdown",
   "metadata": {},
   "source": [
    "Es folgt nun die Anfrage an die API über den Endpoint:"
   ]
  },
  {
   "cell_type": "code",
   "execution_count": null,
   "metadata": {},
   "outputs": [],
   "source": [
    "# Der Endpoint der SearchAPI von Europeanna\n",
    "api_base_url = 'https://newspapers.eanadev.org/api/v2/search.json?' # => Wo ist der Link bzw. die Infos zur Newspaper-API her?\n",
    "\n",
    "# Ihr API-Key\n",
    "apikey = # <YOUR_API_KEY>\n",
    "\n",
    "# Hier konstruieren wir die Abfrage als String. \n",
    "\n",
    "query_url = api_base_url + 'query=Python'\n",
    "query_url += '&qf=LANGUAGE:de'\n",
    "query_url += '&profile=hits+params'\n",
    "query_url += '&hit.selectors=10'\n",
    "query_url += '&sort=europeana_id+desc'\n",
    "query_url += '&rows=5'\n",
    "query_url += '&cursor=*'\n",
    "query_url += '&wskey=' + apikey\n",
    "\n",
    "print(query_url)"
   ]
  },
  {
   "attachments": {},
   "cell_type": "markdown",
   "metadata": {},
   "source": [
    "Mit der Funktion `json()` der `requests`-Bibliothek können Sie das JSON als Dictionary {term}`parsen`. Um Programmfehler zu vermeiden haben wir in diesem Beispiel außerdem eine if-Abfrage zur Sicherung eingebaut. Der Variable `response_content` wird nur dann ein Wert zugewiesen, wenn unsere Anfrage an den {term}`Server` auch tatsächlich mit Daten beantwortet wird. Bei jeder Anfrage an einen Server gibt dieser einen *HTTP-Statuscode* zurück. Auf diese Weise lassen sich Fehler eingrenzen -- so legt ein {term}`Statuscode` z.B. fest, ob der Fehler auf Client- oder Server-Seite liegt. Einen Überblick über alle HTTP-Statuscodes finden Sie z.B. [hier](https://de.wikipedia.org/wiki/HTTP-Statuscode) oder [hier](https://http.cat/).\n"
   ]
  },
  {
   "cell_type": "code",
   "execution_count": null,
   "metadata": {},
   "outputs": [],
   "source": [
    "# Hier wird die Abfrage an den Server von Europeana gesandt.\n",
    "response = requests.get(query_url)\n",
    "\n",
    "if response.status_code == 200:\n",
    "  response_content = response.json()\n",
    "else:\n",
    "  response_content = None\n",
    "\n",
    "pprint.pprint(response_content)"
   ]
  },
  {
   "cell_type": "markdown",
   "metadata": {},
   "source": [
    "\n",
    "## Abfrage mit Header\n",
    "\n",
    ":::{index} Header\n",
    ":name: header\n",
    ":::\n",
    "\n",
    "Eine Alternative ist die API-Abfrage mit einem {term}`*Header*`. Dies bietet sich insbesondere an, wenn Abfragen besonders komplex sind oder deren Bestandteile von Ihrem Python-Programm gesteuert werden sollen. Für das `requests`-Modul wird ein Header als Dictionary definiert und der Funktion `get()` zusammen mit dem Endpoint der API als Parameter übergeben. Durch die Verwendung eines Dictionaries sparen Sie sich die Hantierung mit komplexen Strings, wie im oberen Beispiel. Ansonsten unterscheidet sich der folgende Codeblock nur marginal vom vorigen."
   ]
  },
  {
   "cell_type": "code",
   "execution_count": null,
   "metadata": {},
   "outputs": [],
   "source": [
    "api_base_url = 'https://newspapers.eanadev.org/api/v2/search.json?'\n",
    "\n",
    "request_header = {'query': 'Python', \n",
    "                  'qf': 'LANGUAGE:de', \n",
    "                  'profile': 'hits+params', \n",
    "                  'hit.selectors': '5', \n",
    "                  'sort': 'europeana_id+desc', \n",
    "                  'rows': '100', \n",
    "                  'start': '1',\n",
    "                  #'cursor': '*',\n",
    "                  'wskey': apikey}\n",
    "\n",
    "response = requests.get(api_base_url, request_header)\n",
    "\n",
    "if response.status_code == 200:\n",
    "  response_content = response.json()\n",
    "else:\n",
    "  response_content = None\n",
    "\n",
    "pprint.pprint(response_content)"
   ]
  },
  {
   "attachments": {},
   "cell_type": "markdown",
   "metadata": {},
   "source": [
    " Wie bereits weiter oben beschrieben beschränken die meisten APIs die Anzahl der Ergebnisse, die sich bei einer Abfrage herunterladen lassen. Um trotzdem alle möglichen Ergebnisse erhalten zu können, bieten viele APIs eine virtuelle Paginierung an (Details finden Sie in der jeweiligen Dokumentation, in unserem Falle [hier](https://pro.europeana.eu/page/search#pagination)). Im obigen Beispiel legen wir fest, dass wir nur 5 Ergebnisse der insgesamt 842 Treffer unserer Abfrage zum String 'Python' zurückbekommen wollen. Möchten wir 842 Treffer erhalten, müssen wir die API-Abfrage mehrmals an den Server senden und dabei den *cursor marker* entsprechend anpassen.\n",
    "\n",
    "Um die Auslastung der Server des API-Anbieters möglichst gering zu halten, empfiehlt es sich nach jeder Abfrage eine kurze Wartepause einzulegen, bevor man mit der nächsten fortfährt. In Python kann man solche Pausen mit Hilfe der Funktion `sleep()` aus der Bibliothek `time` sehr leicht implementieren:\n",
    "\n",
    ":::{index} single: Bibliothek ; time\n",
    ":name: time_\n",
    ":::"
   ]
  },
  {
   "cell_type": "code",
   "execution_count": null,
   "metadata": {},
   "outputs": [],
   "source": [
    "import time\n",
    "\n",
    "print('Warte 2 Sekunden')\n",
    "time.sleep(2)\n",
    "print('Fertig')"
   ]
  },
  {
   "cell_type": "markdown",
   "metadata": {},
   "source": [
    "## API-Daten für die Auswertung aufbereiten\n",
    "\n",
    "Um die Daten, die von einer API abgerufen wurden, aufzubereiten, bedarf es je nach API und nach Rückgabeformat unterschiedliche Schritte. Wir werden uns daher im nächsten [Kapitel](correspsearch-api) mit weiteren APIs und API-Anfragen befassen. Zudem haben wir die [Übungsaufgabe](aufgabe-api) am Ende dieses Kapitel so gestaltet, dass Sie fremden Coden nachvollziehen und verstehen. Hier wird es darum gehen, wie für das obige Beispiel die Daten für eine erste Auswertung aufbereitet werden können.\n",
    "\n",
    "Wie das Auslesen dieser Informationen bei einer gewöhnlichen Webseite in HTML mit Hilfe von BeautifulSoup funktioniert, werden wir in den nächsten Abschnitten durchgehen. Zunächst noch ein kurzer Exkurs zu den Grundlagen von HTML."
   ]
  }
 ],
 "metadata": {
  "kernelspec": {
   "display_name": "base",
   "language": "python",
   "name": "python3"
  },
  "language_info": {
   "codemirror_mode": {
    "name": "ipython",
    "version": 3
   },
   "file_extension": ".py",
   "mimetype": "text/x-python",
   "name": "python",
   "nbconvert_exporter": "python",
   "pygments_lexer": "ipython3",
   "version": "3.9.7"
  },
  "orig_nbformat": 4
 },
 "nbformat": 4,
 "nbformat_minor": 2
}
