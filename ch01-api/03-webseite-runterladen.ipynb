{
 "cells": [
  {
   "attachments": {},
   "cell_type": "markdown",
   "metadata": {},
   "source": [
    "# Webseiten herunterladen mit requests\n",
    "\n",
    "Mit der Python-Bibliothek [`requests`](https://requests.readthedocs.io/en/master/) können Dateien oder Webseiten ganz einfach heruntergeladen werden. Sie ist nicht standardmäßig in Python integriert und muss daher gegebenenfalls, je nachdem in welcher Form Sie Python nutzen, heruntergeladen werden. Um zu testen, ob Sie die `requests`-Bibliothek bereits installiert haben, können Sie wie gewohnt den `import`-Befehl ausführen:"
   ]
  },
  {
   "cell_type": "code",
   "execution_count": null,
   "metadata": {},
   "outputs": [],
   "source": [
    "import requests"
   ]
  },
  {
   "attachments": {},
   "cell_type": "markdown",
   "metadata": {},
   "source": [
    "Wir wollen nun zunächst eine Website herunterladen. Dazu nutzen wir die `get`-Funktion von `requests` und übergeben ihr eine URL als Zeichenkette. In diesem Fall wollen wir die [Startseite der Digital History Professur](https://www.geschichte.hu-berlin.de/de/bereiche-und-lehrstuehle/digital-history)  herunterladen. \n",
    "\n",
    "Für die Anfrage und den Download benötigen Sie lediglich eine Zeile Code, anschließend prüfen wir den von `requets.get()` zurückgelieferten Datentyp."
   ]
  },
  {
   "cell_type": "code",
   "execution_count": null,
   "metadata": {},
   "outputs": [],
   "source": [
    "response = requests.get('https://www.geschichte.hu-berlin.de/de/bereiche-und-lehrstuehle/digital-history')\n",
    "type(response)"
   ]
  },
  {
   "cell_type": "markdown",
   "metadata": {},
   "source": [
    "Die `get`-Funktion liefert ein sogenanntes `Response`-Objekt zurück, das im Prinzip eine Repräsentation der angefragten Ressource darstellt.\n",
    "\n",
    "Ob ein Download erfolgreich war, können Sie über die Abfrage des Status-Codes prüfen. Der Code \"200\" signalisiert, dass der Download erfolgreich war. Codes, die mit einer 4 oder einer 3 beginnen, deuten hingegen darauf hin, dass Fehler aufgetreten sind."
   ]
  },
  {
   "cell_type": "code",
   "execution_count": null,
   "metadata": {},
   "outputs": [],
   "source": [
    "response.status_code"
   ]
  },
  {
   "cell_type": "markdown",
   "metadata": {},
   "source": [
    "Wenn der Download erfolgreich war, dann wird die Webseite als Zeichenkette im `Response`-Objekt gespeichert und kann über die `text`-Funktion abgerufen werden:"
   ]
  },
  {
   "cell_type": "code",
   "execution_count": null,
   "metadata": {},
   "outputs": [],
   "source": [
    "response.text"
   ]
  },
  {
   "cell_type": "markdown",
   "metadata": {},
   "source": [
    "Man kann dann z.B. auch den Zeichensatz prüfen:"
   ]
  },
  {
   "cell_type": "code",
   "execution_count": null,
   "metadata": {},
   "outputs": [],
   "source": [
    "response.encoding"
   ]
  },
  {
   "cell_type": "markdown",
   "metadata": {},
   "source": [
    "Erwartet man andere Daten als Text, verwendet man `.content`, dann wird das Response-Objekt im binären Format wiedergegeben:"
   ]
  },
  {
   "cell_type": "code",
   "execution_count": null,
   "metadata": {},
   "outputs": [],
   "source": [
    "response.content"
   ]
  },
  {
   "cell_type": "markdown",
   "metadata": {},
   "source": [
    "Sie können noch viele weitere Dinge mit der `requests`-Bibliothek anstellen. Arbeiten Sie sich bei Bedarf einfach durch die [Dokumentation](https://requests.readthedocs.io/en/master/). \n",
    "\n"
   ]
  }
 ],
 "metadata": {
  "kernelspec": {
   "display_name": "base",
   "language": "python",
   "name": "python3"
  },
  "language_info": {
   "codemirror_mode": {
    "name": "ipython",
    "version": 3
   },
   "file_extension": ".py",
   "mimetype": "text/x-python",
   "name": "python",
   "nbconvert_exporter": "python",
   "pygments_lexer": "ipython3",
   "version": "3.9.7"
  },
  "orig_nbformat": 4
 },
 "nbformat": 4,
 "nbformat_minor": 2
}
