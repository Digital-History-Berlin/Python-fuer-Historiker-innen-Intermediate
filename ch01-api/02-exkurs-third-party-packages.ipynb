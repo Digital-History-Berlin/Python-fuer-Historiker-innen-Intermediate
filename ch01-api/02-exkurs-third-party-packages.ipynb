{
 "cells": [
  {
   "cell_type": "markdown",
   "metadata": {},
   "source": [
    "# Exkurs: Installation von Third-Party-Paketen\n",
    "Für die Installation von Third-Party-Paketen gibt es unterschiedliche Wege. Letztlich besteht jedes Paket einfach nur aus einer kleineren oder größeren Anzahl von Python-Modulen (= einzelnen .py-Dateien), die bestimmte Funktionen bereitstellen. Theoretisch könnten Sie also auch jedes Paket von Hand installieren. Einfacher und gebräuchlicher ist die Nutzung eines Paketverwaltungsprogramms. Dieses hat Zugriff auf das zentrale Repositorium [Python Package Index (PyPI)](https://pypi.org/). Sie können sich das wie einen AppStore für Third-Party-Pakete für Python vorstellen.\n",
    "\n",
    "Üblicherweise steuern Sie Paketverwaltungsprogramme über die Kommandozeile -- meist mit dem Paketverwaltungsprogramm [PIP (**P**ip **I**nstalls **P**ackages)](https://pip.pypa.io/en/stable/) oder, wenn Sie die Anaconda-Distribution nutzen, dem [Conda-Paketverwaltungsprogramm](https://docs.conda.io/en/latest/).\n",
    "\n",
    "PIP wird mit der Installation von Python ab der Version 3.4 unter Windows und macOS bereits mitgeliefert. Unter Linux muss es gegebenenfalls separat installiert werden. Befolgen Sie dazu die entsprechenden Hinweise in der [Dokumentation](https://pip.pypa.io/en/stable/).\n",
    "\n",
    "Conda ist ein analoges System speziell für die Anaconda-Distribution, das ebenfalls auf den Python Package Index zugreift.\n",
    "\n",
    "Zur Installation eines Pakets geben Sie einfach den folgenden Befehl in Ihr Terminal ein:\n",
    "\n",
    "- `pip install <package-name>`, also zum Beispiel `pip install requests`\n",
    "- `conda install <package-name>`, also zum Beispiel `conda install requests`\n",
    "\n",
    "Sie können Kommandozeilenbefehle in einem Notebook einfach ausführen, indem Sie dem Befehl ein Ausrufezeichen `!` voranstellen. Das können wir nutzen um die Funktionsweise von `pip` kurz zu demonstrieren (Mit `conda` funktionieren die Befehle analog):"
   ]
  },
  {
   "cell_type": "code",
   "execution_count": null,
   "metadata": {},
   "outputs": [],
   "source": [
    "!pip list"
   ]
  }
 ],
 "metadata": {
  "language_info": {
   "name": "python"
  }
 },
 "nbformat": 4,
 "nbformat_minor": 2
}
