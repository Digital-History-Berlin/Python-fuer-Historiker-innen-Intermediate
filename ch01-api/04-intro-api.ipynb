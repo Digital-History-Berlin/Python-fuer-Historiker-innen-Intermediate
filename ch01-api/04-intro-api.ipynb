{
 "cells": [
  {
   "attachments": {},
   "cell_type": "markdown",
   "metadata": {},
   "source": [
    "# Einführung in Web APIs\n",
    "\n",
    "Bei einer API (*Application Programming Interface* oder *Programmierschnittstelle*) handelt es sich ganz allgemein erstmal um einen Teil einer Softwarearchitektur, der eine Kommunikation zwischen zwei unterschiedlichen Maschinen ermöglicht. Eine API stellt Entwickler:innen Funktionen bereit, mit denen sie ihre Maschine so programmieren können, dass diese Teile der externen Maschine, die die API bereitstellt, steuern kann.  API-Funktionen haben einen *Namen* und benötigen von Ihnen vergebene *Parameter*. \n",
    "\n",
    "Wenn wir im geisteswissenschaftlichen Kontext von APIs sprechen, meinen wir in der Regel *Web APIs*. Hierbei handelt es sich um spezielle APIs, die auf Webservern laufen und meist dazu genutzt werden, strukturierte oder semistrukturierte Datenbestände zu durchsuchen und herunterzuladen -- manchmal sind APIs sogar die einzige Möglichkeit, um an öffentlich bereitgestellte Daten zu kommen. Um eine Web API zu nutzen, benötigen Sie immer zwei, manchmal auch drei Informationen:\n",
    "\n",
    "* Sie müssen wissen, welche Funktionen die API, mit der Sie arbeiten wollen, bereitstellt. Nur so sind Sie in der Lage, Abfragen zu konstruieren, mit denen Sie genau die Daten aus dem Datenbestand filtern können, die Sie auch tatsächlich benötigen. Eine Auflistung der Funktionen einer API finden Sie in deren Dokumentation.\n",
    "* Sie benötigen den *Endpoint* der API. Bei einem Endpoint handelt es sich um eine URI (eine Art Webadresse/URL). Über diese Adresse können Sie die Funktionen einer API aufrufen. Der Endpoint der API von *Old Baley Online*, die wir in diesem Notebook nutzen, lautet z.B. [http://www.oldbaileyonline.org/obapi/ob](http://www.oldbaileyonline.org/obapi/ob).\n",
    "* Manchmal benötigen Sie außerdem noch einen *Access Token*. Hierbei handelt es sich letztlich einfach nur um einen automatisch erzeugten Benutzernamen und ein Passwort. Diese Informationen erhalten Sie vom Anbieter der API. Access Token dienen der Zugriffssteuerung -- manche Anbieter wollen Ihre Daten nicht uneingeschränkt öffentlich zur Verfügung stellen oder zumindest ungefähr nachverfolgen können, von wem bestimmte Zugriffe kommen.\n",
    "\n",
    "Suchen Sie auf der Webseite des Projekts oder der Institution, an dessen Daten Sie interessiert sind, einfach nach *API* oder *Developers*. Dort finden Sie die Dokumentation sowie alle weiteren Informationen, die Sie für die Verwendung der API benötigen."
   ]
  },
  {
   "attachments": {},
   "cell_type": "markdown",
   "metadata": {},
   "source": [
    "## Abfragen konstruieren\n",
    "\n",
    "In dieser Einheit arbeiten wir mit der Web API von [Old Bailey Online](https://www.oldbaileyonline.org/index.jsp). Das Projekt der Universitäten in Hertfordshire, Sheffield sowie der Open University stellt die erhaltenen Gerichtsprotokolle des Zentralen Strafgerichtshofes von London der Jahre 1674 bis 1913 vollständig digitalisiert und mit Metadaten angereichert zur Verfügung. \n",
    "\n",
    "Mit der API des Projekts lassen sich nun einzelne Gerichtsprotokolle nach vordefinierten Kriterien (z.B. Vergehen, Geschlecht von Täter und Opfer, oder Strafmaß) filtern und auswählen. Auf diese Weise können wir mit relativ geringem Programmieraufwand einzelne Texte aus der Datenbank herunterladen und zur Weiterverarbeitung aufbereiten."
   ]
  },
  {
   "attachments": {},
   "cell_type": "markdown",
   "metadata": {},
   "source": [
    "**Aufgabe:** Lesen Sie sich die [Dokumentation der API](https://www.oldbaileyonline.org/static/DocAPI.jsp) von Old Bailey Online durch. Werfen Sie dabei auch schonmal einen Blick in die [Übersicht der Funktionen der API](https://www.oldbaileyonline.org/obapi/terms)."
   ]
  },
  {
   "attachments": {},
   "cell_type": "markdown",
   "metadata": {},
   "source": [
    "**http://www.oldbaileyonline.org/obapi/ob?term0=offcat_violentTheft&term1=vercat_guilty&breakdown=punsubcat&count=10**\n",
    "\n",
    "Sie können diesen Link einfach in Ihrem Internetbrowser aufrufen um das Ergebnis zu erhalten. Ihnen wird ein JSON angezeigt (das Sie sich auch herunterladen können), wo Sie unter *breakdown* die von uns angefragten Statistiken zu den Strafen und unter *hits* die IDs der von uns benötigten Gerichtsprotokolle finden.\n",
    "\n",
    "Um besser zu verstehen, wie unsere Abfrage aufgebaut ist, können wir sie in ihre Bestandteile zerlegen:\n",
    "(Den folgenden Codeblock müssen und können Sie nicht ausführen. Er dient nur der Illustration der Zusammensetzung einer API-Abfrage.)"
   ]
  },
  {
   "cell_type": "code",
   "execution_count": null,
   "metadata": {},
   "outputs": [],
   "source": [
    "http://www.oldbaileyonline.org/obapi/ob \n",
    "# Dies ist der Endpoint der API. Hier liegen die \n",
    "# verfügbaren Funktionen. Um diese nutzen zu können, müssen Sie Ihre\n",
    "# Abfrage einfach an die Adresse des Endpoints anhängen.\n",
    "\n",
    "? \n",
    "# Auf den Endpoint folgt ein Fragezeichen. Danach kommt die Abfrage.\n",
    "\n",
    "term0=offcat_violentTheft \n",
    "# Hiermit suchen wir nach allen Fällen, in denen der Vorwurf\n",
    "# \"violent theft\" lautet. Syntaktisch beginnt die Abfrage mit dem Namen der Funktion; hinter\n",
    "# dem Gleichheitszeichen folgt der Parameter. Die genaue Syntax entnehmen Sie der Dokumentation\n",
    "# einer API.\n",
    "\n",
    "& \n",
    "# Einzelne Funktionsaufrufe werden mit einem kaufmännischen Und getrennt.\n",
    "\n",
    "term1=vercat_guilty \n",
    "# Hiermit filtern wir die Fälle heraus, in denen der oder die\n",
    "# Angeklagte für schuldig befunden wurde.\n",
    "\n",
    "&\n",
    "\n",
    "breakdown=punsubcat \n",
    "# Hiermit fragen wir ab welche und wie oft bestimmte Strafen verhängt wurden.\n",
    "\n",
    "&\n",
    "\n",
    "count=10  \n",
    "# Die maximale Anzahl der Ergebnisse (also der Protokolle) die uns angezeigt\n",
    "# werden soll. Fast alle Anbieter legen hier Beschränkungen auf; bei Old Bailey Online lassen\n",
    "# sich nicht mehr als 1.000 Protokolle in einer Abfrage zurückgeben. Auf diese Weise soll eine Überlastung\n",
    "# der Server durch zu umfangreiche Rückgaben vermieden werden. Wie Sie trotzdem alle zu\n",
    "# Ihrer Abfrage passenden Daten herunterladen können, sehen wir uns weiter hinten im Notebook an."
   ]
  },
  {
   "attachments": {},
   "cell_type": "markdown",
   "metadata": {},
   "source": [
    "## APIs mit Python abfragen\n",
    "\n",
    "Idealerweise möchten wir die Daten natürlich automatisiert herunterladen und direkt weiterverarbeiten. In Python lassen sich API-Abfragen z.B. mit der `requests`-Bibliothek durchführen.\n",
    "\n",
    "Zuerst importieren wir, wie üblich, die benötigten Programmbibliotheken. Die meisten davon kennen Sie ja bereits. Bei `pprint` (pretty-print) handelt es sich um eine Alternative zur Funktion `print()` mit der Sie sich strukturierte Daten, wie zum Beispiel\n",
    " JSONs, bzw. Dictionaries formatiert (und damit lesbarer) anzeigen lassen können."
   ]
  },
  {
   "cell_type": "code",
   "execution_count": null,
   "metadata": {},
   "outputs": [],
   "source": [
    "import json\n",
    "import pprint"
   ]
  },
  {
   "attachments": {},
   "cell_type": "markdown",
   "metadata": {},
   "source": [
    "Es folgt nun die Anfrage an die API über den Endpoint:"
   ]
  },
  {
   "cell_type": "code",
   "execution_count": null,
   "metadata": {},
   "outputs": [],
   "source": [
    "# Der Endpoint von Old Baily Online\n",
    "api_base_url = 'http://www.oldbaileyonline.org/obapi/ob'\n",
    "\n",
    "# Hier konstruieren wir die Abfrage als String. Die Abfrage\n",
    "# ist identisch zu der im vorletzten Codeblock.\n",
    "query_url = api_base_url + '?term0=offcat_violentTheft'\n",
    "query_url += '&term1=vercat_guilty'\n",
    "query_url += '&breakdown=punsubcat'\n",
    "query_url += '&count=10'\n",
    "\n",
    "# Hier wird die Abfrage an den Server von Old Baily Online gesandt.\n",
    "response = requests.get(query_url)\n",
    "\n",
    "if response.status_code == 200:\n",
    "  response_content = response.json()\n",
    "else:\n",
    "  response_content = None\n",
    "\n",
    "pprint.pprint(response_content)"
   ]
  },
  {
   "attachments": {},
   "cell_type": "markdown",
   "metadata": {},
   "source": [
    "Mit der Funktion `json()` der `requests`-Bibliothek können Sie das JSON als Dictionary parsen. Um Programmfehler zu vermeiden haben wir in diesem Beispiel außerdem eine if-Abfrage zur Sicherung eingebaut. Der Variable `response_content` wird nur dann ein Wert zugewiesen, wenn unsere Anfrage an den Server auch tatsächlich mit Daten beantwortet wird. Bei jeder Anfrage an einen Server gibt dieser einen *HTTP-Statuscode* zurück. Auf diese Weise lassen sich Fehler eingrenzen -- so legt ein Statuscode z.B. fest, ob der Fehler auf Client- oder Server-Seite liegt. Einen Überblick über alle HTTP-Statuscodes finden Sie z.B. [hier](https://de.wikipedia.org/wiki/HTTP-Statuscode) oder [hier](https://http.cat/).\n",
    "\n",
    "## Abfrage mit Header\n",
    "\n",
    "Eine Alternative ist die API-Abfrage mit einem *Header*. Dies bietet sich insbesondere an, wenn Abfragen besonders komplex sind oder deren Bestandteile von Ihrem Python-Programm gesteuert werden sollen. Für das `requests`-Modul wird ein Header als Dictionary definiert und der Funktion `get()` zusammen mit dem Endpoint der API als Parameter übergeben. Durch die Verwendung eines Dictionaries sparen Sie sich die Hantierung mit komplexen Strings, wie im oberen Beispiel. Ansonsten unterscheidet sich der folgende Codeblock nur marginal vom vorigen."
   ]
  },
  {
   "cell_type": "code",
   "execution_count": null,
   "metadata": {},
   "outputs": [],
   "source": [
    "api_base_url = 'http://www.oldbaileyonline.org/obapi/ob'\n",
    "\n",
    "request_header = {\n",
    "    'term0': 'offcat_violentTheft',\n",
    "    'term1': 'vercat_guilty',\n",
    "    'breakdown': 'punsubcat',\n",
    "    'count': '10',\n",
    "    'start': '0'\n",
    "}\n",
    "\n",
    "response = requests.get(api_base_url, request_header)\n",
    "\n",
    "if response.status_code == 200:\n",
    "  response_content = response.json()\n",
    "else:\n",
    "  response_content = None\n",
    "\n",
    "pprint.pprint(response_content)"
   ]
  },
  {
   "attachments": {},
   "cell_type": "markdown",
   "metadata": {},
   "source": [
    "Zu unserer API-Abfrage ist nur der Parameter `start` hinzugekommen. Wie bereits weiter oben beschrieben beschränken die meisten APIs die Anzahl der Ergebnisse, die sich bei einer Abfrage herunterladen lassen. Um trotzdem alle möglichen Ergebnisse erhalten zu können, bieten viele APIs eine virtuelle Paginierung an (Details finden Sie in der jeweiligen Dokumentation). Im obigen Beispiel legen wir fest, dass wir nur 10 Ergebnisse der insgesamt 5760 Treffer unserer Abfrage zurückbekommen wollen. Mit `start=0` legen wir fest, dass das erste dieser zehn Teilergebnisse auch das erste Ergebnis aller möglichen Treffer sein soll. Würden wir `start=4000` setzen, würden wir die Ergebnisse 4001 bis 4011 aller möglichen Treffer zurückbekommen. Möchten wir die Protokoll-IDs aller 5760 Treffer erhalten, müssen wir die API-Abfrage mehrmals an den Server senden und dabei `start` jedes Mal entsprechend erhöhen.\n",
    "\n",
    "Um die Auslastung der Server des API-Anbieters möglichst gering zu halten, empfiehlt es sich nach jeder Abfrage eine kurze Wartepause einzulegen, bevor man mit der nächsten fortfährt. In Python kann man solche Pausen mit Hilfe der Funktion `sleep()` aus der Bibliothek `time` sehr leicht implementieren:"
   ]
  },
  {
   "cell_type": "code",
   "execution_count": null,
   "metadata": {},
   "outputs": [],
   "source": [
    "import time\n",
    "\n",
    "print('Warte 2 Sekunden')\n",
    "time.sleep(2)\n",
    "print('Fertig')"
   ]
  },
  {
   "attachments": {},
   "cell_type": "markdown",
   "metadata": {},
   "source": [
    "## Aufgabe\n",
    "Entwickeln Sie eine eigene Abfrage, mit der Sie sich die IDs der Gerichtsprotokolle von Old Bailey Online nach von Ihnen gewählten Kriterien zurückgeben lassen können. Speichern Sie alle(!) IDs in einer Liste. Berücksichtigen Sie, dass Sie zwischen den Abfragen eine kurze Wartepause einbauen."
   ]
  },
  {
   "cell_type": "code",
   "execution_count": null,
   "metadata": {},
   "outputs": [],
   "source": [
    "# your code"
   ]
  },
  {
   "attachments": {},
   "cell_type": "markdown",
   "metadata": {},
   "source": [
    "## Daten herunterladen\n",
    "\n",
    "Nun haben wir eine Liste von IDs, müssen aber natürlich auch noch die Gerichtsprotokolle an sich herunterladen. Um herauszufinden, wie wir an die Texte selbst kommen, können wir wieder die Dokumentation der API von Old Bailey Online konsultieren. Zum Download einzelner Texte wird ein eigener Endpoint bereitgestellt. So können wir den ersten Text aus unserer ersten Abfrage z.B. auf folgende Weise herunterladen:"
   ]
  },
  {
   "cell_type": "code",
   "execution_count": null,
   "metadata": {},
   "outputs": [],
   "source": [
    "api_base_url = 'http://www.oldbaileyonline.org/obapi/text'\n",
    "\n",
    "request_header = {\n",
    "    'div': 't16751013-5'\n",
    "}\n",
    "\n",
    "response = requests.get(api_base_url, request_header)\n",
    "\n",
    "if response.status_code == 200:\n",
    "  response_content = response.text\n",
    "\n",
    "print(response_content)"
   ]
  },
  {
   "attachments": {},
   "cell_type": "markdown",
   "metadata": {},
   "source": [
    "Das Ergebnis erhalten Sie als XML-Datei. Zum Vergleich können Sie sich das Protokoll auf der [Webseite](https://www.oldbaileyonline.org/browse.jsp?id=ft18110529-18&div=t16751013-5) ansehen. Die API gibt Ihnen das Dokument als XML zurück. XML ist, ähnlich wie HTML, eine Auszeichnungssprache mit der bestimmte Elemente eines Dokuments maschinenlesbar gemacht werden können. Tags und deren Attribute funktionieren in XML analog wie bei HTML. Sie können die XML-Struktur eines Dokuments oftmals auch dazu nutzen, um mit geringem Aufwand Informationen auszulesen. Im Fall der Gerichtsprotokolle sind unter anderem Personennamen, Ortsnamen und Straftatbestände als solche in den Texten mit eigenen XML-Tags ausgezeichnet. Sie können solche Informationen mit Hilfe von BeautifulSoup extrahieren.\n",
    "\n",
    "Wie das Auslesen dieser Informationen bei einer  gewöhnlichen Webseite in HTML mit Hilfe von BeautifulSoup funktioniert, werden wir in den nächsten Abschnitten durchgehen. Zunächst noch ein kurzer Exkurs zu den Grundlagen von HTML."
   ]
  }
 ],
 "metadata": {
  "kernelspec": {
   "display_name": "base",
   "language": "python",
   "name": "python3"
  },
  "language_info": {
   "codemirror_mode": {
    "name": "ipython",
    "version": 3
   },
   "file_extension": ".py",
   "mimetype": "text/x-python",
   "name": "python",
   "nbconvert_exporter": "python",
   "pygments_lexer": "ipython3",
   "version": "3.9.7"
  },
  "orig_nbformat": 4
 },
 "nbformat": 4,
 "nbformat_minor": 2
}
